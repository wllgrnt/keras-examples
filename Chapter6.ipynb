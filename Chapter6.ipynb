{
  "nbformat": 4,
  "nbformat_minor": 0,
  "metadata": {
    "colab": {
      "name": "Chapter6.ipynb",
      "version": "0.3.2",
      "provenance": [],
      "collapsed_sections": [
        "omQriJnM3mIV",
        "DxubvLSsl1MQ"
      ],
      "include_colab_link": true
    },
    "kernelspec": {
      "name": "python3",
      "display_name": "Python 3"
    },
    "accelerator": "GPU"
  },
  "cells": [
    {
      "cell_type": "markdown",
      "metadata": {
        "id": "view-in-github",
        "colab_type": "text"
      },
      "source": [
        "<a href=\"https://colab.research.google.com/github/wllgrnt/keras-examples/blob/master/Chapter6.ipynb\" target=\"_parent\"><img src=\"https://colab.research.google.com/assets/colab-badge.svg\" alt=\"Open In Colab\"/></a>"
      ]
    },
    {
      "cell_type": "markdown",
      "metadata": {
        "id": "6S8V9nC03dF_",
        "colab_type": "text"
      },
      "source": [
        "# Chapter 6\n",
        "## Deep Learning for text and sequences"
      ]
    },
    {
      "cell_type": "code",
      "metadata": {
        "id": "0LGovmMW_brs",
        "colab_type": "code",
        "colab": {}
      },
      "source": [
        "import keras\n",
        "import numpy as np\n",
        "import string\n",
        "import zipfile\n",
        "import os\n",
        "import matplotlib.pyplot as plt\n",
        "import pandas as pd\n",
        "\n",
        "from google.colab import drive\n",
        "drive.mount('/content/drive/')\n"
      ],
      "execution_count": 0,
      "outputs": []
    },
    {
      "cell_type": "markdown",
      "metadata": {
        "id": "omQriJnM3mIV",
        "colab_type": "text"
      },
      "source": [
        "## Working with text data\n",
        "\n",
        "Before we run a deep learning model on text, we have to convert the text into a numeric tensor. We can e.g. segment into words, segment into characters, or extract n-grams - this is tokenisation. Then we associate each token with a vector, and pack those vectors into a tensor. Here we look at two ways of associating a word with a token:\n"
      ]
    },
    {
      "cell_type": "markdown",
      "metadata": {
        "id": "9VcbFcZX-rGZ",
        "colab_type": "text"
      },
      "source": [
        "### One-hot encoding"
      ]
    },
    {
      "cell_type": "code",
      "metadata": {
        "id": "H_2LA4Mm_ZWJ",
        "colab_type": "code",
        "outputId": "3733e195-754b-488f-d38f-6446079e14f7",
        "colab": {
          "base_uri": "https://localhost:8080/",
          "height": 403
        }
      },
      "source": [
        "# Word-level one-hot encoding\n",
        "\n",
        "# Here we ignore special characters and punctuation.\n",
        "samples = [\"The cat sat on the mat.\", \"The dog ate my homework.\"]\n",
        "\n",
        "token_index = {}\n",
        "for sample in samples:\n",
        "  for word in sample.split():\n",
        "    if word not in token_index:\n",
        "      token_index[word] = len(token_index) + 1\n",
        "      \n",
        "# Only consider the first max_length words in each sample\n",
        "max_length = 10\n",
        "\n",
        "results = np.zeros(shape=(len(samples), max_length, max(token_index.values())+1))\n",
        "for i, sample in enumerate(samples):\n",
        "  for j, word in list(enumerate(sample.split()))[:max_length]:\n",
        "    index = token_index.get(word)\n",
        "    results[i,j,index] = 1\n",
        "    \n",
        "print(results)"
      ],
      "execution_count": 0,
      "outputs": [
        {
          "output_type": "stream",
          "text": [
            "[[[0. 1. 0. 0. 0. 0. 0. 0. 0. 0. 0.]\n",
            "  [0. 0. 1. 0. 0. 0. 0. 0. 0. 0. 0.]\n",
            "  [0. 0. 0. 1. 0. 0. 0. 0. 0. 0. 0.]\n",
            "  [0. 0. 0. 0. 1. 0. 0. 0. 0. 0. 0.]\n",
            "  [0. 0. 0. 0. 0. 1. 0. 0. 0. 0. 0.]\n",
            "  [0. 0. 0. 0. 0. 0. 1. 0. 0. 0. 0.]\n",
            "  [0. 0. 0. 0. 0. 0. 0. 0. 0. 0. 0.]\n",
            "  [0. 0. 0. 0. 0. 0. 0. 0. 0. 0. 0.]\n",
            "  [0. 0. 0. 0. 0. 0. 0. 0. 0. 0. 0.]\n",
            "  [0. 0. 0. 0. 0. 0. 0. 0. 0. 0. 0.]]\n",
            "\n",
            " [[0. 1. 0. 0. 0. 0. 0. 0. 0. 0. 0.]\n",
            "  [0. 0. 0. 0. 0. 0. 0. 1. 0. 0. 0.]\n",
            "  [0. 0. 0. 0. 0. 0. 0. 0. 1. 0. 0.]\n",
            "  [0. 0. 0. 0. 0. 0. 0. 0. 0. 1. 0.]\n",
            "  [0. 0. 0. 0. 0. 0. 0. 0. 0. 0. 1.]\n",
            "  [0. 0. 0. 0. 0. 0. 0. 0. 0. 0. 0.]\n",
            "  [0. 0. 0. 0. 0. 0. 0. 0. 0. 0. 0.]\n",
            "  [0. 0. 0. 0. 0. 0. 0. 0. 0. 0. 0.]\n",
            "  [0. 0. 0. 0. 0. 0. 0. 0. 0. 0. 0.]\n",
            "  [0. 0. 0. 0. 0. 0. 0. 0. 0. 0. 0.]]]\n"
          ],
          "name": "stdout"
        }
      ]
    },
    {
      "cell_type": "code",
      "metadata": {
        "id": "kALdA5yLAULd",
        "colab_type": "code",
        "outputId": "3b4121fe-7f61-46d8-8cb6-1375b0305b66",
        "colab": {
          "base_uri": "https://localhost:8080/",
          "height": 146
        }
      },
      "source": [
        "# Character-level one-hot encoding (had to modify this from the example, Challot's code doesn't run)\n",
        "\n",
        "# Here we only consider ASCII.\n",
        "samples = [\"The cat sat on the mat.\", \"The dog ate my homework.\"]\n",
        "\n",
        "characters = string.printable\n",
        "token_index = dict(zip(characters, range(1, len(characters)+1)))\n",
        "\n",
        "# Only consider the first max_length characters in each sample\n",
        "max_length = 50\n",
        "results = np.zeros(shape=(len(samples), max_length, max(token_index.values())+1))\n",
        "for i, sample in enumerate(samples):\n",
        "  for j, character in enumerate(sample):\n",
        "    index = token_index.get(character)\n",
        "    results[i,j,index] = 1\n",
        "    \n",
        "print(results[0]) # 2 samples"
      ],
      "execution_count": 0,
      "outputs": [
        {
          "output_type": "stream",
          "text": [
            "[[0. 0. 0. ... 0. 0. 0.]\n",
            " [0. 0. 0. ... 0. 0. 0.]\n",
            " [0. 0. 0. ... 0. 0. 0.]\n",
            " ...\n",
            " [0. 0. 0. ... 0. 0. 0.]\n",
            " [0. 0. 0. ... 0. 0. 0.]\n",
            " [0. 0. 0. ... 0. 0. 0.]]\n"
          ],
          "name": "stdout"
        }
      ]
    },
    {
      "cell_type": "code",
      "metadata": {
        "id": "EwCOnAOfBKrB",
        "colab_type": "code",
        "outputId": "ef4fe9ad-7aaa-4ab9-8dec-b82d1b431a2f",
        "colab": {
          "base_uri": "https://localhost:8080/",
          "height": 55
        }
      },
      "source": [
        "print(token_index)"
      ],
      "execution_count": 0,
      "outputs": [
        {
          "output_type": "stream",
          "text": [
            "{'0': 1, '1': 2, '2': 3, '3': 4, '4': 5, '5': 6, '6': 7, '7': 8, '8': 9, '9': 10, 'a': 11, 'b': 12, 'c': 13, 'd': 14, 'e': 15, 'f': 16, 'g': 17, 'h': 18, 'i': 19, 'j': 20, 'k': 21, 'l': 22, 'm': 23, 'n': 24, 'o': 25, 'p': 26, 'q': 27, 'r': 28, 's': 29, 't': 30, 'u': 31, 'v': 32, 'w': 33, 'x': 34, 'y': 35, 'z': 36, 'A': 37, 'B': 38, 'C': 39, 'D': 40, 'E': 41, 'F': 42, 'G': 43, 'H': 44, 'I': 45, 'J': 46, 'K': 47, 'L': 48, 'M': 49, 'N': 50, 'O': 51, 'P': 52, 'Q': 53, 'R': 54, 'S': 55, 'T': 56, 'U': 57, 'V': 58, 'W': 59, 'X': 60, 'Y': 61, 'Z': 62, '!': 63, '\"': 64, '#': 65, '$': 66, '%': 67, '&': 68, \"'\": 69, '(': 70, ')': 71, '*': 72, '+': 73, ',': 74, '-': 75, '.': 76, '/': 77, ':': 78, ';': 79, '<': 80, '=': 81, '>': 82, '?': 83, '@': 84, '[': 85, '\\\\': 86, ']': 87, '^': 88, '_': 89, '`': 90, '{': 91, '|': 92, '}': 93, '~': 94, ' ': 95, '\\t': 96, '\\n': 97, '\\r': 98, '\\x0b': 99, '\\x0c': 100}\n"
          ],
          "name": "stdout"
        }
      ]
    },
    {
      "cell_type": "markdown",
      "metadata": {
        "id": "URZlS-3bCnS-",
        "colab_type": "text"
      },
      "source": [
        "Keras has built-ins for both the above which take account of edge cases, special characters, and  only taking the N most common words, so we'll use those"
      ]
    },
    {
      "cell_type": "code",
      "metadata": {
        "id": "E3J_qOipDRgs",
        "colab_type": "code",
        "outputId": "c2e4cae4-6b7c-499f-e7b0-f23f8dc35951",
        "colab": {
          "base_uri": "https://localhost:8080/",
          "height": 35
        }
      },
      "source": [
        "samples = ['The cat sat on the mat.', 'The dog ate my homework.']\n",
        "tokenizer = keras.preprocessing.text.Tokenizer(num_words=1000)\n",
        "tokenizer.fit_on_texts(samples)\n",
        "\n",
        "# Turn strings into lists of integer indices\n",
        "sequences = tokenizer.texts_to_sequences(samples)\n",
        "\n",
        "# Alternatively, directly get the one-hot binary representations.\n",
        "one_hot_results = tokenizer.texts_to_matrix(samples, mode=\"binary\")\n",
        "\n",
        "word_index = tokenizer.word_index\n",
        "\n",
        "print(f\"Found {len(word_index)} unique tokens\")"
      ],
      "execution_count": 0,
      "outputs": [
        {
          "output_type": "stream",
          "text": [
            "Found 9 unique tokens\n"
          ],
          "name": "stdout"
        }
      ]
    },
    {
      "cell_type": "markdown",
      "metadata": {
        "id": "Gl3nOTncDTsL",
        "colab_type": "text"
      },
      "source": [
        "A variant of one-hot encoding is the one-hot hashing trick - rather than explicitly assigning an index to each word and keeping a reference of these indices, hash words into fixed-size vectors - this does away with the explicit word index"
      ]
    },
    {
      "cell_type": "code",
      "metadata": {
        "id": "Dh_MIlPyEMQ-",
        "colab_type": "code",
        "colab": {}
      },
      "source": [
        "# One-hot with hashing\n",
        "\n",
        "samples = ['The cat sat on the mat.', 'The dog ate my homework.']\n",
        "\n",
        "# Store each word as a size-1000 vector\n",
        "dimensionality = 1000\n",
        "max_length = 10\n",
        "results=np.zeros((len(samples), max_length, dimensionality))\n",
        "\n",
        "for i, sample in enumerate(samples):\n",
        "  for j, word in list(enumerate(sample.split()))[:max_length]:\n",
        "    index = abs(hash(word)) % dimensionality # Hash to an integer\n",
        "    results[i,j,index] = 1"
      ],
      "execution_count": 0,
      "outputs": []
    },
    {
      "cell_type": "markdown",
      "metadata": {
        "id": "kRxRfoYDFFmx",
        "colab_type": "text"
      },
      "source": [
        "### Using word embeddings\n",
        "Here we use dense word vectors (as opposed to sparse, binary, high-dimensional vectors as in one-hot). These will be floating-point vectors in a low-dimensional space, and we have to learn these from the data.\n",
        "\n",
        "We can either learn the embedding jointly with the main task, or use pretrained word embeddings"
      ]
    },
    {
      "cell_type": "code",
      "metadata": {
        "id": "fa9svqYtFHtx",
        "colab_type": "code",
        "outputId": "a2d2f420-ea53-4208-d064-bbf54237dff1",
        "colab": {
          "base_uri": "https://localhost:8080/",
          "height": 54
        }
      },
      "source": [
        "# Learning our own embeddings, hopefully such that the geometry reflects the semantics\n",
        "\n",
        "max_features=10000\n",
        "max_length = 20\n",
        "\n",
        "# Overwrite np.load to allow keras to work with the new Numpy defaults\n",
        "old = np.load\n",
        "np.load = lambda *a,**k: old(*a,**k,allow_pickle=True)\n",
        "(X_train, y_train), (X_test, y_test) = keras.datasets.imdb.load_data(num_words=max_features)\n",
        "np.load = old\n",
        "del(old)\n",
        "\n",
        "\n",
        "\n",
        "# Turns the list of integers into a 2D integer tensor\n",
        "X_train = keras.preprocessing.sequence.pad_sequences(X_train, maxlen=max_length)\n",
        "X_test = keras.preprocessing.sequence.pad_sequences(X_test, maxlen=max_length)"
      ],
      "execution_count": 0,
      "outputs": [
        {
          "output_type": "stream",
          "text": [
            "Downloading data from https://s3.amazonaws.com/text-datasets/imdb.npz\n",
            "17465344/17464789 [==============================] - 0s 0us/step\n"
          ],
          "name": "stdout"
        }
      ]
    },
    {
      "cell_type": "code",
      "metadata": {
        "id": "t9TdYKTaF65S",
        "colab_type": "code",
        "outputId": "155f373e-c35d-4814-90ed-b267a11f9667",
        "colab": {
          "base_uri": "https://localhost:8080/",
          "height": 533
        }
      },
      "source": [
        "model = keras.models.Sequential()\n",
        "# embedding has inputs: (number of possible tokens, dimensionality)\n",
        "model.add(keras.layers.Embedding(max_features, 8, input_length=max_length))\n",
        "model.add(keras.layers.Flatten())\n",
        "model.add(keras.layers.Dense(1, activation=\"sigmoid\"))\n",
        "\n",
        "model.compile(optimizer=\"rmsprop\", loss=\"binary_crossentropy\", metrics=[\"acc\"])\n",
        "model.summary()"
      ],
      "execution_count": 0,
      "outputs": [
        {
          "output_type": "stream",
          "text": [
            "WARNING: Logging before flag parsing goes to stderr.\n",
            "W0618 10:40:22.205598 140446760609664 deprecation_wrapper.py:119] From /usr/local/lib/python3.6/dist-packages/keras/backend/tensorflow_backend.py:74: The name tf.get_default_graph is deprecated. Please use tf.compat.v1.get_default_graph instead.\n",
            "\n",
            "W0618 10:40:22.241738 140446760609664 deprecation_wrapper.py:119] From /usr/local/lib/python3.6/dist-packages/keras/backend/tensorflow_backend.py:517: The name tf.placeholder is deprecated. Please use tf.compat.v1.placeholder instead.\n",
            "\n",
            "W0618 10:40:22.249669 140446760609664 deprecation_wrapper.py:119] From /usr/local/lib/python3.6/dist-packages/keras/backend/tensorflow_backend.py:4138: The name tf.random_uniform is deprecated. Please use tf.random.uniform instead.\n",
            "\n",
            "W0618 10:40:22.286149 140446760609664 deprecation_wrapper.py:119] From /usr/local/lib/python3.6/dist-packages/keras/optimizers.py:790: The name tf.train.Optimizer is deprecated. Please use tf.compat.v1.train.Optimizer instead.\n",
            "\n",
            "W0618 10:40:22.303842 140446760609664 deprecation_wrapper.py:119] From /usr/local/lib/python3.6/dist-packages/keras/backend/tensorflow_backend.py:3376: The name tf.log is deprecated. Please use tf.math.log instead.\n",
            "\n",
            "W0618 10:40:22.310284 140446760609664 deprecation.py:323] From /usr/local/lib/python3.6/dist-packages/tensorflow/python/ops/nn_impl.py:180: add_dispatch_support.<locals>.wrapper (from tensorflow.python.ops.array_ops) is deprecated and will be removed in a future version.\n",
            "Instructions for updating:\n",
            "Use tf.where in 2.0, which has the same broadcast rule as np.where\n"
          ],
          "name": "stderr"
        },
        {
          "output_type": "stream",
          "text": [
            "_________________________________________________________________\n",
            "Layer (type)                 Output Shape              Param #   \n",
            "=================================================================\n",
            "embedding_1 (Embedding)      (None, 20, 8)             80000     \n",
            "_________________________________________________________________\n",
            "flatten_1 (Flatten)          (None, 160)               0         \n",
            "_________________________________________________________________\n",
            "dense_1 (Dense)              (None, 1)                 161       \n",
            "=================================================================\n",
            "Total params: 80,161\n",
            "Trainable params: 80,161\n",
            "Non-trainable params: 0\n",
            "_________________________________________________________________\n"
          ],
          "name": "stdout"
        }
      ]
    },
    {
      "cell_type": "code",
      "metadata": {
        "id": "qfOO_mamK1RU",
        "colab_type": "code",
        "outputId": "8a8be3b4-7051-4943-da4d-edb219507ebb",
        "colab": {
          "base_uri": "https://localhost:8080/",
          "height": 459
        }
      },
      "source": [
        "history = model.fit(X_train, y_train, epochs=10, batch_size=32, validation_split=0.2)"
      ],
      "execution_count": 0,
      "outputs": [
        {
          "output_type": "stream",
          "text": [
            "W0618 10:40:22.527907 140446760609664 deprecation_wrapper.py:119] From /usr/local/lib/python3.6/dist-packages/keras/backend/tensorflow_backend.py:986: The name tf.assign_add is deprecated. Please use tf.compat.v1.assign_add instead.\n",
            "\n"
          ],
          "name": "stderr"
        },
        {
          "output_type": "stream",
          "text": [
            "Train on 20000 samples, validate on 5000 samples\n",
            "Epoch 1/10\n",
            "20000/20000 [==============================] - 5s 274us/step - loss: 0.6759 - acc: 0.6050 - val_loss: 0.6398 - val_acc: 0.6814\n",
            "Epoch 2/10\n",
            "20000/20000 [==============================] - 2s 101us/step - loss: 0.5657 - acc: 0.7427 - val_loss: 0.5467 - val_acc: 0.7206\n",
            "Epoch 3/10\n",
            "20000/20000 [==============================] - 2s 101us/step - loss: 0.4752 - acc: 0.7808 - val_loss: 0.5113 - val_acc: 0.7384\n",
            "Epoch 4/10\n",
            "20000/20000 [==============================] - 2s 100us/step - loss: 0.4263 - acc: 0.8077 - val_loss: 0.5008 - val_acc: 0.7452\n",
            "Epoch 5/10\n",
            "20000/20000 [==============================] - 2s 99us/step - loss: 0.3930 - acc: 0.8258 - val_loss: 0.4981 - val_acc: 0.7538\n",
            "Epoch 6/10\n",
            "20000/20000 [==============================] - 2s 98us/step - loss: 0.3668 - acc: 0.8395 - val_loss: 0.5014 - val_acc: 0.7530\n",
            "Epoch 7/10\n",
            "20000/20000 [==============================] - 2s 100us/step - loss: 0.3435 - acc: 0.8533 - val_loss: 0.5052 - val_acc: 0.7520\n",
            "Epoch 8/10\n",
            "20000/20000 [==============================] - 2s 99us/step - loss: 0.3223 - acc: 0.8657 - val_loss: 0.5132 - val_acc: 0.7486\n",
            "Epoch 9/10\n",
            "20000/20000 [==============================] - 2s 97us/step - loss: 0.3022 - acc: 0.8766 - val_loss: 0.5213 - val_acc: 0.7490\n",
            "Epoch 10/10\n",
            "20000/20000 [==============================] - 2s 94us/step - loss: 0.2839 - acc: 0.8860 - val_loss: 0.5303 - val_acc: 0.7466\n"
          ],
          "name": "stdout"
        }
      ]
    },
    {
      "cell_type": "markdown",
      "metadata": {
        "id": "kNJsy_nGK9SF",
        "colab_type": "text"
      },
      "source": [
        "We can get to a validation accuracy of ~75%, seems pretty good from only the first 20 words. However, flattening the embedding sequences and training a single `Dense` layer means we look at each word  separately - this is bad. We have to learn features that account for the sequence as a whole! "
      ]
    },
    {
      "cell_type": "code",
      "metadata": {
        "id": "KR03R-NOLgAW",
        "colab_type": "code",
        "outputId": "ff0cd9ce-038f-47cd-959c-a091970a18c2",
        "colab": {
          "base_uri": "https://localhost:8080/",
          "height": 421
        }
      },
      "source": [
        "# Using pretrained word embeddings (could use Word2Vec, here we use GloVe)\n",
        "\n",
        "# First, download the raw text data from the IMDB dataset.\n",
        "!wget --no-check-certificate \\\n",
        "    http://mng.bz/0tIo \\\n",
        "    -O /tmp/aclimdb.zip\n",
        "zip_ref = zipfile.ZipFile(\"/tmp/aclimdb.zip\", 'r')\n",
        "zip_ref.extractall('/tmp')\n",
        "zip_ref.close()\n",
        "\n"
      ],
      "execution_count": 0,
      "outputs": [
        {
          "output_type": "stream",
          "text": [
            "--2019-06-18 10:50:28--  http://mng.bz/0tIo\n",
            "Resolving mng.bz (mng.bz)... 35.166.24.88\n",
            "Connecting to mng.bz (mng.bz)|35.166.24.88|:80... connected.\n",
            "HTTP request sent, awaiting response... 301 Moved Permanently\n",
            "Location: https://mng.bz/0tIo [following]\n",
            "--2019-06-18 10:50:28--  https://mng.bz/0tIo\n",
            "Connecting to mng.bz (mng.bz)|35.166.24.88|:443... connected.\n",
            "WARNING: cannot verify mng.bz's certificate, issued by ‘CN=Go Daddy Secure Certificate Authority - G2,OU=http://certs.godaddy.com/repository/,O=GoDaddy.com\\\\, Inc.,L=Scottsdale,ST=Arizona,C=US’:\n",
            "  Unable to locally verify the issuer's authority.\n",
            "HTTP request sent, awaiting response... 301 \n",
            "Location: http://s3.amazonaws.com/text-datasets/aclImdb.zip [following]\n",
            "--2019-06-18 10:50:28--  http://s3.amazonaws.com/text-datasets/aclImdb.zip\n",
            "Resolving s3.amazonaws.com (s3.amazonaws.com)... 52.216.232.245\n",
            "Connecting to s3.amazonaws.com (s3.amazonaws.com)|52.216.232.245|:80... connected.\n",
            "HTTP request sent, awaiting response... 200 OK\n",
            "Length: 60711700 (58M) [application/zip]\n",
            "Saving to: ‘/tmp/aclimdb.zip’\n",
            "\n",
            "/tmp/aclimdb.zip    100%[===================>]  57.90M  50.8MB/s    in 1.1s    \n",
            "\n",
            "2019-06-18 10:50:29 (50.8 MB/s) - ‘/tmp/aclimdb.zip’ saved [60711700/60711700]\n",
            "\n"
          ],
          "name": "stdout"
        }
      ]
    },
    {
      "cell_type": "code",
      "metadata": {
        "id": "XkWypaaHNIsR",
        "colab_type": "code",
        "colab": {}
      },
      "source": [
        "# Scrape the data into lists \n",
        "imdb_dir = \"/tmp/aclImdb\"\n",
        "train_dir = os.path.join(imdb_dir, \"train\")\n",
        "\n",
        "labels = []\n",
        "texts = []\n",
        "\n",
        "for label_type in [\"neg\", \"pos\"]:\n",
        "  dir_name = os.path.join(train_dir, label_type)\n",
        "  for fname in os.listdir(dir_name):\n",
        "    if fname[-4:] == \".txt\":\n",
        "      with open(os.path.join(dir_name, fname)) as flines:\n",
        "        texts.append(flines.read())\n",
        "      labels.append(0 if label_type == \"neg\" else 1)\n",
        "      "
      ],
      "execution_count": 0,
      "outputs": []
    },
    {
      "cell_type": "code",
      "metadata": {
        "id": "c2a4_VkyOd0a",
        "colab_type": "code",
        "outputId": "6d2eda2f-8608-41a2-d80c-98b819ee0356",
        "colab": {
          "base_uri": "https://localhost:8080/",
          "height": 72
        }
      },
      "source": [
        "# Tokenize our text. Here, we artifically limit ourselves to just 200 training samples\n",
        "\n",
        "max_length = 20\n",
        "training_samples = 200\n",
        "validation_samples = 10000\n",
        "max_words = 10000\n",
        "\n",
        "tokenizer = keras.preprocessing.text.Tokenizer(num_words=max_words)\n",
        "tokenizer.fit_on_texts(texts)\n",
        "\n",
        "sequences = tokenizer.texts_to_sequences(texts)\n",
        "\n",
        "word_index = tokenizer.word_index\n",
        "\n",
        "print(f\"Found {len(word_index)} unique tokens\")\n",
        "\n",
        "data = keras.preprocessing.sequence.pad_sequences(sequences, maxlen=max_length)\n",
        "labels = np.asarray(labels)\n",
        "\n",
        "print(f\"Shape of data tensor: {data.shape}\")\n",
        "print(f\"Shape of label tensor: {labels.shape}\")\n",
        "\n",
        "# Shuffle and split the data\n",
        "indices = np.arange(data.shape[0])\n",
        "np.random.shuffle(indices)\n",
        "data = data[indices]\n",
        "labels = labels[indices]\n",
        "\n",
        "X_train = data[:training_samples]\n",
        "y_train = labels[:training_samples]\n",
        "X_val = data[training_samples: training_samples+validation_samples]\n",
        "y_val = labels[training_samples: training_samples+validation_samples]\n",
        "\n"
      ],
      "execution_count": 0,
      "outputs": [
        {
          "output_type": "stream",
          "text": [
            "Found 88582 unique tokens\n",
            "Shape of data tensor: (25000, 20)\n",
            "Shape of label tensor: (25000,)\n"
          ],
          "name": "stdout"
        }
      ]
    },
    {
      "cell_type": "code",
      "metadata": {
        "id": "s_1ksv_PP8y4",
        "colab_type": "code",
        "outputId": "fab477a1-aa4a-4db1-f419-379a231501e0",
        "colab": {
          "base_uri": "https://localhost:8080/",
          "height": 384
        }
      },
      "source": [
        "# Download the GloVe embeddings\n",
        "!wget --no-check-certificate \\\n",
        "    http://nlp.stanford.edu/data/glove.6B.zip \\\n",
        "    -O /tmp/glove.6B.zip\n",
        "zip_ref = zipfile.ZipFile(\"/tmp/glove.6B.zip\", 'r')\n",
        "zip_ref.extractall('/tmp')\n",
        "zip_ref.close()\n",
        "\n",
        "\n"
      ],
      "execution_count": 0,
      "outputs": [
        {
          "output_type": "stream",
          "text": [
            "--2019-06-18 11:03:32--  http://nlp.stanford.edu/data/glove.6B.zip\n",
            "Resolving nlp.stanford.edu (nlp.stanford.edu)... 171.64.67.140\n",
            "Connecting to nlp.stanford.edu (nlp.stanford.edu)|171.64.67.140|:80... connected.\n",
            "HTTP request sent, awaiting response... 302 Found\n",
            "Location: https://nlp.stanford.edu/data/glove.6B.zip [following]\n",
            "--2019-06-18 11:03:32--  https://nlp.stanford.edu/data/glove.6B.zip\n",
            "Connecting to nlp.stanford.edu (nlp.stanford.edu)|171.64.67.140|:443... connected.\n",
            "HTTP request sent, awaiting response... 301 Moved Permanently\n",
            "Location: http://downloads.cs.stanford.edu/nlp/data/glove.6B.zip [following]\n",
            "--2019-06-18 11:03:32--  http://downloads.cs.stanford.edu/nlp/data/glove.6B.zip\n",
            "Resolving downloads.cs.stanford.edu (downloads.cs.stanford.edu)... 171.64.64.22\n",
            "Connecting to downloads.cs.stanford.edu (downloads.cs.stanford.edu)|171.64.64.22|:80... connected.\n",
            "HTTP request sent, awaiting response... 200 OK\n",
            "Length: 862182613 (822M) [application/zip]\n",
            "Saving to: ‘/tmp/glove.6B.zip’\n",
            "\n",
            "/tmp/glove.6B.zip   100%[===================>] 822.24M  60.5MB/s    in 13s     \n",
            "\n",
            "2019-06-18 11:03:45 (61.1 MB/s) - ‘/tmp/glove.6B.zip’ saved [862182613/862182613]\n",
            "\n"
          ],
          "name": "stdout"
        }
      ]
    },
    {
      "cell_type": "code",
      "metadata": {
        "id": "bM0eJDf8QZTH",
        "colab_type": "code",
        "outputId": "9bc11b8d-b5b0-4d8b-b33f-a5cbaa1a2101",
        "colab": {
          "base_uri": "https://localhost:8080/",
          "height": 35
        }
      },
      "source": [
        "# Parse the embeddings into an index mapping words to their vector reprs\n",
        "glove_path = \"/tmp/glove.6B.100d.txt\"\n",
        "\n",
        "embeddings_index = {}\n",
        "with open(glove_path) as flines:\n",
        "  for line in flines:\n",
        "    values = line.split()\n",
        "    word = values[0]\n",
        "    coefs = np.asarray(values[1:], dtype=\"float32\")\n",
        "    embeddings_index[word] = coefs\n",
        "    \n",
        "print(f\"Found {len(embeddings_index)} word vectors\")"
      ],
      "execution_count": 0,
      "outputs": [
        {
          "output_type": "stream",
          "text": [
            "Found 400000 word vectors\n"
          ],
          "name": "stdout"
        }
      ]
    },
    {
      "cell_type": "code",
      "metadata": {
        "id": "dAMdJzmeQ6yP",
        "colab_type": "code",
        "colab": {}
      },
      "source": [
        "# Now build an embedding matrix we can load into an Embedding layer\n",
        "\n",
        "embedding_dim = 100\n",
        "\n",
        "embedding_matrix = np.zeros((max_words, embedding_dim))\n",
        "for word, i in word_index.items():\n",
        "  if i < max_words:\n",
        "    embedding_vector = embeddings_index.get(word)\n",
        "    if embedding_vector is not None:\n",
        "      embedding_matrix[i] = embedding_vector"
      ],
      "execution_count": 0,
      "outputs": []
    },
    {
      "cell_type": "code",
      "metadata": {
        "id": "qQw7AEAGRbso",
        "colab_type": "code",
        "outputId": "4ba619e3-3dad-4906-f64a-1944a980acc3",
        "colab": {
          "base_uri": "https://localhost:8080/",
          "height": 293
        }
      },
      "source": [
        "# Define our model\n",
        "model = keras.models.Sequential()\n",
        "model.add(keras.layers.Embedding(max_words, embedding_dim, input_length=max_length))\n",
        "model.add(keras.layers.Flatten())\n",
        "model.add(keras.layers.Dense(32, activation=\"relu\"))\n",
        "model.add(keras.layers.Dense(1, activation=\"sigmoid\"))\n",
        "model.summary()"
      ],
      "execution_count": 0,
      "outputs": [
        {
          "output_type": "stream",
          "text": [
            "_________________________________________________________________\n",
            "Layer (type)                 Output Shape              Param #   \n",
            "=================================================================\n",
            "embedding_2 (Embedding)      (None, 20, 100)           1000000   \n",
            "_________________________________________________________________\n",
            "flatten_2 (Flatten)          (None, 2000)              0         \n",
            "_________________________________________________________________\n",
            "dense_2 (Dense)              (None, 32)                64032     \n",
            "_________________________________________________________________\n",
            "dense_3 (Dense)              (None, 1)                 33        \n",
            "=================================================================\n",
            "Total params: 1,064,065\n",
            "Trainable params: 1,064,065\n",
            "Non-trainable params: 0\n",
            "_________________________________________________________________\n"
          ],
          "name": "stdout"
        }
      ]
    },
    {
      "cell_type": "code",
      "metadata": {
        "id": "BlH76XBpRoT9",
        "colab_type": "code",
        "colab": {}
      },
      "source": [
        "# Load the GloVe matrix into the Embedding layer\n",
        "model.layers[0].set_weights([embedding_matrix])\n",
        "model.layers[0].trainable = False"
      ],
      "execution_count": 0,
      "outputs": []
    },
    {
      "cell_type": "code",
      "metadata": {
        "id": "zDkGAJlGRywC",
        "colab_type": "code",
        "outputId": "05175292-d10e-49de-aed0-0197fa18c998",
        "colab": {
          "base_uri": "https://localhost:8080/",
          "height": 403
        }
      },
      "source": [
        "# Compile and train\n",
        "model.compile(optimizer=\"rmsprop\", loss=\"binary_crossentropy\", metrics=[\"acc\"])\n",
        "history = model.fit(X_train, y_train, epochs=10, batch_size=32, validation_data=(X_val, y_val))\n",
        "model.save_weights(\"/content/drive/My Drive/Colab Notebooks/pre_trained_glove_model.h5\")"
      ],
      "execution_count": 0,
      "outputs": [
        {
          "output_type": "stream",
          "text": [
            "Train on 200 samples, validate on 10000 samples\n",
            "Epoch 1/10\n",
            "200/200 [==============================] - 1s 3ms/step - loss: 0.7453 - acc: 0.5450 - val_loss: 0.7165 - val_acc: 0.4969\n",
            "Epoch 2/10\n",
            "200/200 [==============================] - 0s 2ms/step - loss: 0.5676 - acc: 0.7500 - val_loss: 0.7809 - val_acc: 0.5051\n",
            "Epoch 3/10\n",
            "200/200 [==============================] - 0s 2ms/step - loss: 0.4935 - acc: 0.7400 - val_loss: 0.7351 - val_acc: 0.4999\n",
            "Epoch 4/10\n",
            "200/200 [==============================] - 0s 2ms/step - loss: 0.3533 - acc: 0.9450 - val_loss: 0.9398 - val_acc: 0.5013\n",
            "Epoch 5/10\n",
            "200/200 [==============================] - 0s 2ms/step - loss: 0.3361 - acc: 0.8600 - val_loss: 0.8728 - val_acc: 0.5067\n",
            "Epoch 6/10\n",
            "200/200 [==============================] - 0s 2ms/step - loss: 0.2509 - acc: 0.9600 - val_loss: 0.9588 - val_acc: 0.5030\n",
            "Epoch 7/10\n",
            "200/200 [==============================] - 0s 2ms/step - loss: 0.2062 - acc: 0.9750 - val_loss: 0.8176 - val_acc: 0.4989\n",
            "Epoch 8/10\n",
            "200/200 [==============================] - 0s 2ms/step - loss: 0.1586 - acc: 0.9850 - val_loss: 1.0387 - val_acc: 0.4994\n",
            "Epoch 9/10\n",
            "200/200 [==============================] - 0s 2ms/step - loss: 0.1360 - acc: 0.9950 - val_loss: 0.9323 - val_acc: 0.4972\n",
            "Epoch 10/10\n",
            "200/200 [==============================] - 0s 2ms/step - loss: 0.1171 - acc: 0.9900 - val_loss: 0.8864 - val_acc: 0.4996\n"
          ],
          "name": "stdout"
        }
      ]
    },
    {
      "cell_type": "code",
      "metadata": {
        "id": "tVP_0og5Sgm8",
        "colab_type": "code",
        "outputId": "792ca069-cd9b-44da-94eb-0f1ae0997a7a",
        "colab": {
          "base_uri": "https://localhost:8080/",
          "height": 573
        }
      },
      "source": [
        "# Plot the loss and accuracy of the model over the training and validation data\n",
        "def plotLossAndAccuracy(history):\n",
        "  history_dict = history.history\n",
        "  acc = history_dict[\"acc\"]\n",
        "  val_acc = history_dict[\"val_acc\"]\n",
        "  loss = history_dict[\"loss\"]\n",
        "  val_loss = history_dict[\"val_loss\"]\n",
        "  epochs = range(1, len(loss) +1)\n",
        "\n",
        "  plt.plot(epochs, acc, \"bo\", label=\"Training Accuracy\")\n",
        "  plt.plot(epochs, val_acc, \"b\", label=\"Validation Accuracy\")\n",
        "  plt.title(\"Training and validation accuracy\")\n",
        "  plt.xlabel(\"Epochs\")\n",
        "  plt.ylabel(\"Accuracy\")\n",
        "  plt.legend()\n",
        "  plt.show()\n",
        "\n",
        "  plt.plot(epochs, loss, \"bo\", label=\"Training Loss\")\n",
        "  plt.plot(epochs, val_loss, \"b\", label=\"Validation Loss\")\n",
        "  plt.title(\"Training and validation loss\")\n",
        "  plt.xlabel(\"Epochs\")\n",
        "  plt.ylabel(\"Loss\")\n",
        "  plt.legend()\n",
        "  plt.show()\n",
        "\n",
        "plotLossAndAccuracy(history)\n"
      ],
      "execution_count": 6,
      "outputs": [
        {
          "output_type": "display_data",
          "data": {
            "image/png": "[encoded data removed]",
            "text/plain": [
              "<Figure size 432x288 with 1 Axes>"
            ]
          },
          "metadata": {
            "tags": []
          }
        },
        {
          "output_type": "display_data",
          "data": {
            "image/png": "[encoded data removed]",
            "text/plain": [
              "<Figure size 432x288 with 1 Axes>"
            ]
          },
          "metadata": {
            "tags": []
          }
        }
      ]
    },
    {
      "cell_type": "markdown",
      "metadata": {
        "id": "DWkl61jySwmm",
        "colab_type": "text"
      },
      "source": [
        "Hefty amounts of overfitting! What happens if we don't use the pretrained word embeddings, and don't freeze the embedding layer?"
      ]
    },
    {
      "cell_type": "code",
      "metadata": {
        "id": "26-87rMuTMxo",
        "colab_type": "code",
        "outputId": "94de3f9e-8893-4d48-8924-8975e3307339",
        "colab": {
          "base_uri": "https://localhost:8080/",
          "height": 959
        }
      },
      "source": [
        "# Define our model\n",
        "model = keras.models.Sequential()\n",
        "model.add(keras.layers.Embedding(max_words, embedding_dim, input_length=max_length))\n",
        "model.add(keras.layers.Flatten())\n",
        "model.add(keras.layers.Dense(32, activation=\"relu\"))\n",
        "model.add(keras.layers.Dense(1, activation=\"sigmoid\"))\n",
        "# Compile and train\n",
        "model.compile(optimizer=\"rmsprop\", loss=\"binary_crossentropy\", metrics=[\"acc\"])\n",
        "history = model.fit(X_train, y_train, epochs=10, batch_size=32, validation_data=(X_val, y_val))\n",
        "plotLossAndAccuracy(history)\n"
      ],
      "execution_count": 0,
      "outputs": [
        {
          "output_type": "stream",
          "text": [
            "Train on 200 samples, validate on 10000 samples\n",
            "Epoch 1/10\n",
            "200/200 [==============================] - 1s 3ms/step - loss: 0.6942 - acc: 0.4700 - val_loss: 0.6938 - val_acc: 0.4912\n",
            "Epoch 2/10\n",
            "200/200 [==============================] - 0s 2ms/step - loss: 0.6221 - acc: 1.0000 - val_loss: 0.6948 - val_acc: 0.4978\n",
            "Epoch 3/10\n",
            "200/200 [==============================] - 0s 2ms/step - loss: 0.5474 - acc: 1.0000 - val_loss: 0.6970 - val_acc: 0.4938\n",
            "Epoch 4/10\n",
            "200/200 [==============================] - 0s 2ms/step - loss: 0.4386 - acc: 1.0000 - val_loss: 0.7016 - val_acc: 0.4989\n",
            "Epoch 5/10\n",
            "200/200 [==============================] - 0s 2ms/step - loss: 0.3121 - acc: 1.0000 - val_loss: 0.7094 - val_acc: 0.4982\n",
            "Epoch 6/10\n",
            "200/200 [==============================] - 0s 2ms/step - loss: 0.2039 - acc: 1.0000 - val_loss: 0.7197 - val_acc: 0.4978\n",
            "Epoch 7/10\n",
            "200/200 [==============================] - 0s 2ms/step - loss: 0.1280 - acc: 1.0000 - val_loss: 0.7295 - val_acc: 0.4964\n",
            "Epoch 8/10\n",
            "200/200 [==============================] - 0s 2ms/step - loss: 0.0788 - acc: 1.0000 - val_loss: 0.7434 - val_acc: 0.4947\n",
            "Epoch 9/10\n",
            "200/200 [==============================] - 0s 2ms/step - loss: 0.0481 - acc: 1.0000 - val_loss: 0.7553 - val_acc: 0.4916\n",
            "Epoch 10/10\n",
            "200/200 [==============================] - 0s 2ms/step - loss: 0.0299 - acc: 1.0000 - val_loss: 0.7692 - val_acc: 0.4926\n"
          ],
          "name": "stdout"
        },
        {
          "output_type": "display_data",
          "data": {
            "image/png": "[encoded data removed]",
            "text/plain": [
              "<Figure size 432x288 with 1 Axes>"
            ]
          },
          "metadata": {
            "tags": []
          }
        },
        {
          "output_type": "display_data",
          "data": {
            "image/png": "[encoded data removed]",
            "text/plain": [
              "<Figure size 432x288 with 1 Axes>"
            ]
          },
          "metadata": {
            "tags": []
          }
        }
      ]
    },
    {
      "cell_type": "code",
      "metadata": {
        "id": "Ea-w8e9GXeQW",
        "colab_type": "code",
        "colab": {}
      },
      "source": [
        "# Evaluate the model on the test data\n",
        "\n",
        "test_dir = os.path.join(imdb_dir, \"test\")\n",
        "\n",
        "labels = []\n",
        "texts = []\n",
        "\n",
        "for label_type in [\"neg\", \"pos\"]:\n",
        "  dir_name = os.path.join(test_dir, label_type)\n",
        "  for fname in os.listdir(dir_name):\n",
        "    if fname[-4:] == \".txt\":\n",
        "      with open(os.path.join(dir_name, fname)) as flines:\n",
        "        texts.append(flines.read())\n",
        "      labels.append(0 if label_type == \"neg\" else 1)\n",
        "      \n",
        "\n",
        "sequences = tokenizer.texts_to_sequences(texts)\n",
        "X_test = keras.preprocessing.sequence.pad_sequences(sequences, maxlen=max_length)\n",
        "y_test = np.asarray(labels)    \n"
      ],
      "execution_count": 0,
      "outputs": []
    },
    {
      "cell_type": "code",
      "metadata": {
        "id": "BWDatLiVX-ov",
        "colab_type": "code",
        "outputId": "c5444640-ab0b-4e2d-cf24-fbabb455f2b7",
        "colab": {
          "base_uri": "https://localhost:8080/",
          "height": 54
        }
      },
      "source": [
        "model.load_weights(\"/content/drive/My Drive/Colab Notebooks/pre_trained_glove_model.h5\")\n",
        "model.evaluate(X_test, y_test)"
      ],
      "execution_count": 0,
      "outputs": [
        {
          "output_type": "stream",
          "text": [
            "25000/25000 [==============================] - 1s 44us/step\n"
          ],
          "name": "stdout"
        },
        {
          "output_type": "execute_result",
          "data": {
            "text/plain": [
              "[0.8860045902633668, 0.50624]"
            ]
          },
          "metadata": {
            "tags": []
          },
          "execution_count": 49
        }
      ]
    },
    {
      "cell_type": "markdown",
      "metadata": {
        "id": "LY9QUsX_lvSZ",
        "colab_type": "text"
      },
      "source": [
        "Only 50% accuracy!"
      ]
    },
    {
      "cell_type": "markdown",
      "metadata": {
        "id": "DxubvLSsl1MQ",
        "colab_type": "text"
      },
      "source": [
        "## Recurrent Neural Networks\n",
        "\n",
        "The dense classifiers and convnets seen previously don't have any memory - each input is processed independently. So to process a sequence, you have to show the entire sequence to the network at once. These are *feedforward* networks.\n",
        "\n",
        "RNNs are different - they iterate through the sequence elemetns and maintain a state containing information relative to what they've seen so far. The state is reset between independent  elements, so one sequence is still a single data point.\n",
        "\n",
        "Pseudocode for the forward pass of a toy RNN\n",
        "\n",
        "```\n",
        "state_t = 0\n",
        "for input_t in input_sequences:\n",
        "   output_t = f(input_t, state_t)\n",
        "   state_t = output_t\n",
        "```\n",
        "\n",
        "And we know what the function `f` looks like:\n",
        "```\n",
        "f(input_t, state_t) = activation(dot(W, input_t) + dot(U, state_t) + b)\n",
        "```\n",
        "It is parameterised by two weight matrices and a bias vector."
      ]
    },
    {
      "cell_type": "code",
      "metadata": {
        "id": "XZqMeYB3l7Ya",
        "colab_type": "code",
        "colab": {}
      },
      "source": [
        "# Actual, if naive, Numpy implementation of the forward pass\n",
        "\n",
        "timesteps = 100\n",
        "# Dimensionality of the input feature space\n",
        "input_features = 32\n",
        "# Dimensionality of the output feature space\n",
        "output_features = 64\n",
        "\n",
        "inputs  = np.random.random((timesteps, input_features)) # input data\n",
        "\n",
        "state_t = np.zeros((output_features,))\n",
        "\n",
        "W = np.random.random((output_features, input_features))\n",
        "U = np.random.random((output_features, output_features))\n",
        "b = np.random.random((output_features,))\n",
        "\n",
        "successive_outputs = []\n",
        "for input_t in inputs:\n",
        "  output_t = np.tanh(np.dot(W, input_t) + np.dot(U, state_t) + b)\n",
        "  \n",
        "  successive_outputs.append(output_t)\n",
        "  \n",
        "  state_t = output_t\n",
        "  \n",
        "# The final output is a 2D tensor of shape (timesteps, output_features)\n",
        "final_output_sequence = np.concatenate(successive_outputs, axis=0)"
      ],
      "execution_count": 0,
      "outputs": []
    },
    {
      "cell_type": "markdown",
      "metadata": {
        "id": "eUWWypTdpjyJ",
        "colab_type": "text"
      },
      "source": [
        "The above process is implemented in Keras as the `SimpleRNN` layer - see below for an example"
      ]
    },
    {
      "cell_type": "code",
      "metadata": {
        "id": "Fi1VQLhoqqyM",
        "colab_type": "code",
        "outputId": "9e2a0194-e2c1-4c9f-adcb-d9bee033da79",
        "colab": {
          "base_uri": "https://localhost:8080/",
          "height": 219
        }
      },
      "source": [
        "model = keras.models.Sequential()\n",
        "model.add(keras.layers.Embedding(10000, 32))\n",
        "model.add(keras.layers.SimpleRNN(32))  # Only returns the last output for each sequence\n",
        "model.summary()"
      ],
      "execution_count": 0,
      "outputs": [
        {
          "output_type": "stream",
          "text": [
            "_________________________________________________________________\n",
            "Layer (type)                 Output Shape              Param #   \n",
            "=================================================================\n",
            "embedding_5 (Embedding)      (None, None, 32)          320000    \n",
            "_________________________________________________________________\n",
            "simple_rnn_1 (SimpleRNN)     (None, 32)                2080      \n",
            "=================================================================\n",
            "Total params: 322,080\n",
            "Trainable params: 322,080\n",
            "Non-trainable params: 0\n",
            "_________________________________________________________________\n"
          ],
          "name": "stdout"
        }
      ]
    },
    {
      "cell_type": "code",
      "metadata": {
        "id": "nvvQLQjOqzwu",
        "colab_type": "code",
        "outputId": "2bf49b36-adf7-4480-9aab-b29129600273",
        "colab": {
          "base_uri": "https://localhost:8080/",
          "height": 219
        }
      },
      "source": [
        "model = keras.models.Sequential()\n",
        "model.add(keras.layers.Embedding(10000, 32))\n",
        "model.add(keras.layers.SimpleRNN(32, return_sequences=True))  # Returns the full state sequence\n",
        "model.summary()"
      ],
      "execution_count": 0,
      "outputs": [
        {
          "output_type": "stream",
          "text": [
            "_________________________________________________________________\n",
            "Layer (type)                 Output Shape              Param #   \n",
            "=================================================================\n",
            "embedding_7 (Embedding)      (None, None, 32)          320000    \n",
            "_________________________________________________________________\n",
            "simple_rnn_3 (SimpleRNN)     (None, None, 32)          2080      \n",
            "=================================================================\n",
            "Total params: 322,080\n",
            "Trainable params: 322,080\n",
            "Non-trainable params: 0\n",
            "_________________________________________________________________\n"
          ],
          "name": "stdout"
        }
      ]
    },
    {
      "cell_type": "code",
      "metadata": {
        "id": "hQUaWIyJrEGo",
        "colab_type": "code",
        "outputId": "01537e18-7aad-470f-e37a-7790a1dee541",
        "colab": {
          "base_uri": "https://localhost:8080/",
          "height": 329
        }
      },
      "source": [
        "# If you want to stack recurrent layers to increase the representational power of the network,\n",
        "# You need to have all the intermediate layers return full sequences \n",
        "model = keras.models.Sequential()\n",
        "model.add(keras.layers.Embedding(10000, 32))\n",
        "model.add(keras.layers.SimpleRNN(32, return_sequences=True))\n",
        "model.add(keras.layers.SimpleRNN(32, return_sequences=True))\n",
        "model.add(keras.layers.SimpleRNN(32, return_sequences=True))\n",
        "model.add(keras.layers.SimpleRNN(32))\n",
        "\n",
        "model.summary()"
      ],
      "execution_count": 0,
      "outputs": [
        {
          "output_type": "stream",
          "text": [
            "_________________________________________________________________\n",
            "Layer (type)                 Output Shape              Param #   \n",
            "=================================================================\n",
            "embedding_8 (Embedding)      (None, None, 32)          320000    \n",
            "_________________________________________________________________\n",
            "simple_rnn_4 (SimpleRNN)     (None, None, 32)          2080      \n",
            "_________________________________________________________________\n",
            "simple_rnn_5 (SimpleRNN)     (None, None, 32)          2080      \n",
            "_________________________________________________________________\n",
            "simple_rnn_6 (SimpleRNN)     (None, None, 32)          2080      \n",
            "_________________________________________________________________\n",
            "simple_rnn_7 (SimpleRNN)     (None, 32)                2080      \n",
            "=================================================================\n",
            "Total params: 328,320\n",
            "Trainable params: 328,320\n",
            "Non-trainable params: 0\n",
            "_________________________________________________________________\n"
          ],
          "name": "stdout"
        }
      ]
    },
    {
      "cell_type": "code",
      "metadata": {
        "id": "LxIrBStirVos",
        "colab_type": "code",
        "outputId": "dabe0136-a116-4859-c435-0a12e10da094",
        "colab": {
          "base_uri": "https://localhost:8080/",
          "height": 156
        }
      },
      "source": [
        "# Let's use such a model on the IMDB dataset\n",
        "\n",
        "# Load the data\n",
        "\n",
        "max_features=10000\n",
        "max_length = 500\n",
        "\n",
        "print(\"Loading data...\")\n",
        "\n",
        "# Overwrite np.load to allow keras to work with the new Numpy defaults\n",
        "old = np.load\n",
        "np.load = lambda *a,**k: old(*a,**k,allow_pickle=True)\n",
        "(input_train, y_train), (input_test, y_test) = keras.datasets.imdb.load_data(num_words=max_features)\n",
        "np.load = old\n",
        "del(old)\n",
        "\n",
        "print(f\"{len(input_train)} training sequences\")\n",
        "print(f\"{len(input_test)} test sequences\")\n",
        "\n",
        "\n",
        "print(\"Pad sequences (samples x time)\")\n",
        "\n",
        "input_train = keras.preprocessing.sequence.pad_sequences(input_train, maxlen=max_length)\n",
        "input_test = keras.preprocessing.sequence.pad_sequences(input_test, maxlen=max_length)\n",
        "\n",
        "print(f\"input_train shape: {input_train.shape}\")\n",
        "print(f\"input_test shape: {input_test.shape}\")"
      ],
      "execution_count": 3,
      "outputs": [
        {
          "output_type": "stream",
          "text": [
            "Loading data...\n",
            "Downloading data from https://s3.amazonaws.com/text-datasets/imdb.npz\n",
            "17465344/17464789 [==============================] - 1s 0us/step\n",
            "25000 training sequences\n",
            "25000 test sequences\n",
            "Pad sequences (samples x time)\n",
            "input_train shape: (25000, 500)\n",
            "input_test shape: (25000, 500)\n"
          ],
          "name": "stdout"
        }
      ]
    },
    {
      "cell_type": "code",
      "metadata": {
        "id": "_6daMHiPsFnw",
        "colab_type": "code",
        "outputId": "e0284586-a222-4aa4-d31e-3a0cccf473d0",
        "colab": {
          "base_uri": "https://localhost:8080/",
          "height": 403
        }
      },
      "source": [
        "model = keras.models.Sequential()\n",
        "model.add(keras.layers.Embedding(max_features, 32))\n",
        "model.add(keras.layers.SimpleRNN(32))\n",
        "model.add(keras.layers.Dense(1, activation=\"sigmoid\"))\n",
        "\n",
        "model.compile(optimizer=\"rmsprop\", loss=\"binary_crossentropy\", metrics=[\"acc\"])\n",
        "\n",
        "history = model.fit(input_train, y_train, epochs=10, batch_size=128, validation_split=0.2)"
      ],
      "execution_count": 0,
      "outputs": [
        {
          "output_type": "stream",
          "text": [
            "Train on 20000 samples, validate on 5000 samples\n",
            "Epoch 1/10\n",
            "20000/20000 [==============================] - 27s 1ms/step - loss: 0.6449 - acc: 0.6173 - val_loss: 0.5848 - val_acc: 0.6854\n",
            "Epoch 2/10\n",
            "20000/20000 [==============================] - 26s 1ms/step - loss: 0.4435 - acc: 0.8116 - val_loss: 0.5315 - val_acc: 0.7252\n",
            "Epoch 3/10\n",
            "20000/20000 [==============================] - 27s 1ms/step - loss: 0.3148 - acc: 0.8742 - val_loss: 0.3472 - val_acc: 0.8604\n",
            "Epoch 4/10\n",
            "20000/20000 [==============================] - 27s 1ms/step - loss: 0.2243 - acc: 0.9131 - val_loss: 0.3717 - val_acc: 0.8420\n",
            "Epoch 5/10\n",
            "20000/20000 [==============================] - 26s 1ms/step - loss: 0.1457 - acc: 0.9480 - val_loss: 0.3848 - val_acc: 0.8688\n",
            "Epoch 6/10\n",
            "20000/20000 [==============================] - 26s 1ms/step - loss: 0.0921 - acc: 0.9692 - val_loss: 0.5683 - val_acc: 0.8282\n",
            "Epoch 7/10\n",
            "20000/20000 [==============================] - 27s 1ms/step - loss: 0.0655 - acc: 0.9794 - val_loss: 0.5601 - val_acc: 0.7898\n",
            "Epoch 8/10\n",
            "20000/20000 [==============================] - 26s 1ms/step - loss: 0.0344 - acc: 0.9903 - val_loss: 0.6178 - val_acc: 0.8138\n",
            "Epoch 9/10\n",
            "20000/20000 [==============================] - 26s 1ms/step - loss: 0.0229 - acc: 0.9937 - val_loss: 0.5394 - val_acc: 0.8492\n",
            "Epoch 10/10\n",
            "20000/20000 [==============================] - 26s 1ms/step - loss: 0.0166 - acc: 0.9953 - val_loss: 0.6372 - val_acc: 0.8186\n"
          ],
          "name": "stdout"
        }
      ]
    },
    {
      "cell_type": "code",
      "metadata": {
        "id": "iFb4R7ZpsrI7",
        "colab_type": "code",
        "outputId": "afdd605e-7da4-4e77-d39c-1297ab11b060",
        "colab": {
          "base_uri": "https://localhost:8080/",
          "height": 573
        }
      },
      "source": [
        "plotLossAndAccuracy(history)"
      ],
      "execution_count": 0,
      "outputs": [
        {
          "output_type": "display_data",
          "data": {
            "image/png": "[encoded data removed]",
            "text/plain": [
              "<Figure size 432x288 with 1 Axes>"
            ]
          },
          "metadata": {
            "tags": []
          }
        },
        {
          "output_type": "display_data",
          "data": {
            "image/png": "[encoded data removed]",
            "text/plain": [
              "<Figure size 432x288 with 1 Axes>"
            ]
          },
          "metadata": {
            "tags": []
          }
        }
      ]
    },
    {
      "cell_type": "markdown",
      "metadata": {
        "id": "U_MNcO9JttAR",
        "colab_type": "text"
      },
      "source": [
        "The super-naive Chapter 3 baseline got us to a test accuracy of ~88%, so the small RNN doesn't do well compared to this baseline. Our inputs only consider the first 500 words, so our model has less information than the baseline. In addition, `SimpleRNN` isn't good at long sequences. Let's try something fancier.\n",
        "\n",
        "### LSTM and GRU\n",
        "\n",
        "The LSTM is an attempt to solve the vanishing gradient problem, which makes long-term dependencies in our data difficult to learn. It adds a \"carry layer\" c_t to our data flow (in addition to state, and input)."
      ]
    },
    {
      "cell_type": "code",
      "metadata": {
        "id": "HgT0-NT7uW7H",
        "colab_type": "code",
        "colab": {
          "base_uri": "https://localhost:8080/",
          "height": 680
        },
        "outputId": "44aa610f-81fc-4518-8424-6ad79000b6dd"
      },
      "source": [
        "model = keras.models.Sequential()\n",
        "model.add(keras.layers.Embedding(max_features, 32))\n",
        "model.add(keras.layers.LSTM(32))\n",
        "model.add(keras.layers.Dense(1, activation=\"sigmoid\"))\n",
        "\n",
        "model.compile(optimizer=\"rmsprop\", loss=\"binary_crossentropy\", metrics=[\"acc\"])\n",
        "\n",
        "history = model.fit(input_train, y_train, epochs=10, batch_size=128, validation_split=0.2)"
      ],
      "execution_count": 4,
      "outputs": [
        {
          "output_type": "stream",
          "text": [
            "WARNING: Logging before flag parsing goes to stderr.\n",
            "W0619 09:02:09.064861 140188709402496 deprecation_wrapper.py:119] From /usr/local/lib/python3.6/dist-packages/keras/backend/tensorflow_backend.py:74: The name tf.get_default_graph is deprecated. Please use tf.compat.v1.get_default_graph instead.\n",
            "\n",
            "W0619 09:02:09.112024 140188709402496 deprecation_wrapper.py:119] From /usr/local/lib/python3.6/dist-packages/keras/backend/tensorflow_backend.py:517: The name tf.placeholder is deprecated. Please use tf.compat.v1.placeholder instead.\n",
            "\n",
            "W0619 09:02:09.119617 140188709402496 deprecation_wrapper.py:119] From /usr/local/lib/python3.6/dist-packages/keras/backend/tensorflow_backend.py:4138: The name tf.random_uniform is deprecated. Please use tf.random.uniform instead.\n",
            "\n",
            "W0619 09:02:09.381532 140188709402496 deprecation_wrapper.py:119] From /usr/local/lib/python3.6/dist-packages/keras/optimizers.py:790: The name tf.train.Optimizer is deprecated. Please use tf.compat.v1.train.Optimizer instead.\n",
            "\n",
            "W0619 09:02:09.404931 140188709402496 deprecation_wrapper.py:119] From /usr/local/lib/python3.6/dist-packages/keras/backend/tensorflow_backend.py:3376: The name tf.log is deprecated. Please use tf.math.log instead.\n",
            "\n",
            "W0619 09:02:09.414445 140188709402496 deprecation.py:323] From /usr/local/lib/python3.6/dist-packages/tensorflow/python/ops/nn_impl.py:180: add_dispatch_support.<locals>.wrapper (from tensorflow.python.ops.array_ops) is deprecated and will be removed in a future version.\n",
            "Instructions for updating:\n",
            "Use tf.where in 2.0, which has the same broadcast rule as np.where\n",
            "W0619 09:02:10.427320 140188709402496 deprecation_wrapper.py:119] From /usr/local/lib/python3.6/dist-packages/keras/backend/tensorflow_backend.py:986: The name tf.assign_add is deprecated. Please use tf.compat.v1.assign_add instead.\n",
            "\n"
          ],
          "name": "stderr"
        },
        {
          "output_type": "stream",
          "text": [
            "Train on 20000 samples, validate on 5000 samples\n",
            "Epoch 1/10\n",
            "20000/20000 [==============================] - 144s 7ms/step - loss: 0.5016 - acc: 0.7665 - val_loss: 0.3547 - val_acc: 0.8580\n",
            "Epoch 2/10\n",
            "20000/20000 [==============================] - 139s 7ms/step - loss: 0.2936 - acc: 0.8839 - val_loss: 0.3124 - val_acc: 0.8656\n",
            "Epoch 3/10\n",
            "20000/20000 [==============================] - 140s 7ms/step - loss: 0.2349 - acc: 0.9101 - val_loss: 0.3530 - val_acc: 0.8606\n",
            "Epoch 4/10\n",
            "20000/20000 [==============================] - 139s 7ms/step - loss: 0.1983 - acc: 0.9267 - val_loss: 0.2999 - val_acc: 0.8756\n",
            "Epoch 5/10\n",
            "20000/20000 [==============================] - 140s 7ms/step - loss: 0.1775 - acc: 0.9344 - val_loss: 0.2896 - val_acc: 0.8788\n",
            "Epoch 6/10\n",
            "20000/20000 [==============================] - 139s 7ms/step - loss: 0.1608 - acc: 0.9422 - val_loss: 0.3417 - val_acc: 0.8646\n",
            "Epoch 7/10\n",
            "20000/20000 [==============================] - 139s 7ms/step - loss: 0.1398 - acc: 0.9502 - val_loss: 0.3249 - val_acc: 0.8846\n",
            "Epoch 8/10\n",
            "20000/20000 [==============================] - 140s 7ms/step - loss: 0.1319 - acc: 0.9546 - val_loss: 0.4744 - val_acc: 0.8650\n",
            "Epoch 9/10\n",
            "20000/20000 [==============================] - 139s 7ms/step - loss: 0.1259 - acc: 0.9552 - val_loss: 0.3529 - val_acc: 0.8584\n",
            "Epoch 10/10\n",
            "20000/20000 [==============================] - 140s 7ms/step - loss: 0.1113 - acc: 0.9618 - val_loss: 0.3938 - val_acc: 0.8814\n"
          ],
          "name": "stdout"
        }
      ]
    },
    {
      "cell_type": "code",
      "metadata": {
        "id": "_g7apqTx9_j6",
        "colab_type": "code",
        "colab": {
          "base_uri": "https://localhost:8080/",
          "height": 573
        },
        "outputId": "f3ffb48b-f36e-49b2-a6e2-e39f0b44f731"
      },
      "source": [
        "plotLossAndAccuracy(history)"
      ],
      "execution_count": 7,
      "outputs": [
        {
          "output_type": "display_data",
          "data": {
            "image/png": "[encoded data removed]",
            "text/plain": [
              "<Figure size 432x288 with 1 Axes>"
            ]
          },
          "metadata": {
            "tags": []
          }
        },
        {
          "output_type": "display_data",
          "data": {
            "image/png": "[encoded data removed]",
            "text/plain": [
              "<Figure size 432x288 with 1 Axes>"
            ]
          },
          "metadata": {
            "tags": []
          }
        }
      ]
    },
    {
      "cell_type": "markdown",
      "metadata": {
        "id": "HOohxvpb-Woa",
        "colab_type": "text"
      },
      "source": [
        "The accuracy jumps up significantly, compared to the `SimpleRNN` network. It doesn't do better because analysing the global, long-term structure of the reviews (which the LSTM is good at) isn't a great way of doing sentiment analysis - word frequency analysis does better. But for more complicated problems, it's helpful.\n",
        "\n",
        "## Advanced use of recurrent neural networks\n",
        "\n",
        "Three advanced techniques for improving the performance/generalisability of RNNs, demonstrated on a temperature forecasting problem."
      ]
    },
    {
      "cell_type": "code",
      "metadata": {
        "id": "K9MhAWRV-fUo",
        "colab_type": "code",
        "colab": {}
      },
      "source": [
        "# First, download the raw  data  (14 different atmospheric quantities + temperature over 7 years).\n",
        "!wget --no-check-certificate \\\n",
        "    https://s3.amazonaws.com/keras-datasets/jena_climate_2009_2016.csv.zip \\\n",
        "    -O /tmp/climatedata.zip\n",
        "zip_ref = zipfile.ZipFile(\"/tmp/climatedata.zip\", 'r')\n",
        "zip_ref.extractall('/tmp')\n",
        "zip_ref.close()\n",
        "\n"
      ],
      "execution_count": 0,
      "outputs": []
    },
    {
      "cell_type": "code",
      "metadata": {
        "id": "5X3WwEke_6X0",
        "colab_type": "code",
        "colab": {}
      },
      "source": [
        "data_dir = \"/tmp/climatedata\"\n",
        "fname = os.path.join(data_dir, \"jena_climate_2009_2016.csv\")\n",
        "\n",
        "# Chollet processes this into a Numpy array manually, but here we'll use Pandas\n",
        "\n",
        "df = pd.read_csv(fname)\n",
        "\n",
        "df.head()\n",
        "\n",
        "\n",
        "# with open(fname) as flines:\n",
        "#   data = flines.readlines()\n",
        "\n",
        "# header = lines[0].split(\",\")\n",
        "# lines = lines[1:]\n",
        "\n",
        "# print(header)\n",
        "# print(len(lines))"
      ],
      "execution_count": 0,
      "outputs": []
    },
    {
      "cell_type": "code",
      "metadata": {
        "id": "eT9zzVlkAWUL",
        "colab_type": "code",
        "colab": {}
      },
      "source": [
        "# Convert to a Numpy array\n",
        "\n",
        "\n",
        "float_data = np.zeros((len(lines), len(header)-1))\n",
        "for i, line in enumerate(lines):\n",
        "  values = float(x) for x in line.split(\"\")"
      ],
      "execution_count": 0,
      "outputs": []
    }
  ]
}