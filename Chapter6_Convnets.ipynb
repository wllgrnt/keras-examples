{
  "nbformat": 4,
  "nbformat_minor": 0,
  "metadata": {
    "colab": {
      "name": "Chapter6_Convnets.ipynb",
      "version": "0.3.2",
      "provenance": [],
      "collapsed_sections": [],
      "include_colab_link": true
    },
    "kernelspec": {
      "name": "python3",
      "display_name": "Python 3"
    }
  },
  "cells": [
    {
      "cell_type": "markdown",
      "metadata": {
        "id": "view-in-github",
        "colab_type": "text"
      },
      "source": [
        "<a href=\"https://colab.research.google.com/github/wllgrnt/keras-examples/blob/master/Chapter6_Convnets.ipynb\" target=\"_parent\"><img src=\"https://colab.research.google.com/assets/colab-badge.svg\" alt=\"Open In Colab\"/></a>"
      ]
    },
    {
      "cell_type": "markdown",
      "metadata": {
        "id": "deM5HNFC-sNs",
        "colab_type": "text"
      },
      "source": [
        "# Chapter 6: Conv Nets\n",
        "\n",
        "## Sequence processing with convnets\n",
        "\n",
        "The previous notebook was getting unwieldy - here we look at 1D convnets for sequence processing. These are competitive with RNNs, and tend to be much quicker"
      ]
    },
    {
      "cell_type": "code",
      "metadata": {
        "id": "MtYZDm-A_ih2",
        "colab_type": "code",
        "colab": {
          "base_uri": "https://localhost:8080/",
          "height": 35
        },
        "outputId": "9e6978f6-2065-47c1-a091-5db761bbe2a9"
      },
      "source": [
        "import keras\n",
        "import numpy as np\n",
        "import matplotlib.pyplot as plt\n",
        "import zipfile\n",
        "import pandas as pd"
      ],
      "execution_count": 2,
      "outputs": [
        {
          "output_type": "stream",
          "text": [
            "Using TensorFlow backend.\n"
          ],
          "name": "stderr"
        }
      ]
    },
    {
      "cell_type": "code",
      "metadata": {
        "id": "Uxmb1KkJ_jg3",
        "colab_type": "code",
        "outputId": "58a420d6-28a5-4bd6-cb21-0e79f970a408",
        "colab": {
          "base_uri": "https://localhost:8080/",
          "height": 1066
        }
      },
      "source": [
        "max_features=10000\n",
        "max_length = 500\n",
        "\n",
        "# Overwrite np.load to allow keras to work with the new Numpy defaults\n",
        "old = np.load\n",
        "np.load = lambda *a,**k: old(*a,**k,allow_pickle=True)\n",
        "(X_train, y_train), (X_test, y_test) = keras.datasets.imdb.load_data(num_words=max_features)\n",
        "np.load = old\n",
        "del(old)\n",
        "\n",
        "\n",
        "# Turns the list of integers into a 2D integer tensor\n",
        "X_train = keras.preprocessing.sequence.pad_sequences(X_train, maxlen=max_length)\n",
        "X_test = keras.preprocessing.sequence.pad_sequences(X_test, maxlen=max_length)\n",
        "\n",
        "model = keras.models.Sequential()\n",
        "model.add(keras.layers.Embedding(max_features, 128, input_length=max_length))\n",
        "model.add(keras.layers.Conv1D(32, 7, activation=\"relu\"))  # In 1D, we can afford to use larger convs\n",
        "model.add(keras.layers.MaxPooling1D(5))\n",
        "model.add(keras.layers.Conv1D(32, 7, activation=\"relu\"))\n",
        "model.add(keras.layers.GlobalMaxPooling1D())\n",
        "model.add(keras.layers.Dense(1))\n",
        "\n",
        "print(model.summary())\n",
        "\n",
        "model.compile(optimizer=keras.optimizers.RMSprop(lr=1e-4), \n",
        "              loss=\"binary_crossentropy\",\n",
        "              metrics=[\"acc\"]\n",
        "             )\n",
        "\n",
        "history = model.fit(X_train, y_train,\n",
        "                    epochs=10,\n",
        "                    batch_size=128,\n",
        "                    validation_split=0.2\n",
        "                   )"
      ],
      "execution_count": 0,
      "outputs": [
        {
          "output_type": "stream",
          "text": [
            "W0620 18:01:32.997576 139915974834048 deprecation_wrapper.py:119] From /usr/local/lib/python3.6/dist-packages/keras/backend/tensorflow_backend.py:517: The name tf.placeholder is deprecated. Please use tf.compat.v1.placeholder instead.\n",
            "\n",
            "W0620 18:01:33.008469 139915974834048 deprecation_wrapper.py:119] From /usr/local/lib/python3.6/dist-packages/keras/backend/tensorflow_backend.py:4138: The name tf.random_uniform is deprecated. Please use tf.random.uniform instead.\n",
            "\n",
            "W0620 18:01:33.091301 139915974834048 deprecation_wrapper.py:119] From /usr/local/lib/python3.6/dist-packages/keras/backend/tensorflow_backend.py:3976: The name tf.nn.max_pool is deprecated. Please use tf.nn.max_pool2d instead.\n",
            "\n",
            "W0620 18:01:33.158667 139915974834048 deprecation_wrapper.py:119] From /usr/local/lib/python3.6/dist-packages/keras/optimizers.py:790: The name tf.train.Optimizer is deprecated. Please use tf.compat.v1.train.Optimizer instead.\n",
            "\n",
            "W0620 18:01:33.167992 139915974834048 deprecation_wrapper.py:119] From /usr/local/lib/python3.6/dist-packages/keras/backend/tensorflow_backend.py:3376: The name tf.log is deprecated. Please use tf.math.log instead.\n",
            "\n",
            "W0620 18:01:33.175915 139915974834048 deprecation.py:323] From /usr/local/lib/python3.6/dist-packages/tensorflow/python/ops/nn_impl.py:180: add_dispatch_support.<locals>.wrapper (from tensorflow.python.ops.array_ops) is deprecated and will be removed in a future version.\n",
            "Instructions for updating:\n",
            "Use tf.where in 2.0, which has the same broadcast rule as np.where\n"
          ],
          "name": "stderr"
        },
        {
          "output_type": "stream",
          "text": [
            "_________________________________________________________________\n",
            "Layer (type)                 Output Shape              Param #   \n",
            "=================================================================\n",
            "embedding_2 (Embedding)      (None, 500, 128)          1280000   \n",
            "_________________________________________________________________\n",
            "conv1d_1 (Conv1D)            (None, 494, 32)           28704     \n",
            "_________________________________________________________________\n",
            "max_pooling1d_1 (MaxPooling1 (None, 98, 32)            0         \n",
            "_________________________________________________________________\n",
            "conv1d_2 (Conv1D)            (None, 92, 32)            7200      \n",
            "_________________________________________________________________\n",
            "global_max_pooling1d_1 (Glob (None, 32)                0         \n",
            "_________________________________________________________________\n",
            "dense_1 (Dense)              (None, 1)                 33        \n",
            "=================================================================\n",
            "Total params: 1,315,937\n",
            "Trainable params: 1,315,937\n",
            "Non-trainable params: 0\n",
            "_________________________________________________________________\n",
            "None\n"
          ],
          "name": "stdout"
        },
        {
          "output_type": "stream",
          "text": [
            "W0620 18:01:33.616676 139915974834048 deprecation_wrapper.py:119] From /usr/local/lib/python3.6/dist-packages/keras/backend/tensorflow_backend.py:986: The name tf.assign_add is deprecated. Please use tf.compat.v1.assign_add instead.\n",
            "\n"
          ],
          "name": "stderr"
        },
        {
          "output_type": "stream",
          "text": [
            "Train on 20000 samples, validate on 5000 samples\n",
            "Epoch 1/10\n",
            "20000/20000 [==============================] - 78s 4ms/step - loss: 0.8337 - acc: 0.5090 - val_loss: 0.6874 - val_acc: 0.5654\n",
            "Epoch 2/10\n",
            "20000/20000 [==============================] - 77s 4ms/step - loss: 0.6700 - acc: 0.6390 - val_loss: 0.6642 - val_acc: 0.6574\n",
            "Epoch 3/10\n",
            "20000/20000 [==============================] - 78s 4ms/step - loss: 0.6237 - acc: 0.7523 - val_loss: 0.6080 - val_acc: 0.7442\n",
            "Epoch 4/10\n",
            "20000/20000 [==============================] - 77s 4ms/step - loss: 0.5258 - acc: 0.8078 - val_loss: 0.4846 - val_acc: 0.8068\n",
            "Epoch 5/10\n",
            "20000/20000 [==============================] - 77s 4ms/step - loss: 0.4095 - acc: 0.8481 - val_loss: 0.4202 - val_acc: 0.8324\n",
            "Epoch 6/10\n",
            "20000/20000 [==============================] - 77s 4ms/step - loss: 0.3491 - acc: 0.8678 - val_loss: 0.4142 - val_acc: 0.8370\n",
            "Epoch 7/10\n",
            "20000/20000 [==============================] - 77s 4ms/step - loss: 0.3095 - acc: 0.8678 - val_loss: 0.4362 - val_acc: 0.8264\n",
            "Epoch 8/10\n",
            "20000/20000 [==============================] - 77s 4ms/step - loss: 0.2812 - acc: 0.8550 - val_loss: 0.4217 - val_acc: 0.8088\n",
            "Epoch 9/10\n",
            "20000/20000 [==============================] - 78s 4ms/step - loss: 0.2548 - acc: 0.8342 - val_loss: 0.4372 - val_acc: 0.7904\n",
            "Epoch 10/10\n",
            "20000/20000 [==============================] - 77s 4ms/step - loss: 0.2298 - acc: 0.8124 - val_loss: 0.4790 - val_acc: 0.7674\n"
          ],
          "name": "stdout"
        }
      ]
    },
    {
      "cell_type": "code",
      "metadata": {
        "id": "8w88D5M-DG9L",
        "colab_type": "code",
        "colab": {}
      },
      "source": [
        "def plotLossAndAccuracy(history):\n",
        "  history_dict = history.history\n",
        "  acc = history_dict[\"acc\"]\n",
        "  val_acc = history_dict[\"val_acc\"]\n",
        "  loss = history_dict[\"loss\"]\n",
        "  val_loss = history_dict[\"val_loss\"]\n",
        "  epochs = range(1, len(loss) +1)\n",
        "\n",
        "  plt.plot(epochs, acc, \"bo\", label=\"Training Accuracy\")\n",
        "  plt.plot(epochs, val_acc, \"b\", label=\"Validation Accuracy\")\n",
        "  plt.title(\"Training and validation accuracy\")\n",
        "  plt.xlabel(\"Epochs\")\n",
        "  plt.ylabel(\"Accuracy\")\n",
        "  plt.legend()\n",
        "  plt.show()\n",
        "\n",
        "  plt.plot(epochs, loss, \"bo\", label=\"Training Loss\")\n",
        "  plt.plot(epochs, val_loss, \"b\", label=\"Validation Loss\")\n",
        "  plt.title(\"Training and validation loss\")\n",
        "  plt.xlabel(\"Epochs\")\n",
        "  plt.ylabel(\"Loss\")\n",
        "  plt.legend()\n",
        "  plt.show()"
      ],
      "execution_count": 0,
      "outputs": []
    },
    {
      "cell_type": "code",
      "metadata": {
        "id": "MjNrlF-iDudY",
        "colab_type": "code",
        "outputId": "27c467f4-70e2-4a3e-93ba-c9d885f4faa6",
        "colab": {
          "base_uri": "https://localhost:8080/",
          "height": 573
        }
      },
      "source": [
        "plotLossAndAccuracy(history)"
      ],
      "execution_count": 0,
      "outputs": [
        {
          "output_type": "display_data",
          "data": {
            "image/png": "[encoded data removed]",
            "text/plain": [
              "<Figure size 432x288 with 1 Axes>"
            ]
          },
          "metadata": {
            "tags": []
          }
        },
        {
          "output_type": "display_data",
          "data": {
            "image/png": "[encoded data removed]",
            "text/plain": [
              "<Figure size 432x288 with 1 Axes>"
            ]
          },
          "metadata": {
            "tags": []
          }
        }
      ]
    },
    {
      "cell_type": "markdown",
      "metadata": {
        "id": "DE__J3cqDwBb",
        "colab_type": "text"
      },
      "source": [
        "So the 1D convnet does about as well as the LSTM, but is quite a bit quicker. Note however that beyond the convolution window, a 1D convnet isn't sensitive to the order of the timestamps. We can see this if we try to run  a 1D convnet on the temperature-forecasting problem:"
      ]
    },
    {
      "cell_type": "code",
      "metadata": {
        "id": "Q1fhgTs4HLT1",
        "colab_type": "code",
        "outputId": "6b0ebb9d-6180-4655-ba8c-ff46d7a50f9f",
        "colab": {
          "base_uri": "https://localhost:8080/",
          "height": 215
        }
      },
      "source": [
        "# First, download the raw  data  (14 different atmospheric quantities + temperature over 7 years).\n",
        "!wget --no-check-certificate \\\n",
        "    https://s3.amazonaws.com/keras-datasets/jena_climate_2009_2016.csv.zip \\\n",
        "    -O /tmp/climatedata.zip\n",
        "zip_ref = zipfile.ZipFile(\"/tmp/climatedata.zip\", 'r')\n",
        "zip_ref.extractall('/tmp')\n",
        "zip_ref.close()\n",
        "\n",
        "fname = \"/tmp/jena_climate_2009_2016.csv\"\n",
        "df = pd.read_csv(fname, index_col=0, parse_dates=False)\n",
        "float_data = df.to_numpy()\n",
        "\n",
        "# Normalize\n",
        "mean = float_data[:200000].mean(axis=0)\n",
        "float_data -= mean\n",
        "std = float_data[:200000].std(axis=0)\n",
        "float_data /= std\n",
        "\n",
        "\n",
        "# Generator yielding timeseries samples and their targets\n",
        "\n",
        "def generator(data, lookback, delay, min_index, max_index, shuffle=False, batch_size=128, step=6):\n",
        "  \"\"\"\n",
        "  Parameters\n",
        "  ----------\n",
        "  data : 2d numpy array\n",
        "      The array of floating-point timeseries data, normalized.\n",
        "  lookback : int\n",
        "      How many timesteps back the input data should go.\n",
        "  delay: int\n",
        "      How many timesteps in the future the target should be.\n",
        "  min_index: int\n",
        "      The lower bound of timesteps to draw from (helps keep validation/test data separate) \n",
        "  max_index: int\n",
        "      The upper bound of timesteps to draw from (helps keep validation/test data separate)\n",
        "  shuffle: bool\n",
        "      Whether to shuffle the samples or draw them in chronological order\n",
        "  batch_size: int\n",
        "      The number of samples per batch.\n",
        "  step: int\n",
        "      The period, in timesteps, at which you sample data.\n",
        "  \"\"\"\n",
        "  if max_index is None:\n",
        "    max_index = len(data) - delay - 1\n",
        "  i = min_index + lookback\n",
        "  while True:\n",
        "    if shuffle:\n",
        "      rows = np.random.randint(min_index+lookback, max_index, size=batch_size)\n",
        "    else:\n",
        "      if i+batch_size >= max_index:\n",
        "        i = min_index + lookback\n",
        "      rows = np.arange(i, min(i+batch_size, max_index))\n",
        "      i += len(rows)\n",
        "      \n",
        "    samples = np.zeros((len(rows), lookback // step, data.shape[-1]))\n",
        "    targets = np.zeros((len(rows),))\n",
        "    for j, row in enumerate(rows):\n",
        "      indices = range(rows[j] - lookback, rows[j], step)\n",
        "      samples[j] = data[indices]\n",
        "      targets[j] = data[rows[j] + delay][1]  # temperature is the second column\n",
        "    yield samples, targets\n",
        "    \n",
        "    \n",
        "# Create a training, validation, and test generator looking at different segments of the data\n",
        "lookback = 1440\n",
        "step = 6\n",
        "delay = 144\n",
        "batch_size = 128\n",
        "\n",
        "train_gen = generator(float_data,\n",
        "                      lookback=lookback,\n",
        "                      delay=delay,\n",
        "                      min_index=0,\n",
        "                      max_index=200000,\n",
        "                      shuffle=True,\n",
        "                      step=step,\n",
        "                      batch_size=batch_size\n",
        "                     )\n",
        "val_gen = generator(float_data,\n",
        "                    lookback=lookback,\n",
        "                    delay=delay,\n",
        "                    min_index=200001,\n",
        "                    max_index=300000,\n",
        "                    step=step,\n",
        "                    batch_size=batch_size\n",
        "                   )\n",
        "test_gen = generator(float_data,\n",
        "                     lookback=lookback,\n",
        "                     delay=delay,\n",
        "                     min_index=300001,\n",
        "                     max_index=None,\n",
        "                     step=step,\n",
        "                     batch_size=batch_size\n",
        "                    )\n",
        "\n",
        "# How many steps to draw from val_gen in order to see the entire validation set\n",
        "val_steps = (300000 - 200001 - lookback) // batch_size\n",
        "# As above, for the test set\n",
        "test_steps = (len(float_data) - 300001 - lookback) // batch_size\n",
        "\n"
      ],
      "execution_count": 3,
      "outputs": [
        {
          "output_type": "stream",
          "text": [
            "--2019-06-21 11:38:51--  https://s3.amazonaws.com/keras-datasets/jena_climate_2009_2016.csv.zip\n",
            "Resolving s3.amazonaws.com (s3.amazonaws.com)... 52.216.131.5\n",
            "Connecting to s3.amazonaws.com (s3.amazonaws.com)|52.216.131.5|:443... connected.\n",
            "HTTP request sent, awaiting response... 200 OK\n",
            "Length: 13568290 (13M) [application/zip]\n",
            "Saving to: ‘/tmp/climatedata.zip’\n",
            "\n",
            "\r/tmp/climatedata.zi   0%[                    ]       0  --.-KB/s               \r/tmp/climatedata.zi 100%[===================>]  12.94M  75.5MB/s    in 0.2s    \n",
            "\n",
            "2019-06-21 11:38:52 (75.5 MB/s) - ‘/tmp/climatedata.zip’ saved [13568290/13568290]\n",
            "\n"
          ],
          "name": "stdout"
        }
      ]
    },
    {
      "cell_type": "code",
      "metadata": {
        "id": "LaWbO3nCHeK5",
        "colab_type": "code",
        "outputId": "ca940eec-e67e-492a-c5ca-726972e3316e",
        "colab": {
          "base_uri": "https://localhost:8080/",
          "height": 752
        }
      },
      "source": [
        "model = keras.models.Sequential()\n",
        "model.add(keras.layers.Conv1D(32, 5, activation=\"relu\", input_shape=(None, float_data.shape[-1])))\n",
        "model.add(keras.layers.MaxPooling1D(3))\n",
        "model.add(keras.layers.Conv1D(32, 5, activation=\"relu\"))\n",
        "model.add(keras.layers.MaxPooling1D(3))\n",
        "model.add(keras.layers.Conv1D(32, 5, activation=\"relu\"))\n",
        "model.add(keras.layers.GlobalMaxPooling1D())\n",
        "model.add(keras.layers.Dense(1))\n",
        "\n",
        "\n",
        "\n",
        "model.compile(optimizer=keras.optimizers.RMSprop(), \n",
        "              loss=\"mae\"\n",
        "             )\n",
        "\n",
        "history = model.fit_generator(train_gen,\n",
        "                              steps_per_epoch=500,\n",
        "                              epochs=20,\n",
        "                              validation_data=val_gen,\n",
        "                              validation_steps=val_steps\n",
        "                             )"
      ],
      "execution_count": 0,
      "outputs": [
        {
          "output_type": "stream",
          "text": [
            "Epoch 1/20\n",
            "500/500 [==============================] - 46s 92ms/step - loss: 0.4189 - val_loss: 0.4273\n",
            "Epoch 2/20\n",
            "500/500 [==============================] - 46s 91ms/step - loss: 0.3636 - val_loss: 0.4422\n",
            "Epoch 3/20\n",
            "500/500 [==============================] - 46s 91ms/step - loss: 0.3405 - val_loss: 0.4444\n",
            "Epoch 4/20\n",
            "500/500 [==============================] - 45s 91ms/step - loss: 0.3279 - val_loss: 0.4663\n",
            "Epoch 5/20\n",
            "500/500 [==============================] - 45s 91ms/step - loss: 0.3162 - val_loss: 0.4552\n",
            "Epoch 6/20\n",
            "500/500 [==============================] - 45s 91ms/step - loss: 0.3087 - val_loss: 0.4603\n",
            "Epoch 7/20\n",
            "500/500 [==============================] - 46s 92ms/step - loss: 0.3023 - val_loss: 0.4505\n",
            "Epoch 8/20\n",
            "500/500 [==============================] - 46s 92ms/step - loss: 0.2982 - val_loss: 0.5195\n",
            "Epoch 9/20\n",
            "500/500 [==============================] - 46s 92ms/step - loss: 0.2928 - val_loss: 0.4947\n",
            "Epoch 10/20\n",
            "500/500 [==============================] - 46s 93ms/step - loss: 0.2888 - val_loss: 0.4639\n",
            "Epoch 11/20\n",
            "500/500 [==============================] - 46s 92ms/step - loss: 0.2871 - val_loss: 0.5072\n",
            "Epoch 12/20\n",
            "500/500 [==============================] - 46s 92ms/step - loss: 0.2842 - val_loss: 0.5362\n",
            "Epoch 13/20\n",
            "500/500 [==============================] - 46s 92ms/step - loss: 0.2824 - val_loss: 0.4514\n",
            "Epoch 14/20\n",
            "500/500 [==============================] - 46s 91ms/step - loss: 0.2816 - val_loss: 0.4630\n",
            "Epoch 15/20\n",
            "500/500 [==============================] - 45s 91ms/step - loss: 0.2806 - val_loss: 0.4800\n",
            "Epoch 16/20\n",
            "500/500 [==============================] - 46s 92ms/step - loss: 0.2787 - val_loss: 0.4556\n",
            "Epoch 17/20\n",
            "500/500 [==============================] - 47s 93ms/step - loss: 0.2779 - val_loss: 0.5093\n",
            "Epoch 18/20\n",
            "500/500 [==============================] - 46s 91ms/step - loss: 0.2801 - val_loss: 0.5145\n",
            "Epoch 19/20\n",
            "500/500 [==============================] - 45s 91ms/step - loss: 0.2776 - val_loss: 0.4627\n",
            "Epoch 20/20\n",
            "500/500 [==============================] - 46s 91ms/step - loss: 0.2812 - val_loss: 0.5354\n"
          ],
          "name": "stdout"
        }
      ]
    },
    {
      "cell_type": "code",
      "metadata": {
        "id": "Ewh8MVlHISEt",
        "colab_type": "code",
        "colab": {}
      },
      "source": [
        "def plotLoss(history):\n",
        "  history_dict = history.history\n",
        "  loss = history_dict[\"loss\"]\n",
        "  val_loss = history_dict[\"val_loss\"]\n",
        "  epochs = range(1, len(loss) +1)\n",
        "\n",
        "  plt.plot(epochs, loss, \"bo\", label=\"Training Loss\")\n",
        "  plt.plot(epochs, val_loss, \"b\", label=\"Validation Loss\")\n",
        "  plt.title(\"Training and validation loss\")\n",
        "  plt.xlabel(\"Epochs\")\n",
        "  plt.ylabel(\"Loss\")\n",
        "  plt.legend()\n",
        "  plt.show()"
      ],
      "execution_count": 0,
      "outputs": []
    },
    {
      "cell_type": "code",
      "metadata": {
        "id": "yWS3kRBCIWly",
        "colab_type": "code",
        "outputId": "8b12df86-f5da-4865-a8e7-f2957ffaefab",
        "colab": {
          "base_uri": "https://localhost:8080/",
          "height": 295
        }
      },
      "source": [
        "plotLoss(history)"
      ],
      "execution_count": 0,
      "outputs": [
        {
          "output_type": "display_data",
          "data": {
            "image/png": "[encoded data removed]",
            "text/plain": [
              "<Figure size 432x288 with 1 Axes>"
            ]
          },
          "metadata": {
            "tags": []
          }
        }
      ]
    },
    {
      "cell_type": "markdown",
      "metadata": {
        "id": "XWVFi4tfIXVd",
        "colab_type": "text"
      },
      "source": [
        "\n",
        "The 1D convnet is rubbish on the temperature-prediction task, you can't beat the common-sense baseline (or even come close).\n",
        "\n",
        "### Combining CNNs and RNNs to process long sequences\n",
        "\n",
        "We can try to combine the speed of a convnet with the order-sensitivity of an RNN  by using a 1D convnet as a preprocessing step, which downsamples the sequence."
      ]
    },
    {
      "cell_type": "code",
      "metadata": {
        "id": "Cirfj2M502b-",
        "colab_type": "code",
        "colab": {}
      },
      "source": [
        "lookback = 720\n",
        "step = 3\n",
        "delay = 144\n",
        "batch_size = 128\n",
        "\n",
        "train_gen = generator(float_data,\n",
        "                      lookback=lookback,\n",
        "                      delay=delay,\n",
        "                      min_index=0,\n",
        "                      max_index=200000,\n",
        "                      shuffle=True,\n",
        "                      step=step,\n",
        "                      batch_size=batch_size\n",
        "                     )\n",
        "val_gen = generator(float_data,\n",
        "                    lookback=lookback,\n",
        "                    delay=delay,\n",
        "                    min_index=200001,\n",
        "                    max_index=300000,\n",
        "                    step=step,\n",
        "                    batch_size=batch_size\n",
        "                   )\n",
        "\n",
        "test_gen = generator(float_data,\n",
        "                     lookback=lookback,\n",
        "                     delay=delay,\n",
        "                     min_index=300001,\n",
        "                     max_index=None,\n",
        "                     step=step,\n",
        "                     batch_size=batch_size\n",
        "                    )\n",
        "\n",
        "# How many steps to draw from val_gen in order to see the entire validation set\n",
        "val_steps = (300000 - 200001 - lookback) // batch_size\n",
        "# As above, for the test set\n",
        "test_steps = (len(float_data) - 300001 - lookback) // batch_size\n",
        "\n"
      ],
      "execution_count": 0,
      "outputs": []
    },
    {
      "cell_type": "code",
      "metadata": {
        "id": "QXWWj8AQ1Lqk",
        "colab_type": "code",
        "colab": {
          "base_uri": "https://localhost:8080/",
          "height": 1135
        },
        "outputId": "39cf72a7-6b5f-49ae-d3fe-f76a0d7b51ed"
      },
      "source": [
        "model = keras.models.Sequential()\n",
        "model.add(keras.layers.Conv1D(32, 5, activation=\"relu\", input_shape=(None, float_data.shape[-1])))\n",
        "model.add(keras.layers.MaxPooling1D(3))\n",
        "model.add(keras.layers.Conv1D(32, 5, activation=\"relu\"))\n",
        "model.add(keras.layers.GRU(32, dropout=0.1, recurrent_dropout=0.5))\n",
        "model.add(keras.layers.Dense(1))\n",
        "\n",
        "\n",
        "\n",
        "model.compile(optimizer=keras.optimizers.RMSprop(), \n",
        "              loss=\"mae\"\n",
        "             )\n",
        "\n",
        "history = model.fit_generator(train_gen,\n",
        "                              steps_per_epoch=500,\n",
        "                              epochs=20,\n",
        "                              validation_data=val_gen,\n",
        "                              validation_steps=val_steps\n",
        "                             )"
      ],
      "execution_count": 5,
      "outputs": [
        {
          "output_type": "stream",
          "text": [
            "WARNING: Logging before flag parsing goes to stderr.\n",
            "W0621 11:39:52.891015 140636686014336 deprecation_wrapper.py:119] From /usr/local/lib/python3.6/dist-packages/keras/backend/tensorflow_backend.py:74: The name tf.get_default_graph is deprecated. Please use tf.compat.v1.get_default_graph instead.\n",
            "\n",
            "W0621 11:39:52.950800 140636686014336 deprecation_wrapper.py:119] From /usr/local/lib/python3.6/dist-packages/keras/backend/tensorflow_backend.py:517: The name tf.placeholder is deprecated. Please use tf.compat.v1.placeholder instead.\n",
            "\n",
            "W0621 11:39:52.962800 140636686014336 deprecation_wrapper.py:119] From /usr/local/lib/python3.6/dist-packages/keras/backend/tensorflow_backend.py:4138: The name tf.random_uniform is deprecated. Please use tf.random.uniform instead.\n",
            "\n",
            "W0621 11:39:53.022826 140636686014336 deprecation_wrapper.py:119] From /usr/local/lib/python3.6/dist-packages/keras/backend/tensorflow_backend.py:3976: The name tf.nn.max_pool is deprecated. Please use tf.nn.max_pool2d instead.\n",
            "\n",
            "W0621 11:39:53.138454 140636686014336 deprecation_wrapper.py:119] From /usr/local/lib/python3.6/dist-packages/keras/backend/tensorflow_backend.py:133: The name tf.placeholder_with_default is deprecated. Please use tf.compat.v1.placeholder_with_default instead.\n",
            "\n",
            "W0621 11:39:53.150091 140636686014336 deprecation.py:506] From /usr/local/lib/python3.6/dist-packages/keras/backend/tensorflow_backend.py:3445: calling dropout (from tensorflow.python.ops.nn_ops) with keep_prob is deprecated and will be removed in a future version.\n",
            "Instructions for updating:\n",
            "Please use `rate` instead of `keep_prob`. Rate should be set to `rate = 1 - keep_prob`.\n",
            "W0621 11:39:53.391932 140636686014336 deprecation_wrapper.py:119] From /usr/local/lib/python3.6/dist-packages/keras/optimizers.py:790: The name tf.train.Optimizer is deprecated. Please use tf.compat.v1.train.Optimizer instead.\n",
            "\n",
            "W0621 11:39:53.834969 140636686014336 deprecation.py:323] From /usr/local/lib/python3.6/dist-packages/tensorflow/python/ops/math_grad.py:1250: add_dispatch_support.<locals>.wrapper (from tensorflow.python.ops.array_ops) is deprecated and will be removed in a future version.\n",
            "Instructions for updating:\n",
            "Use tf.where in 2.0, which has the same broadcast rule as np.where\n",
            "W0621 11:39:54.387128 140636686014336 deprecation_wrapper.py:119] From /usr/local/lib/python3.6/dist-packages/keras/backend/tensorflow_backend.py:986: The name tf.assign_add is deprecated. Please use tf.compat.v1.assign_add instead.\n",
            "\n"
          ],
          "name": "stderr"
        },
        {
          "output_type": "stream",
          "text": [
            "Epoch 1/20\n",
            "500/500 [==============================] - 79s 159ms/step - loss: 0.3403 - val_loss: 0.2900\n",
            "Epoch 2/20\n",
            "500/500 [==============================] - 77s 155ms/step - loss: 0.3057 - val_loss: 0.3165\n",
            "Epoch 3/20\n",
            "500/500 [==============================] - 78s 155ms/step - loss: 0.2936 - val_loss: 0.2751\n",
            "Epoch 4/20\n",
            "500/500 [==============================] - 78s 156ms/step - loss: 0.2837 - val_loss: 0.2885\n",
            "Epoch 5/20\n",
            "500/500 [==============================] - 78s 156ms/step - loss: 0.2781 - val_loss: 0.2791\n",
            "Epoch 6/20\n",
            "500/500 [==============================] - 78s 156ms/step - loss: 0.2714 - val_loss: 0.2799\n",
            "Epoch 7/20\n",
            "500/500 [==============================] - 78s 156ms/step - loss: 0.2663 - val_loss: 0.2898\n",
            "Epoch 8/20\n",
            "500/500 [==============================] - 78s 156ms/step - loss: 0.2604 - val_loss: 0.2803\n",
            "Epoch 9/20\n",
            "500/500 [==============================] - 78s 156ms/step - loss: 0.2580 - val_loss: 0.2831\n",
            "Epoch 10/20\n",
            "500/500 [==============================] - 78s 156ms/step - loss: 0.2526 - val_loss: 0.2874\n",
            "Epoch 11/20\n",
            "500/500 [==============================] - 78s 156ms/step - loss: 0.2495 - val_loss: 0.2876\n",
            "Epoch 12/20\n",
            "500/500 [==============================] - 78s 157ms/step - loss: 0.2477 - val_loss: 0.2859\n",
            "Epoch 13/20\n",
            "500/500 [==============================] - 78s 157ms/step - loss: 0.2434 - val_loss: 0.2866\n",
            "Epoch 14/20\n",
            "500/500 [==============================] - 78s 156ms/step - loss: 0.2404 - val_loss: 0.2908\n",
            "Epoch 15/20\n",
            "500/500 [==============================] - 78s 156ms/step - loss: 0.2364 - val_loss: 0.2930\n",
            "Epoch 16/20\n",
            "500/500 [==============================] - 78s 156ms/step - loss: 0.2343 - val_loss: 0.3000\n",
            "Epoch 17/20\n",
            "500/500 [==============================] - 78s 156ms/step - loss: 0.2317 - val_loss: 0.2967\n",
            "Epoch 18/20\n",
            "500/500 [==============================] - 78s 157ms/step - loss: 0.2307 - val_loss: 0.2915\n",
            "Epoch 19/20\n",
            "500/500 [==============================] - 78s 157ms/step - loss: 0.2261 - val_loss: 0.2899\n",
            "Epoch 20/20\n",
            "500/500 [==============================] - 78s 156ms/step - loss: 0.2255 - val_loss: 0.2990\n"
          ],
          "name": "stdout"
        }
      ]
    },
    {
      "cell_type": "code",
      "metadata": {
        "id": "u-fO-P6oDIi1",
        "colab_type": "code",
        "colab": {
          "base_uri": "https://localhost:8080/",
          "height": 295
        },
        "outputId": "d78ffc09-964c-4b9b-8772-89bec51f3c3c"
      },
      "source": [
        "plotLoss(history)"
      ],
      "execution_count": 8,
      "outputs": [
        {
          "output_type": "display_data",
          "data": {
            "image/png": "[encoded data removed]",
            "text/plain": [
              "<Figure size 432x288 with 1 Axes>"
            ]
          },
          "metadata": {
            "tags": []
          }
        }
      ]
    },
    {
      "cell_type": "markdown",
      "metadata": {
        "id": "a8TofDd51fFF",
        "colab_type": "text"
      },
      "source": [
        "This setup is about as good as the regularised `GRU` by itself, but is much quicker."
      ]
    },
    {
      "cell_type": "code",
      "metadata": {
        "id": "WCbjwQMj1vxe",
        "colab_type": "code",
        "colab": {}
      },
      "source": [
        ""
      ],
      "execution_count": 0,
      "outputs": []
    }
  ]
}