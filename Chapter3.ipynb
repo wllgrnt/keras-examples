{
  "nbformat": 4,
  "nbformat_minor": 0,
  "metadata": {
    "colab": {
      "name": "Chapter3.ipynb",
      "version": "0.3.2",
      "provenance": [],
      "collapsed_sections": [],
      "include_colab_link": true
    },
    "kernelspec": {
      "name": "python3",
      "display_name": "Python 3"
    },
    "accelerator": "TPU"
  },
  "cells": [
    {
      "cell_type": "markdown",
      "metadata": {
        "id": "view-in-github",
        "colab_type": "text"
      },
      "source": [
        "<a href=\"https://colab.research.google.com/github/wllgrnt/keras-examples/blob/master/Chapter3.ipynb\" target=\"_parent\"><img src=\"https://colab.research.google.com/assets/colab-badge.svg\" alt=\"Open In Colab\"/></a>"
      ]
    },
    {
      "cell_type": "markdown",
      "metadata": {
        "id": "ibGN4IWrGkm-",
        "colab_type": "text"
      },
      "source": [
        "# Chapter 3\n",
        "\n",
        "Example models for:\n",
        "- two-class classification\n",
        "- many-class classification\n",
        "- regression"
      ]
    },
    {
      "cell_type": "code",
      "metadata": {
        "id": "i84V6fqlF9yf",
        "colab_type": "code",
        "colab": {}
      },
      "source": [
        "import keras\n",
        "import numpy as np\n",
        "import matplotlib.pyplot as plt\n",
        "import seaborn as sns\n",
        "\n",
        "sns.set(style=\"whitegrid\")"
      ],
      "execution_count": 0,
      "outputs": []
    },
    {
      "cell_type": "markdown",
      "metadata": {
        "id": "-RKeVmM4HYEO",
        "colab_type": "text"
      },
      "source": [
        "## Binary classification"
      ]
    },
    {
      "cell_type": "code",
      "metadata": {
        "id": "R83kpW2-HceN",
        "colab_type": "code",
        "colab": {}
      },
      "source": [
        "\n",
        "# Load the IMDB dataset\n",
        "# I have to overwrite np.load as keras hasn't kept pace with the latest version of numpy\n",
        "old = np.load\n",
        "np.load = lambda *a,**k: old(*a,**k,allow_pickle=True)\n",
        "\n",
        "(train_data, train_labels), (test_data, test_labels) = keras.datasets.imdb.load_data(num_words=10000)\n",
        "\n",
        "np.load = old\n",
        "del(old)\n"
      ],
      "execution_count": 0,
      "outputs": []
    },
    {
      "cell_type": "code",
      "metadata": {
        "id": "9_G7pr-hHrry",
        "colab_type": "code",
        "colab": {
          "base_uri": "https://localhost:8080/",
          "height": 34
        },
        "outputId": "063deba3-85fe-4ff1-d283-fe79228cbb94"
      },
      "source": [
        "train_data.shape"
      ],
      "execution_count": 6,
      "outputs": [
        {
          "output_type": "execute_result",
          "data": {
            "text/plain": [
              "(25000,)"
            ]
          },
          "metadata": {
            "tags": []
          },
          "execution_count": 6
        }
      ]
    },
    {
      "cell_type": "code",
      "metadata": {
        "id": "flZy8WzDI1oJ",
        "colab_type": "code",
        "colab": {
          "base_uri": "https://localhost:8080/",
          "height": 225
        },
        "outputId": "d4fa03d7-2aa3-4311-abc7-e657c039960f"
      },
      "source": [
        "def decode_review(coded_review):\n",
        "  \"\"\"\n",
        "  A coded review is a list of word indices - this converts it back into a list of words\n",
        "  \"\"\"\n",
        "  word_index  = keras.datasets.imdb.get_word_index()\n",
        "  reverse_word_index = {value: key for key, value in word_index.items()}\n",
        "  # -3 as 0,1,2 are reserved for padding, start of sequence, and unknown\n",
        "  decoded_review = \" \".join([reverse_word_index.get(i-3, \"?\") for i in coded_review])\n",
        "  n = 100  # put newlines in for ease of reading\n",
        "  return \"\\n\".join([decoded_review[i:i + n] for i in range(0, len(decoded_review), n)])\n",
        "\n",
        "print(decode_review(train_data[0]))"
      ],
      "execution_count": 11,
      "outputs": [
        {
          "output_type": "stream",
          "text": [
            "? this film was just brilliant casting location scenery story direction everyone's really suited the\n",
            " part they played and you could just imagine being there robert ? is an amazing actor and now the sa\n",
            "me being director ? father came from the same scottish island as myself so i loved the fact there wa\n",
            "s a real connection with this film the witty remarks throughout the film were great it was just bril\n",
            "liant so much that i bought the film as soon as it was released for ? and would recommend it to ever\n",
            "yone to watch and the fly fishing was amazing really cried at the end it was so sad and you know wha\n",
            "t they say if you cry at a film it must have been good and this definitely was also ? to the two lit\n",
            "tle boy's that played the ? of norman and paul they were just brilliant children are often left out \n",
            "of the ? list i think because the stars that play them all grown up are such a big profile for the w\n",
            "hole film but these children are amazing and should be praised for what they have done don't you thi\n",
            "nk the whole story was so lovely because it was true and was someone's life after all that was share\n",
            "d with us all\n"
          ],
          "name": "stdout"
        }
      ]
    },
    {
      "cell_type": "code",
      "metadata": {
        "id": "Na3U5WgNJ7vc",
        "colab_type": "code",
        "colab": {}
      },
      "source": [
        "# We can't feed variable-length lists of integers into our network (apparently),\n",
        "# so one-hot encode each integer as a vector of 0s with a 1 at the index of the integer  \n",
        "\n",
        "def vectorize_sequences(sequences, dimension=10000):\n",
        "  results = np.zeros((len(sequences), dimension))\n",
        "  for i, sequence in enumerate(sequences):\n",
        "    results[i, sequence] = 1.\n",
        "  return results\n",
        "\n",
        "X_train = vectorize_sequences(train_data)\n",
        "X_test = vectorize_sequences(test_data)"
      ],
      "execution_count": 0,
      "outputs": []
    },
    {
      "cell_type": "code",
      "metadata": {
        "id": "-7pF3rNgLsPh",
        "colab_type": "code",
        "colab": {}
      },
      "source": [
        "y_train = np.asarray(train_labels).astype(\"float32\")\n",
        "y_test = np.asarray(test_labels).astype(\"float32\")"
      ],
      "execution_count": 0,
      "outputs": []
    },
    {
      "cell_type": "code",
      "metadata": {
        "id": "0REM6bEJL_oC",
        "colab_type": "code",
        "colab": {
          "base_uri": "https://localhost:8080/",
          "height": 159
        },
        "outputId": "bafcf87c-a610-4e91-9d3e-07bb33022476"
      },
      "source": [
        "model = keras.models.Sequential()\n",
        "model.add(keras.layers.Dense(16, activation=\"relu\", input_shape=(10000,)))\n",
        "model.add(keras.layers.Dense(16, activation=\"relu\"))\n",
        "model.add(keras.layers.Dense(1, activation=\"sigmoid\"))"
      ],
      "execution_count": 14,
      "outputs": [
        {
          "output_type": "stream",
          "text": [
            "WARNING: Logging before flag parsing goes to stderr.\n",
            "W0613 18:55:59.688699 139681778009984 deprecation_wrapper.py:119] From /usr/local/lib/python3.6/dist-packages/keras/backend/tensorflow_backend.py:74: The name tf.get_default_graph is deprecated. Please use tf.compat.v1.get_default_graph instead.\n",
            "\n",
            "W0613 18:55:59.725916 139681778009984 deprecation_wrapper.py:119] From /usr/local/lib/python3.6/dist-packages/keras/backend/tensorflow_backend.py:517: The name tf.placeholder is deprecated. Please use tf.compat.v1.placeholder instead.\n",
            "\n",
            "W0613 18:55:59.730074 139681778009984 deprecation_wrapper.py:119] From /usr/local/lib/python3.6/dist-packages/keras/backend/tensorflow_backend.py:4138: The name tf.random_uniform is deprecated. Please use tf.random.uniform instead.\n",
            "\n"
          ],
          "name": "stderr"
        }
      ]
    },
    {
      "cell_type": "code",
      "metadata": {
        "id": "MuudbSubMle3",
        "colab_type": "code",
        "colab": {
          "base_uri": "https://localhost:8080/",
          "height": 159
        },
        "outputId": "20f28c6f-d908-47f7-e1e5-24c6f55739a9"
      },
      "source": [
        "# We could also pass in our own optimizers e.g. form keras.optimisers, ditto for metrics\n",
        "model.compile(optimizer=\"rmsprop\", loss=\"binary_crossentropy\", metrics=[\"accuracy\"])"
      ],
      "execution_count": 15,
      "outputs": [
        {
          "output_type": "stream",
          "text": [
            "W0613 18:57:02.308545 139681778009984 deprecation_wrapper.py:119] From /usr/local/lib/python3.6/dist-packages/keras/optimizers.py:790: The name tf.train.Optimizer is deprecated. Please use tf.compat.v1.train.Optimizer instead.\n",
            "\n",
            "W0613 18:57:02.338395 139681778009984 deprecation_wrapper.py:119] From /usr/local/lib/python3.6/dist-packages/keras/backend/tensorflow_backend.py:3376: The name tf.log is deprecated. Please use tf.math.log instead.\n",
            "\n",
            "W0613 18:57:02.345844 139681778009984 deprecation.py:323] From /usr/local/lib/python3.6/dist-packages/tensorflow/python/ops/nn_impl.py:180: add_dispatch_support.<locals>.wrapper (from tensorflow.python.ops.array_ops) is deprecated and will be removed in a future version.\n",
            "Instructions for updating:\n",
            "Use tf.where in 2.0, which has the same broadcast rule as np.where\n"
          ],
          "name": "stderr"
        }
      ]
    },
    {
      "cell_type": "code",
      "metadata": {
        "id": "17M-yyZmM0xS",
        "colab_type": "code",
        "colab": {}
      },
      "source": [
        "X_val = X_train[:10000]\n",
        "partial_X_train = X_train[10000:]\n",
        "\n",
        "y_val = y_train[:10000]\n",
        "partial_y_train = y_train[10000:]\n"
      ],
      "execution_count": 0,
      "outputs": []
    },
    {
      "cell_type": "code",
      "metadata": {
        "id": "FBJqir1ZNS8F",
        "colab_type": "code",
        "colab": {
          "base_uri": "https://localhost:8080/",
          "height": 784
        },
        "outputId": "ef746e5b-55d0-4ca3-c548-93897aaa69ff"
      },
      "source": [
        "history = model.fit(partial_X_train,\n",
        "                   partial_y_train,\n",
        "                   epochs=20,\n",
        "                   batch_size=512,\n",
        "                   validation_data=(X_val, y_val))"
      ],
      "execution_count": 18,
      "outputs": [
        {
          "output_type": "stream",
          "text": [
            "W0613 18:59:50.878329 139681778009984 deprecation_wrapper.py:119] From /usr/local/lib/python3.6/dist-packages/keras/backend/tensorflow_backend.py:986: The name tf.assign_add is deprecated. Please use tf.compat.v1.assign_add instead.\n",
            "\n"
          ],
          "name": "stderr"
        },
        {
          "output_type": "stream",
          "text": [
            "Train on 15000 samples, validate on 10000 samples\n",
            "Epoch 1/20\n",
            "15000/15000 [==============================] - 2s 165us/step - loss: 0.5087 - acc: 0.7813 - val_loss: 0.3802 - val_acc: 0.8690\n",
            "Epoch 2/20\n",
            "15000/15000 [==============================] - 2s 134us/step - loss: 0.3007 - acc: 0.9051 - val_loss: 0.3006 - val_acc: 0.8899\n",
            "Epoch 3/20\n",
            "15000/15000 [==============================] - 2s 134us/step - loss: 0.2181 - acc: 0.9281 - val_loss: 0.3085 - val_acc: 0.8717\n",
            "Epoch 4/20\n",
            "15000/15000 [==============================] - 2s 133us/step - loss: 0.1751 - acc: 0.9433 - val_loss: 0.2842 - val_acc: 0.8837\n",
            "Epoch 5/20\n",
            "15000/15000 [==============================] - 2s 132us/step - loss: 0.1427 - acc: 0.9542 - val_loss: 0.2847 - val_acc: 0.8865\n",
            "Epoch 6/20\n",
            "15000/15000 [==============================] - 2s 132us/step - loss: 0.1150 - acc: 0.9654 - val_loss: 0.3155 - val_acc: 0.8772\n",
            "Epoch 7/20\n",
            "15000/15000 [==============================] - 2s 132us/step - loss: 0.0980 - acc: 0.9703 - val_loss: 0.3127 - val_acc: 0.8844\n",
            "Epoch 8/20\n",
            "15000/15000 [==============================] - 2s 130us/step - loss: 0.0808 - acc: 0.9764 - val_loss: 0.3856 - val_acc: 0.8652\n",
            "Epoch 9/20\n",
            "15000/15000 [==============================] - 2s 129us/step - loss: 0.0661 - acc: 0.9822 - val_loss: 0.3633 - val_acc: 0.8780\n",
            "Epoch 10/20\n",
            "15000/15000 [==============================] - 2s 133us/step - loss: 0.0558 - acc: 0.9853 - val_loss: 0.3841 - val_acc: 0.8787\n",
            "Epoch 11/20\n",
            "15000/15000 [==============================] - 2s 131us/step - loss: 0.0450 - acc: 0.9889 - val_loss: 0.4159 - val_acc: 0.8767\n",
            "Epoch 12/20\n",
            "15000/15000 [==============================] - 2s 129us/step - loss: 0.0385 - acc: 0.9915 - val_loss: 0.4503 - val_acc: 0.8697\n",
            "Epoch 13/20\n",
            "15000/15000 [==============================] - 2s 134us/step - loss: 0.0300 - acc: 0.9930 - val_loss: 0.4692 - val_acc: 0.8730\n",
            "Epoch 14/20\n",
            "15000/15000 [==============================] - 2s 131us/step - loss: 0.0247 - acc: 0.9947 - val_loss: 0.5017 - val_acc: 0.8714\n",
            "Epoch 15/20\n",
            "15000/15000 [==============================] - 2s 131us/step - loss: 0.0174 - acc: 0.9981 - val_loss: 0.5672 - val_acc: 0.8616\n",
            "Epoch 16/20\n",
            "15000/15000 [==============================] - 2s 142us/step - loss: 0.0188 - acc: 0.9961 - val_loss: 0.5752 - val_acc: 0.8705\n",
            "Epoch 17/20\n",
            "15000/15000 [==============================] - 2s 129us/step - loss: 0.0093 - acc: 0.9995 - val_loss: 0.6022 - val_acc: 0.8678\n",
            "Epoch 18/20\n",
            "15000/15000 [==============================] - 2s 132us/step - loss: 0.0115 - acc: 0.9981 - val_loss: 0.6437 - val_acc: 0.8670\n",
            "Epoch 19/20\n",
            "15000/15000 [==============================] - 2s 131us/step - loss: 0.0060 - acc: 0.9995 - val_loss: 0.7599 - val_acc: 0.8525\n",
            "Epoch 20/20\n",
            "15000/15000 [==============================] - 2s 130us/step - loss: 0.0047 - acc: 0.9998 - val_loss: 0.7061 - val_acc: 0.8661\n"
          ],
          "name": "stdout"
        }
      ]
    },
    {
      "cell_type": "code",
      "metadata": {
        "id": "0_rsyQxKNb-Q",
        "colab_type": "code",
        "colab": {
          "base_uri": "https://localhost:8080/",
          "height": 301
        },
        "outputId": "b36da768-acc1-4ac0-bf21-40f69de7e524"
      },
      "source": [
        "# Looks overfit beyond belief to me! We have a History object that can tell us more \n",
        "\n",
        "history_dict = history.history\n",
        "loss_values = history_dict[\"loss\"]\n",
        "val_loss_values = history_dict[\"val_loss\"]\n",
        "epochs = range(1, len(loss_values) +1)\n",
        "\n",
        "plt.plot(epochs, loss_values, \"bo\", label=\"Training Loss\")\n",
        "plt.plot(epochs, val_loss_values, \"b\", label=\"Validation Loss\")\n",
        "plt.title(\"Training and validation loss\")\n",
        "plt.xlabel(\"Epochs\")\n",
        "plt.ylabel(\"Loss\")\n",
        "plt.legend()\n",
        "plt.show()"
      ],
      "execution_count": 24,
      "outputs": [
        {
          "output_type": "display_data",
          "data": {
            "image/png": "[encoded data removed]",
            "text/plain": [
              "<Figure size 432x288 with 1 Axes>"
            ]
          },
          "metadata": {
            "tags": []
          }
        }
      ]
    },
    {
      "cell_type": "code",
      "metadata": {
        "id": "0Iosp0NdNxfg",
        "colab_type": "code",
        "colab": {
          "base_uri": "https://localhost:8080/",
          "height": 301
        },
        "outputId": "5d54ae69-27eb-4726-9706-9bc58f28c7b0"
      },
      "source": [
        "acc_values = history_dict[\"acc\"]\n",
        "val_acc_values = history_dict[\"val_acc\"]\n",
        "\n",
        "plt.plot(epochs, acc_values, \"bo\", label=\"Training Accuracy\")\n",
        "plt.plot(epochs, val_acc_values, \"b\", label=\"Validation Accuracy\")\n",
        "plt.title(\"Training and validation accuracy\")\n",
        "plt.xlabel(\"Epochs\")\n",
        "plt.ylabel(\"Accuracy\")\n",
        "plt.legend()\n",
        "plt.show()"
      ],
      "execution_count": 25,
      "outputs": [
        {
          "output_type": "display_data",
          "data": {
            "image/png": "[encoded data removed]",
            "text/plain": [
              "<Figure size 432x288 with 1 Axes>"
            ]
          },
          "metadata": {
            "tags": []
          }
        }
      ]
    },
    {
      "cell_type": "code",
      "metadata": {
        "id": "sZ7LqQQiO_TE",
        "colab_type": "code",
        "colab": {
          "base_uri": "https://localhost:8080/",
          "height": 139
        },
        "outputId": "c6ae8b0b-0f0d-4fa4-b36a-770497e48a4f"
      },
      "source": [
        "# We can generate the likelihood of reviews being positive using the `predict` method:\n",
        "\n",
        "model.predict(X_test)"
      ],
      "execution_count": 26,
      "outputs": [
        {
          "output_type": "execute_result",
          "data": {
            "text/plain": [
              "array([[0.00766921],\n",
              "       [0.9999999 ],\n",
              "       [0.892249  ],\n",
              "       ...,\n",
              "       [0.00103635],\n",
              "       [0.00685436],\n",
              "       [0.7414063 ]], dtype=float32)"
            ]
          },
          "metadata": {
            "tags": []
          },
          "execution_count": 26
        }
      ]
    },
    {
      "cell_type": "code",
      "metadata": {
        "id": "_sXZ1sJtPaox",
        "colab_type": "code",
        "colab": {}
      },
      "source": [
        ""
      ],
      "execution_count": 0,
      "outputs": []
    }
  ]
}