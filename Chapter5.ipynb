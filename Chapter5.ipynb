{
  "nbformat": 4,
  "nbformat_minor": 0,
  "metadata": {
    "colab": {
      "name": "Chapter5.ipynb",
      "version": "0.3.2",
      "provenance": [],
      "collapsed_sections": [],
      "include_colab_link": true
    },
    "kernelspec": {
      "name": "python3",
      "display_name": "Python 3"
    },
    "accelerator": "TPU"
  },
  "cells": [
    {
      "cell_type": "markdown",
      "metadata": {
        "id": "view-in-github",
        "colab_type": "text"
      },
      "source": [
        "<a href=\"https://colab.research.google.com/github/wllgrnt/keras-examples/blob/master/Chapter5.ipynb\" target=\"_parent\"><img src=\"https://colab.research.google.com/assets/colab-badge.svg\" alt=\"Open In Colab\"/></a>"
      ]
    },
    {
      "cell_type": "markdown",
      "metadata": {
        "id": "Z-LJD6K7cJru",
        "colab_type": "text"
      },
      "source": [
        "# Chapter 5\n",
        "\n",
        "## Deep Learning for Computer Vision"
      ]
    },
    {
      "cell_type": "code",
      "metadata": {
        "id": "BVVEpIA3cj7R",
        "colab_type": "code",
        "colab": {}
      },
      "source": [
        "import keras\n",
        "from google.colab import drive, files\n",
        "import os\n",
        "import shutil\n",
        "import zipfile\n",
        "import matplotlib.pyplot as plt\n",
        "import seaborn as sns\n",
        "\n",
        "sns.set(style=\"whitegrid\")\n"
      ],
      "execution_count": 0,
      "outputs": []
    },
    {
      "cell_type": "markdown",
      "metadata": {
        "id": "pDEHRaV3cTwT",
        "colab_type": "text"
      },
      "source": [
        "### Convolutional networks\n",
        "\n",
        "Here's a basic MNIST classifier made up `Conv2D` and `MaxPooling2D` layers"
      ]
    },
    {
      "cell_type": "code",
      "metadata": {
        "id": "Iybdt7QhcZCC",
        "colab_type": "code",
        "colab": {
          "base_uri": "https://localhost:8080/",
          "height": 193
        },
        "outputId": "e11e1004-61e0-4fb7-91a8-8c0dca862f01"
      },
      "source": [
        "model = keras.models.Sequential()\n",
        "model.add(keras.layers.Conv2D(32, (3,3), activation=\"relu\", input_shape=(28,28,1)))\n",
        "model.add(keras.layers.MaxPooling2D((2,2)))\n",
        "model.add(keras.layers.Conv2D(64, (3,3), activation=\"relu\"))\n",
        "model.add(keras.layers.MaxPooling2D((2,2)))\n",
        "model.add(keras.layers.Conv2D(64, (3,3), activation=\"relu\"))"
      ],
      "execution_count": 2,
      "outputs": [
        {
          "output_type": "stream",
          "text": [
            "WARNING: Logging before flag parsing goes to stderr.\n",
            "W0614 19:31:39.983044 140068333918080 deprecation_wrapper.py:119] From /usr/local/lib/python3.6/dist-packages/keras/backend/tensorflow_backend.py:74: The name tf.get_default_graph is deprecated. Please use tf.compat.v1.get_default_graph instead.\n",
            "\n",
            "W0614 19:31:40.007148 140068333918080 deprecation_wrapper.py:119] From /usr/local/lib/python3.6/dist-packages/keras/backend/tensorflow_backend.py:517: The name tf.placeholder is deprecated. Please use tf.compat.v1.placeholder instead.\n",
            "\n",
            "W0614 19:31:40.010866 140068333918080 deprecation_wrapper.py:119] From /usr/local/lib/python3.6/dist-packages/keras/backend/tensorflow_backend.py:4138: The name tf.random_uniform is deprecated. Please use tf.random.uniform instead.\n",
            "\n",
            "W0614 19:31:40.047506 140068333918080 deprecation_wrapper.py:119] From /usr/local/lib/python3.6/dist-packages/keras/backend/tensorflow_backend.py:3976: The name tf.nn.max_pool is deprecated. Please use tf.nn.max_pool2d instead.\n",
            "\n"
          ],
          "name": "stderr"
        }
      ]
    },
    {
      "cell_type": "code",
      "metadata": {
        "id": "MRwigOjcchqO",
        "colab_type": "code",
        "colab": {
          "base_uri": "https://localhost:8080/",
          "height": 312
        },
        "outputId": "cdd10395-70bf-4080-8f95-e46993edf085"
      },
      "source": [
        "# Display the model architecture\n",
        "model.summary()"
      ],
      "execution_count": 3,
      "outputs": [
        {
          "output_type": "stream",
          "text": [
            "_________________________________________________________________\n",
            "Layer (type)                 Output Shape              Param #   \n",
            "=================================================================\n",
            "conv2d_1 (Conv2D)            (None, 26, 26, 32)        320       \n",
            "_________________________________________________________________\n",
            "max_pooling2d_1 (MaxPooling2 (None, 13, 13, 32)        0         \n",
            "_________________________________________________________________\n",
            "conv2d_2 (Conv2D)            (None, 11, 11, 64)        18496     \n",
            "_________________________________________________________________\n",
            "max_pooling2d_2 (MaxPooling2 (None, 5, 5, 64)          0         \n",
            "_________________________________________________________________\n",
            "conv2d_3 (Conv2D)            (None, 3, 3, 64)          36928     \n",
            "=================================================================\n",
            "Total params: 55,744\n",
            "Trainable params: 55,744\n",
            "Non-trainable params: 0\n",
            "_________________________________________________________________\n"
          ],
          "name": "stdout"
        }
      ]
    },
    {
      "cell_type": "code",
      "metadata": {
        "id": "FUBCZWzBdJD5",
        "colab_type": "code",
        "colab": {
          "base_uri": "https://localhost:8080/",
          "height": 416
        },
        "outputId": "7072e2ed-0010-4538-b957-2e27e035c655"
      },
      "source": [
        "# Connect this convnet to a classifier network - a stack of `Dense` layers\n",
        "# These process vectors, so we have to flatten the 3D tensor\n",
        "\n",
        "model.add(keras.layers.Flatten())\n",
        "model.add(keras.layers.Dense(64, activation=\"relu\"))\n",
        "model.add(keras.layers.Dense(10, activation=\"softmax\"))\n",
        "\n",
        "model.summary()"
      ],
      "execution_count": 4,
      "outputs": [
        {
          "output_type": "stream",
          "text": [
            "_________________________________________________________________\n",
            "Layer (type)                 Output Shape              Param #   \n",
            "=================================================================\n",
            "conv2d_1 (Conv2D)            (None, 26, 26, 32)        320       \n",
            "_________________________________________________________________\n",
            "max_pooling2d_1 (MaxPooling2 (None, 13, 13, 32)        0         \n",
            "_________________________________________________________________\n",
            "conv2d_2 (Conv2D)            (None, 11, 11, 64)        18496     \n",
            "_________________________________________________________________\n",
            "max_pooling2d_2 (MaxPooling2 (None, 5, 5, 64)          0         \n",
            "_________________________________________________________________\n",
            "conv2d_3 (Conv2D)            (None, 3, 3, 64)          36928     \n",
            "_________________________________________________________________\n",
            "flatten_1 (Flatten)          (None, 576)               0         \n",
            "_________________________________________________________________\n",
            "dense_1 (Dense)              (None, 64)                36928     \n",
            "_________________________________________________________________\n",
            "dense_2 (Dense)              (None, 10)                650       \n",
            "=================================================================\n",
            "Total params: 93,322\n",
            "Trainable params: 93,322\n",
            "Non-trainable params: 0\n",
            "_________________________________________________________________\n"
          ],
          "name": "stdout"
        }
      ]
    },
    {
      "cell_type": "code",
      "metadata": {
        "id": "J3ahxWdAdrPj",
        "colab_type": "code",
        "colab": {
          "base_uri": "https://localhost:8080/",
          "height": 419
        },
        "outputId": "9dfa9612-d87a-46cf-d9e4-5d7fd77f9e51"
      },
      "source": [
        "# Now train on MNIST\n",
        "(train_images, train_labels), (test_images, test_labels) = keras.datasets.mnist.load_data()\n",
        "\n",
        "\n",
        "train_images = train_images.reshape((60000, 28, 28, 1))\n",
        "train_images = train_images.astype(\"float32\") /255\n",
        "\n",
        "test_images = test_images.reshape((10000, 28, 28, 1))\n",
        "test_images = test_images.astype(\"float32\") /255\n",
        "\n",
        "train_labels = keras.utils.to_categorical(train_labels)\n",
        "test_labels = keras.utils.to_categorical(test_labels)\n",
        "\n",
        "model.compile(optimizer=\"rmsprop\", loss=\"categorical_crossentropy\", metrics=[\"accuracy\"])\n",
        "model.fit(train_images, train_labels, epochs=5, batch_size=64)"
      ],
      "execution_count": 5,
      "outputs": [
        {
          "output_type": "stream",
          "text": [
            "Downloading data from https://s3.amazonaws.com/img-datasets/mnist.npz\n",
            "11493376/11490434 [==============================] - 0s 0us/step\n"
          ],
          "name": "stdout"
        },
        {
          "output_type": "stream",
          "text": [
            "W0614 19:31:43.742312 140068333918080 deprecation_wrapper.py:119] From /usr/local/lib/python3.6/dist-packages/keras/optimizers.py:790: The name tf.train.Optimizer is deprecated. Please use tf.compat.v1.train.Optimizer instead.\n",
            "\n",
            "W0614 19:31:43.770268 140068333918080 deprecation_wrapper.py:119] From /usr/local/lib/python3.6/dist-packages/keras/backend/tensorflow_backend.py:3295: The name tf.log is deprecated. Please use tf.math.log instead.\n",
            "\n",
            "W0614 19:31:43.882131 140068333918080 deprecation.py:323] From /usr/local/lib/python3.6/dist-packages/tensorflow/python/ops/math_grad.py:1250: add_dispatch_support.<locals>.wrapper (from tensorflow.python.ops.array_ops) is deprecated and will be removed in a future version.\n",
            "Instructions for updating:\n",
            "Use tf.where in 2.0, which has the same broadcast rule as np.where\n",
            "W0614 19:31:44.002884 140068333918080 deprecation_wrapper.py:119] From /usr/local/lib/python3.6/dist-packages/keras/backend/tensorflow_backend.py:986: The name tf.assign_add is deprecated. Please use tf.compat.v1.assign_add instead.\n",
            "\n"
          ],
          "name": "stderr"
        },
        {
          "output_type": "stream",
          "text": [
            "Epoch 1/5\n",
            "60000/60000 [==============================] - 53s 879us/step - loss: 0.1782 - acc: 0.9445\n",
            "Epoch 2/5\n",
            "60000/60000 [==============================] - 53s 879us/step - loss: 0.0473 - acc: 0.9854\n",
            "Epoch 3/5\n",
            "60000/60000 [==============================] - 53s 886us/step - loss: 0.0336 - acc: 0.9901\n",
            "Epoch 4/5\n",
            "60000/60000 [==============================] - 53s 885us/step - loss: 0.0259 - acc: 0.9923\n",
            "Epoch 5/5\n",
            "60000/60000 [==============================] - 53s 876us/step - loss: 0.0213 - acc: 0.9934\n"
          ],
          "name": "stdout"
        },
        {
          "output_type": "execute_result",
          "data": {
            "text/plain": [
              "<keras.callbacks.History at 0x7f64000c89b0>"
            ]
          },
          "metadata": {
            "tags": []
          },
          "execution_count": 5
        }
      ]
    },
    {
      "cell_type": "code",
      "metadata": {
        "id": "surMk3fIeOlR",
        "colab_type": "code",
        "colab": {
          "base_uri": "https://localhost:8080/",
          "height": 52
        },
        "outputId": "83721f3f-d47a-4d90-ff8c-f8986b67a815"
      },
      "source": [
        "test_loss, test_acc = model.evaluate(test_images, test_labels)\n",
        "print(f\"Test accuracy: {test_acc:.4f}\")"
      ],
      "execution_count": 6,
      "outputs": [
        {
          "output_type": "stream",
          "text": [
            "10000/10000 [==============================] - 3s 301us/step\n",
            "Test accuracy: 0.9919\n"
          ],
          "name": "stdout"
        }
      ]
    },
    {
      "cell_type": "markdown",
      "metadata": {
        "id": "1WIektCRehIo",
        "colab_type": "text"
      },
      "source": [
        "### ConvNets on the Cats and Dogs dataset\n",
        "\n",
        "Here we'll look at a sample of 4,000 photos of cats and dogs, and train on 2,000 of them. Naively training a convnet will result in overfitting, which we'll sort with data augmentation. Then we'll use a pre-trained model to get top accuracy."
      ]
    },
    {
      "cell_type": "code",
      "metadata": {
        "id": "OQHytceBiqky",
        "colab_type": "code",
        "colab": {
          "base_uri": "https://localhost:8080/",
          "height": 141
        },
        "outputId": "571334fd-dc8c-43d3-9591-9f536542bfda"
      },
      "source": [
        "\n",
        "drive.mount('/content/drive/')\n",
        "path = \"/content/drive/My Drive/Colab Notebooks/dogs-vs-cats.zip\"\n",
        "\n",
        "zip_ref = zipfile.ZipFile(path, 'r')\n",
        "zip_ref.extractall('/tmp')\n",
        "zip_ref.close()\n",
        "\n",
        "# For odd historic reasons, the directory is called train\n",
        "shutil.move(\"/tmp/train\", \"/tmp/dogs_vs_cats\")\n"
      ],
      "execution_count": 6,
      "outputs": [
        {
          "output_type": "stream",
          "text": [
            "Go to this URL in a browser: https://accounts.google.com/o/oauth2/auth?client_id=947318989803-6bn6qk8qdgf4n4g3pfee6491hc0brc4i.apps.googleusercontent.com&redirect_uri=urn%3Aietf%3Awg%3Aoauth%3A2.0%3Aoob&scope=email%20https%3A%2F%2Fwww.googleapis.com%2Fauth%2Fdocs.test%20https%3A%2F%2Fwww.googleapis.com%2Fauth%2Fdrive%20https%3A%2F%2Fwww.googleapis.com%2Fauth%2Fdrive.photos.readonly%20https%3A%2F%2Fwww.googleapis.com%2Fauth%2Fpeopleapi.readonly&response_type=code\n",
            "\n",
            "Enter your authorization code:\n",
            "··········\n",
            "Mounted at /content/drive/\n"
          ],
          "name": "stdout"
        },
        {
          "output_type": "execute_result",
          "data": {
            "text/plain": [
              "'/tmp/dogs_vs_cats'"
            ]
          },
          "metadata": {
            "tags": []
          },
          "execution_count": 6
        }
      ]
    },
    {
      "cell_type": "code",
      "metadata": {
        "id": "kZtAJtvohLVt",
        "colab_type": "code",
        "colab": {}
      },
      "source": [
        "# Create the test_train directory structure\n",
        "\n",
        "original_dir = '/tmp/dogs_vs_cats'\n",
        "\n",
        "base_dir = \"/tmp/cats_and_dogs_small\"\n",
        "os.mkdir(base_dir)\n",
        "train_dir = os.path.join(base_dir, 'train')\n",
        "os.mkdir(train_dir)\n",
        "validation_dir = os.path.join(base_dir, 'validation')\n",
        "os.mkdir(validation_dir)\n",
        "test_dir = os.path.join(base_dir, 'test')\n",
        "os.mkdir(test_dir)\n",
        "\n",
        "\n",
        "# Directory with our training cat pictures\n",
        "train_cats_dir = os.path.join(train_dir, 'cats')\n",
        "os.mkdir(train_cats_dir)\n",
        "# Directory with our training dog pictures\n",
        "train_dogs_dir = os.path.join(train_dir, 'dogs')\n",
        "os.mkdir(train_dogs_dir)\n",
        "\n",
        "# As above, for the validation set\n",
        "validation_cats_dir = os.path.join(validation_dir, 'cats')\n",
        "os.mkdir(validation_cats_dir)\n",
        "validation_dogs_dir = os.path.join(validation_dir, 'dogs')\n",
        "os.mkdir(validation_dogs_dir)\n",
        "\n",
        "\n",
        "# As above, for the test set\n",
        "test_cats_dir = os.path.join(test_dir, 'cats')\n",
        "os.mkdir(test_cats_dir)\n",
        "test_dogs_dir = os.path.join(test_dir, 'dogs')\n",
        "os.mkdir(test_dogs_dir)\n",
        "\n",
        "# The first 1000 cats are for training\n",
        "fnames = [f\"cat.{i}.jpg\" for i in range(1000)]\n",
        "for fname in fnames:\n",
        "  src = os.path.join(original_dir, fname)\n",
        "  dst = os.path.join(train_cats_dir, fname)\n",
        "  shutil.copyfile(src,dst)\n",
        "  \n",
        "# The next 500 are for validation\n",
        "fnames = [f\"cat.{i}.jpg\" for i in range(1000,1500)]\n",
        "for fname in fnames:\n",
        "  src = os.path.join(original_dir, fname)\n",
        "  dst = os.path.join(validation_cats_dir, fname)\n",
        "  shutil.copyfile(src,dst)\n",
        "\n",
        "\n",
        "# The next 500 are for testing\n",
        "fnames = [f\"cat.{i}.jpg\" for i in range(1500,2000)]\n",
        "for fname in fnames:\n",
        "  src = os.path.join(original_dir, fname)\n",
        "  dst = os.path.join(test_cats_dir, fname)\n",
        "  shutil.copyfile(src,dst)\n",
        "\n",
        "  \n",
        "# The first 1000 dogs are for training\n",
        "fnames = [f\"dog.{i}.jpg\" for i in range(1000)]\n",
        "for fname in fnames:\n",
        "  src = os.path.join(original_dir, fname)\n",
        "  dst = os.path.join(train_dogs_dir, fname)\n",
        "  shutil.copyfile(src,dst)\n",
        "  \n",
        "# The next 500 are for validation\n",
        "fnames = [f\"dog.{i}.jpg\" for i in range(1000,1500)]\n",
        "for fname in fnames:\n",
        "  src = os.path.join(original_dir, fname)\n",
        "  dst = os.path.join(validation_dogs_dir, fname)\n",
        "  shutil.copyfile(src,dst)\n",
        "\n",
        "\n",
        "# The next 500 are for testing\n",
        "fnames = [f\"dog.{i}.jpg\" for i in range(1500,2000)]\n",
        "for fname in fnames:\n",
        "  src = os.path.join(original_dir, fname)\n",
        "  dst = os.path.join(test_dogs_dir, fname)\n",
        "  shutil.copyfile(src,dst)"
      ],
      "execution_count": 0,
      "outputs": []
    },
    {
      "cell_type": "code",
      "metadata": {
        "id": "jnVIPX9KilmF",
        "colab_type": "code",
        "colab": {
          "base_uri": "https://localhost:8080/",
          "height": 121
        },
        "outputId": "f2c01da2-c9cf-44be-9772-a2197a8f4064"
      },
      "source": [
        "\n",
        "  \n",
        "print('total training cat images:', len(os.listdir(train_cats_dir)))\n",
        "print('total training dog images:', len(os.listdir(train_dogs_dir)))\n",
        "print('total validation cat images:', len(os.listdir(validation_cats_dir)))\n",
        "print('total validation dog images:', len(os.listdir(validation_dogs_dir)))\n",
        "print('total test cat images:', len(os.listdir(test_cats_dir)))\n",
        "print('total test dog images:', len(os.listdir(test_dogs_dir)))"
      ],
      "execution_count": 12,
      "outputs": [
        {
          "output_type": "stream",
          "text": [
            "total training cat images: 1000\n",
            "total training dog images: 1000\n",
            "total validation cat images: 500\n",
            "total validation dog images: 500\n",
            "total test cat images: 500\n",
            "total test dog images: 500\n"
          ],
          "name": "stdout"
        }
      ]
    },
    {
      "cell_type": "code",
      "metadata": {
        "id": "S-U3unMs2wqc",
        "colab_type": "code",
        "colab": {
          "base_uri": "https://localhost:8080/",
          "height": 697
        },
        "outputId": "de389efc-83e2-4562-a700-c91fd8ddb97c"
      },
      "source": [
        "# Now lets build a convnet with ConvNet2D and MaxPooling layers\n",
        "model = keras.models.Sequential()\n",
        "model.add(keras.layers.Conv2D(32, (3,3), activation=\"relu\", input_shape=(150,150,3)))\n",
        "model.add(keras.layers.MaxPooling2D((2,2)))\n",
        "model.add(keras.layers.Conv2D(64, (3,3), activation=\"relu\"))\n",
        "model.add(keras.layers.MaxPooling2D((2,2)))\n",
        "model.add(keras.layers.Conv2D(128, (3,3), activation=\"relu\"))\n",
        "model.add(keras.layers.MaxPooling2D((2,2)))\n",
        "model.add(keras.layers.Conv2D(128, (3,3), activation=\"relu\"))\n",
        "model.add(keras.layers.MaxPooling2D((2,2)))\n",
        "model.add(keras.layers.Flatten())\n",
        "model.add(keras.layers.Dense(512, activation=\"relu\"))\n",
        "model.add(keras.layers.Dense(1, activation=\"sigmoid\"))\n",
        "\n",
        "model.summary()"
      ],
      "execution_count": 14,
      "outputs": [
        {
          "output_type": "stream",
          "text": [
            "WARNING: Logging before flag parsing goes to stderr.\n",
            "W0615 10:43:42.452459 140708854994816 deprecation_wrapper.py:119] From /usr/local/lib/python3.6/dist-packages/keras/backend/tensorflow_backend.py:74: The name tf.get_default_graph is deprecated. Please use tf.compat.v1.get_default_graph instead.\n",
            "\n",
            "W0615 10:43:42.510706 140708854994816 deprecation_wrapper.py:119] From /usr/local/lib/python3.6/dist-packages/keras/backend/tensorflow_backend.py:517: The name tf.placeholder is deprecated. Please use tf.compat.v1.placeholder instead.\n",
            "\n",
            "W0615 10:43:42.522788 140708854994816 deprecation_wrapper.py:119] From /usr/local/lib/python3.6/dist-packages/keras/backend/tensorflow_backend.py:4138: The name tf.random_uniform is deprecated. Please use tf.random.uniform instead.\n",
            "\n",
            "W0615 10:43:42.577131 140708854994816 deprecation_wrapper.py:119] From /usr/local/lib/python3.6/dist-packages/keras/backend/tensorflow_backend.py:3976: The name tf.nn.max_pool is deprecated. Please use tf.nn.max_pool2d instead.\n",
            "\n"
          ],
          "name": "stderr"
        },
        {
          "output_type": "stream",
          "text": [
            "_________________________________________________________________\n",
            "Layer (type)                 Output Shape              Param #   \n",
            "=================================================================\n",
            "conv2d_1 (Conv2D)            (None, 148, 148, 32)      896       \n",
            "_________________________________________________________________\n",
            "max_pooling2d_1 (MaxPooling2 (None, 74, 74, 32)        0         \n",
            "_________________________________________________________________\n",
            "conv2d_2 (Conv2D)            (None, 72, 72, 64)        18496     \n",
            "_________________________________________________________________\n",
            "max_pooling2d_2 (MaxPooling2 (None, 36, 36, 64)        0         \n",
            "_________________________________________________________________\n",
            "conv2d_3 (Conv2D)            (None, 34, 34, 128)       73856     \n",
            "_________________________________________________________________\n",
            "max_pooling2d_3 (MaxPooling2 (None, 17, 17, 128)       0         \n",
            "_________________________________________________________________\n",
            "conv2d_4 (Conv2D)            (None, 15, 15, 128)       147584    \n",
            "_________________________________________________________________\n",
            "max_pooling2d_4 (MaxPooling2 (None, 7, 7, 128)         0         \n",
            "_________________________________________________________________\n",
            "flatten_1 (Flatten)          (None, 6272)              0         \n",
            "_________________________________________________________________\n",
            "dense_1 (Dense)              (None, 512)               3211776   \n",
            "_________________________________________________________________\n",
            "dense_2 (Dense)              (None, 1)                 513       \n",
            "=================================================================\n",
            "Total params: 3,453,121\n",
            "Trainable params: 3,453,121\n",
            "Non-trainable params: 0\n",
            "_________________________________________________________________\n"
          ],
          "name": "stdout"
        }
      ]
    },
    {
      "cell_type": "code",
      "metadata": {
        "id": "yZFzl5qmunli",
        "colab_type": "code",
        "colab": {
          "base_uri": "https://localhost:8080/",
          "height": 159
        },
        "outputId": "4deea1f3-52af-4347-bd53-e8d43ffff5ed"
      },
      "source": [
        "model.compile(loss=\"binary_crossentropy\",\n",
        "              optimizer=keras.optimizers.RMSprop(lr=1e-4),\n",
        "              metrics=[\"acc\"])"
      ],
      "execution_count": 15,
      "outputs": [
        {
          "output_type": "stream",
          "text": [
            "W0615 10:45:29.010018 140708854994816 deprecation_wrapper.py:119] From /usr/local/lib/python3.6/dist-packages/keras/optimizers.py:790: The name tf.train.Optimizer is deprecated. Please use tf.compat.v1.train.Optimizer instead.\n",
            "\n",
            "W0615 10:45:29.020047 140708854994816 deprecation_wrapper.py:119] From /usr/local/lib/python3.6/dist-packages/keras/backend/tensorflow_backend.py:3376: The name tf.log is deprecated. Please use tf.math.log instead.\n",
            "\n",
            "W0615 10:45:29.027405 140708854994816 deprecation.py:323] From /usr/local/lib/python3.6/dist-packages/tensorflow/python/ops/nn_impl.py:180: add_dispatch_support.<locals>.wrapper (from tensorflow.python.ops.array_ops) is deprecated and will be removed in a future version.\n",
            "Instructions for updating:\n",
            "Use tf.where in 2.0, which has the same broadcast rule as np.where\n"
          ],
          "name": "stderr"
        }
      ]
    },
    {
      "cell_type": "markdown",
      "metadata": {
        "id": "i92VbnYUvfwq",
        "colab_type": "text"
      },
      "source": [
        "The steps for getting the data off the drive, where it is stored as JPEGs, are as follows:\n",
        "- Read the picture files\n",
        "- Decode the JPEG to RBG pixel grids\n",
        "- Convert these to floating-point tensors\n",
        "- Rescale from [0,255] to [0,1]\n",
        "\n",
        "The `ImageDataGenerator` does all the processing work "
      ]
    },
    {
      "cell_type": "code",
      "metadata": {
        "id": "DBeepyhfwFri",
        "colab_type": "code",
        "colab": {
          "base_uri": "https://localhost:8080/",
          "height": 52
        },
        "outputId": "7fe28d89-2d5d-4e71-e654-e03db636ada7"
      },
      "source": [
        "train_datagen = keras.preprocessing.image.ImageDataGenerator(rescale=1./255)\n",
        "test_datagen = keras.preprocessing.image.ImageDataGenerator(rescale=1./255)\n",
        "\n",
        "# 150x150 grids, with binary labels.\n",
        "train_generator = train_datagen.flow_from_directory(train_dir,\n",
        "                                                    target_size=(150,150),\n",
        "                                                    batch_size=20,\n",
        "                                                    class_mode=\"binary\")\n",
        "\n",
        "validation_generator = test_datagen.flow_from_directory(validation_dir,\n",
        "                                                        target_size=(150,150),\n",
        "                                                        batch_size=20,\n",
        "                                                        class_mode=\"binary\")\n",
        "\n"
      ],
      "execution_count": 18,
      "outputs": [
        {
          "output_type": "stream",
          "text": [
            "Found 2000 images belonging to 2 classes.\n",
            "Found 1000 images belonging to 2 classes.\n"
          ],
          "name": "stdout"
        }
      ]
    },
    {
      "cell_type": "code",
      "metadata": {
        "id": "PyOiOL-yw38T",
        "colab_type": "code",
        "colab": {
          "base_uri": "https://localhost:8080/",
          "height": 1114
        },
        "outputId": "13ad68a1-bb39-48eb-d344-f232be4c59b3"
      },
      "source": [
        "# Fit with a generator. The generator will yield data endlessly so you have to tell keras\n",
        "# when to stop, with the steps_per_epoch flag\n",
        "\n",
        "history = model.fit_generator(train_generator,\n",
        "                              steps_per_epoch=100, # 100 batches of 20 samples = 2000 images\n",
        "                              epochs=30,\n",
        "                              validation_data=validation_generator,\n",
        "                              validation_steps=50)"
      ],
      "execution_count": 19,
      "outputs": [
        {
          "output_type": "stream",
          "text": [
            "W0615 10:54:37.662449 140708854994816 deprecation_wrapper.py:119] From /usr/local/lib/python3.6/dist-packages/keras/backend/tensorflow_backend.py:986: The name tf.assign_add is deprecated. Please use tf.compat.v1.assign_add instead.\n",
            "\n"
          ],
          "name": "stderr"
        },
        {
          "output_type": "stream",
          "text": [
            "Epoch 1/30\n",
            "100/100 [==============================] - 120s 1s/step - loss: 0.6890 - acc: 0.5435 - val_loss: 0.6781 - val_acc: 0.5200\n",
            "Epoch 2/30\n",
            "100/100 [==============================] - 119s 1s/step - loss: 0.6469 - acc: 0.6340 - val_loss: 0.7166 - val_acc: 0.5680\n",
            "Epoch 3/30\n",
            "100/100 [==============================] - 119s 1s/step - loss: 0.6027 - acc: 0.6755 - val_loss: 0.6092 - val_acc: 0.6540\n",
            "Epoch 4/30\n",
            "100/100 [==============================] - 118s 1s/step - loss: 0.5546 - acc: 0.7175 - val_loss: 0.5882 - val_acc: 0.6790\n",
            "Epoch 5/30\n",
            "100/100 [==============================] - 118s 1s/step - loss: 0.5299 - acc: 0.7395 - val_loss: 0.5964 - val_acc: 0.6800\n",
            "Epoch 6/30\n",
            "100/100 [==============================] - 118s 1s/step - loss: 0.5063 - acc: 0.7545 - val_loss: 0.5775 - val_acc: 0.6930\n",
            "Epoch 7/30\n",
            "100/100 [==============================] - 119s 1s/step - loss: 0.4791 - acc: 0.7630 - val_loss: 0.6046 - val_acc: 0.6930\n",
            "Epoch 8/30\n",
            "100/100 [==============================] - 119s 1s/step - loss: 0.4491 - acc: 0.7960 - val_loss: 0.5535 - val_acc: 0.7070\n",
            "Epoch 9/30\n",
            "100/100 [==============================] - 119s 1s/step - loss: 0.4236 - acc: 0.8115 - val_loss: 0.5370 - val_acc: 0.7410\n",
            "Epoch 10/30\n",
            "100/100 [==============================] - 118s 1s/step - loss: 0.3954 - acc: 0.8245 - val_loss: 0.5626 - val_acc: 0.7100\n",
            "Epoch 11/30\n",
            "100/100 [==============================] - 118s 1s/step - loss: 0.3695 - acc: 0.8350 - val_loss: 0.5475 - val_acc: 0.7320\n",
            "Epoch 12/30\n",
            "100/100 [==============================] - 117s 1s/step - loss: 0.3492 - acc: 0.8450 - val_loss: 0.7243 - val_acc: 0.6840\n",
            "Epoch 13/30\n",
            "100/100 [==============================] - 113s 1s/step - loss: 0.3244 - acc: 0.8585 - val_loss: 0.5614 - val_acc: 0.7310\n",
            "Epoch 14/30\n",
            "100/100 [==============================] - 117s 1s/step - loss: 0.3007 - acc: 0.8740 - val_loss: 0.5633 - val_acc: 0.7410\n",
            "Epoch 15/30\n",
            "100/100 [==============================] - 118s 1s/step - loss: 0.2784 - acc: 0.8815 - val_loss: 0.6352 - val_acc: 0.7000\n",
            "Epoch 16/30\n",
            "100/100 [==============================] - 118s 1s/step - loss: 0.2558 - acc: 0.8950 - val_loss: 0.6525 - val_acc: 0.7290\n",
            "Epoch 17/30\n",
            "100/100 [==============================] - 119s 1s/step - loss: 0.2327 - acc: 0.9140 - val_loss: 0.6069 - val_acc: 0.7450\n",
            "Epoch 18/30\n",
            "100/100 [==============================] - 119s 1s/step - loss: 0.2042 - acc: 0.9230 - val_loss: 0.6771 - val_acc: 0.7170\n",
            "Epoch 19/30\n",
            "100/100 [==============================] - 118s 1s/step - loss: 0.1920 - acc: 0.9250 - val_loss: 0.6843 - val_acc: 0.7280\n",
            "Epoch 20/30\n",
            "100/100 [==============================] - 117s 1s/step - loss: 0.1737 - acc: 0.9325 - val_loss: 0.6543 - val_acc: 0.7570\n",
            "Epoch 21/30\n",
            "100/100 [==============================] - 116s 1s/step - loss: 0.1523 - acc: 0.9475 - val_loss: 0.7088 - val_acc: 0.7320\n",
            "Epoch 22/30\n",
            "100/100 [==============================] - 115s 1s/step - loss: 0.1323 - acc: 0.9495 - val_loss: 0.8893 - val_acc: 0.6890\n",
            "Epoch 23/30\n",
            "100/100 [==============================] - 116s 1s/step - loss: 0.1205 - acc: 0.9555 - val_loss: 0.8192 - val_acc: 0.7410\n",
            "Epoch 24/30\n",
            "100/100 [==============================] - 117s 1s/step - loss: 0.1150 - acc: 0.9625 - val_loss: 0.9108 - val_acc: 0.7160\n",
            "Epoch 25/30\n",
            "100/100 [==============================] - 116s 1s/step - loss: 0.0910 - acc: 0.9665 - val_loss: 0.8955 - val_acc: 0.7310\n",
            "Epoch 26/30\n",
            "100/100 [==============================] - 117s 1s/step - loss: 0.0873 - acc: 0.9715 - val_loss: 0.8392 - val_acc: 0.7370\n",
            "Epoch 27/30\n",
            "100/100 [==============================] - 116s 1s/step - loss: 0.0690 - acc: 0.9820 - val_loss: 0.9543 - val_acc: 0.7340\n",
            "Epoch 28/30\n",
            "100/100 [==============================] - 116s 1s/step - loss: 0.0657 - acc: 0.9770 - val_loss: 0.9640 - val_acc: 0.7140\n",
            "Epoch 29/30\n",
            "100/100 [==============================] - 116s 1s/step - loss: 0.0472 - acc: 0.9835 - val_loss: 1.0957 - val_acc: 0.7320\n",
            "Epoch 30/30\n",
            "100/100 [==============================] - 116s 1s/step - loss: 0.0482 - acc: 0.9850 - val_loss: 1.0986 - val_acc: 0.7110\n"
          ],
          "name": "stdout"
        }
      ]
    },
    {
      "cell_type": "code",
      "metadata": {
        "id": "4jJEM04CxloV",
        "colab_type": "code",
        "colab": {}
      },
      "source": [
        "model.save(\"/content/drive/My Drive/Colab Notebooks/cats_and_dogs_small_1.h5\")"
      ],
      "execution_count": 0,
      "outputs": []
    },
    {
      "cell_type": "code",
      "metadata": {
        "id": "nfNj_bAYyG9U",
        "colab_type": "code",
        "colab": {
          "base_uri": "https://localhost:8080/",
          "height": 585
        },
        "outputId": "1a5d11c4-059b-469e-cf1d-90c2f1a55f3f"
      },
      "source": [
        "# Plot the loss and accuracy of the model over the training and validation data\n",
        "\n",
        "# Looks overfit beyond belief to me! We have a History object that can tell us more \n",
        "\n",
        "history_dict = history.history\n",
        "acc = history_dict[\"acc\"]\n",
        "val_acc = history_dict[\"val_acc\"]\n",
        "loss = history_dict[\"loss\"]\n",
        "val_loss = history_dict[\"val_loss\"]\n",
        "epochs = range(1, len(loss) +1)\n",
        "\n",
        "plt.plot(epochs, acc, \"bo\", label=\"Training Accuracy\")\n",
        "plt.plot(epochs, val_acc, \"b\", label=\"Validation Accuracy\")\n",
        "plt.title(\"Training and validation accuracy\")\n",
        "plt.xlabel(\"Epochs\")\n",
        "plt.ylabel(\"Accuracy\")\n",
        "plt.legend()\n",
        "plt.show()\n",
        "\n",
        "plt.plot(epochs, loss, \"bo\", label=\"Training Loss\")\n",
        "plt.plot(epochs, val_loss, \"b\", label=\"Validation Loss\")\n",
        "plt.title(\"Training and validation loss\")\n",
        "plt.xlabel(\"Epochs\")\n",
        "plt.ylabel(\"Loss\")\n",
        "plt.legend()\n",
        "plt.show()\n",
        "\n",
        "\n"
      ],
      "execution_count": 23,
      "outputs": [
        {
          "output_type": "display_data",
          "data": {
            "image/png": "[encoded data removed]",
            "text/plain": [
              "<Figure size 432x288 with 1 Axes>"
            ]
          },
          "metadata": {
            "tags": []
          }
        },
        {
          "output_type": "display_data",
          "data": {
            "image/png": "[encoded data removed]",
            "text/plain": [
              "<Figure size 432x288 with 1 Axes>"
            ]
          },
          "metadata": {
            "tags": []
          }
        }
      ]
    },
    {
      "cell_type": "code",
      "metadata": {
        "id": "Mos7jfDD1PpS",
        "colab_type": "code",
        "colab": {}
      },
      "source": [
        ""
      ],
      "execution_count": 0,
      "outputs": []
    }
  ]
}