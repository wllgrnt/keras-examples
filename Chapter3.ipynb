{
  "nbformat": 4,
  "nbformat_minor": 0,
  "metadata": {
    "colab": {
      "name": "Chapter3.ipynb",
      "version": "0.3.2",
      "provenance": [],
      "collapsed_sections": [],
      "include_colab_link": true
    },
    "kernelspec": {
      "name": "python3",
      "display_name": "Python 3"
    },
    "accelerator": "TPU"
  },
  "cells": [
    {
      "cell_type": "markdown",
      "metadata": {
        "id": "view-in-github",
        "colab_type": "text"
      },
      "source": [
        "<a href=\"https://colab.research.google.com/github/wllgrnt/keras-examples/blob/master/Chapter3.ipynb\" target=\"_parent\"><img src=\"https://colab.research.google.com/assets/colab-badge.svg\" alt=\"Open In Colab\"/></a>"
      ]
    },
    {
      "cell_type": "markdown",
      "metadata": {
        "id": "ibGN4IWrGkm-",
        "colab_type": "text"
      },
      "source": [
        "# Chapter 3\n",
        "\n",
        "Example models for:\n",
        "- two-class classification\n",
        "- many-class classification\n",
        "- regression"
      ]
    },
    {
      "cell_type": "code",
      "metadata": {
        "id": "i84V6fqlF9yf",
        "colab_type": "code",
        "colab": {
          "base_uri": "https://localhost:8080/",
          "height": 34
        },
        "outputId": "8419a354-2eaf-4a26-d7d6-ab2ebd0b1bcc"
      },
      "source": [
        "import keras\n",
        "import numpy as np\n",
        "import matplotlib.pyplot as plt\n",
        "import seaborn as sns\n",
        "\n",
        "sns.set(style=\"whitegrid\")"
      ],
      "execution_count": 1,
      "outputs": [
        {
          "output_type": "stream",
          "text": [
            "Using TensorFlow backend.\n"
          ],
          "name": "stderr"
        }
      ]
    },
    {
      "cell_type": "markdown",
      "metadata": {
        "id": "-RKeVmM4HYEO",
        "colab_type": "text"
      },
      "source": [
        "## Binary classification"
      ]
    },
    {
      "cell_type": "code",
      "metadata": {
        "id": "R83kpW2-HceN",
        "colab_type": "code",
        "colab": {}
      },
      "source": [
        "\n",
        "# Load the IMDB dataset\n",
        "# I have to overwrite np.load as keras hasn't kept pace with the latest version of numpy\n",
        "old = np.load\n",
        "np.load = lambda *a,**k: old(*a,**k,allow_pickle=True)\n",
        "\n",
        "(train_data, train_labels), (test_data, test_labels) = keras.datasets.imdb.load_data(num_words=10000)\n",
        "\n",
        "np.load = old\n",
        "del(old)\n"
      ],
      "execution_count": 0,
      "outputs": []
    },
    {
      "cell_type": "code",
      "metadata": {
        "id": "9_G7pr-hHrry",
        "colab_type": "code",
        "colab": {
          "base_uri": "https://localhost:8080/",
          "height": 34
        },
        "outputId": "920355d4-7892-4178-8ff2-0a4c00cf0c1a"
      },
      "source": [
        "train_data.shape"
      ],
      "execution_count": 3,
      "outputs": [
        {
          "output_type": "execute_result",
          "data": {
            "text/plain": [
              "(25000,)"
            ]
          },
          "metadata": {
            "tags": []
          },
          "execution_count": 3
        }
      ]
    },
    {
      "cell_type": "code",
      "metadata": {
        "id": "flZy8WzDI1oJ",
        "colab_type": "code",
        "colab": {
          "base_uri": "https://localhost:8080/",
          "height": 225
        },
        "outputId": "f8dbb628-2ff3-4af8-a34f-a4277c92fad9"
      },
      "source": [
        "def decode_imdb_review(coded_review):\n",
        "  \"\"\"\n",
        "  A coded review is a list of word indices - this converts it back into a list of words\n",
        "  \"\"\"\n",
        "  word_index  = keras.datasets.imdb.get_word_index()\n",
        "  reverse_word_index = {value: key for key, value in word_index.items()}\n",
        "  # -3 as 0,1,2 are reserved for padding, start of sequence, and unknown\n",
        "  decoded_review = \" \".join([reverse_word_index.get(i-3, \"?\") for i in coded_review])\n",
        "  n = 100  # put newlines in for ease of reading\n",
        "  return \"\\n\".join([decoded_review[i:i + n] for i in range(0, len(decoded_review), n)])\n",
        "\n",
        "print(decode_imdb_review(train_data[0]))"
      ],
      "execution_count": 21,
      "outputs": [
        {
          "output_type": "stream",
          "text": [
            "? this film was just brilliant casting location scenery story direction everyone's really suited the\n",
            " part they played and you could just imagine being there robert ? is an amazing actor and now the sa\n",
            "me being director ? father came from the same scottish island as myself so i loved the fact there wa\n",
            "s a real connection with this film the witty remarks throughout the film were great it was just bril\n",
            "liant so much that i bought the film as soon as it was released for ? and would recommend it to ever\n",
            "yone to watch and the fly fishing was amazing really cried at the end it was so sad and you know wha\n",
            "t they say if you cry at a film it must have been good and this definitely was also ? to the two lit\n",
            "tle boy's that played the ? of norman and paul they were just brilliant children are often left out \n",
            "of the ? list i think because the stars that play them all grown up are such a big profile for the w\n",
            "hole film but these children are amazing and should be praised for what they have done don't you thi\n",
            "nk the whole story was so lovely because it was true and was someone's life after all that was share\n",
            "d with us all\n"
          ],
          "name": "stdout"
        }
      ]
    },
    {
      "cell_type": "code",
      "metadata": {
        "id": "Na3U5WgNJ7vc",
        "colab_type": "code",
        "colab": {}
      },
      "source": [
        "# We can't feed variable-length lists of integers into our network (apparently),\n",
        "# so one-hot encode each integer as a vector of 0s with a 1 at the index of the integer  \n",
        "\n",
        "def vectorize_sequences(sequences, dimension=10000):\n",
        "  results = np.zeros((len(sequences), dimension))\n",
        "  for i, sequence in enumerate(sequences):\n",
        "    results[i, sequence] = 1.\n",
        "  return results\n",
        "\n",
        "X_train = vectorize_sequences(train_data)\n",
        "X_test = vectorize_sequences(test_data)"
      ],
      "execution_count": 0,
      "outputs": []
    },
    {
      "cell_type": "code",
      "metadata": {
        "id": "-7pF3rNgLsPh",
        "colab_type": "code",
        "colab": {}
      },
      "source": [
        "y_train = np.asarray(train_labels).astype(\"float32\")\n",
        "y_test = np.asarray(test_labels).astype(\"float32\")"
      ],
      "execution_count": 0,
      "outputs": []
    },
    {
      "cell_type": "code",
      "metadata": {
        "id": "0REM6bEJL_oC",
        "colab_type": "code",
        "colab": {
          "base_uri": "https://localhost:8080/",
          "height": 159
        },
        "outputId": "139ef118-71b9-45c6-b49e-d82a7c5cd27e"
      },
      "source": [
        "model = keras.models.Sequential()\n",
        "model.add(keras.layers.Dense(16, activation=\"relu\", input_shape=(10000,)))\n",
        "model.add(keras.layers.Dense(16, activation=\"relu\"))\n",
        "model.add(keras.layers.Dense(1, activation=\"sigmoid\"))"
      ],
      "execution_count": 7,
      "outputs": [
        {
          "output_type": "stream",
          "text": [
            "WARNING: Logging before flag parsing goes to stderr.\n",
            "W0614 10:08:43.353623 140625381713792 deprecation_wrapper.py:119] From /usr/local/lib/python3.6/dist-packages/keras/backend/tensorflow_backend.py:74: The name tf.get_default_graph is deprecated. Please use tf.compat.v1.get_default_graph instead.\n",
            "\n",
            "W0614 10:08:43.396964 140625381713792 deprecation_wrapper.py:119] From /usr/local/lib/python3.6/dist-packages/keras/backend/tensorflow_backend.py:517: The name tf.placeholder is deprecated. Please use tf.compat.v1.placeholder instead.\n",
            "\n",
            "W0614 10:08:43.404325 140625381713792 deprecation_wrapper.py:119] From /usr/local/lib/python3.6/dist-packages/keras/backend/tensorflow_backend.py:4138: The name tf.random_uniform is deprecated. Please use tf.random.uniform instead.\n",
            "\n"
          ],
          "name": "stderr"
        }
      ]
    },
    {
      "cell_type": "code",
      "metadata": {
        "id": "MuudbSubMle3",
        "colab_type": "code",
        "colab": {
          "base_uri": "https://localhost:8080/",
          "height": 159
        },
        "outputId": "fb28ea6d-9a9d-4124-f27c-05879002c05c"
      },
      "source": [
        "# We could also pass in our own optimizers e.g. form keras.optimisers, ditto for metrics\n",
        "model.compile(optimizer=\"rmsprop\", loss=\"binary_crossentropy\", metrics=[\"accuracy\"])"
      ],
      "execution_count": 8,
      "outputs": [
        {
          "output_type": "stream",
          "text": [
            "W0614 10:08:43.459581 140625381713792 deprecation_wrapper.py:119] From /usr/local/lib/python3.6/dist-packages/keras/optimizers.py:790: The name tf.train.Optimizer is deprecated. Please use tf.compat.v1.train.Optimizer instead.\n",
            "\n",
            "W0614 10:08:43.497683 140625381713792 deprecation_wrapper.py:119] From /usr/local/lib/python3.6/dist-packages/keras/backend/tensorflow_backend.py:3376: The name tf.log is deprecated. Please use tf.math.log instead.\n",
            "\n",
            "W0614 10:08:43.504798 140625381713792 deprecation.py:323] From /usr/local/lib/python3.6/dist-packages/tensorflow/python/ops/nn_impl.py:180: add_dispatch_support.<locals>.wrapper (from tensorflow.python.ops.array_ops) is deprecated and will be removed in a future version.\n",
            "Instructions for updating:\n",
            "Use tf.where in 2.0, which has the same broadcast rule as np.where\n"
          ],
          "name": "stderr"
        }
      ]
    },
    {
      "cell_type": "code",
      "metadata": {
        "id": "17M-yyZmM0xS",
        "colab_type": "code",
        "colab": {}
      },
      "source": [
        "X_val = X_train[:10000]\n",
        "partial_X_train = X_train[10000:]\n",
        "\n",
        "y_val = y_train[:10000]\n",
        "partial_y_train = y_train[10000:]\n"
      ],
      "execution_count": 0,
      "outputs": []
    },
    {
      "cell_type": "code",
      "metadata": {
        "id": "FBJqir1ZNS8F",
        "colab_type": "code",
        "colab": {
          "base_uri": "https://localhost:8080/",
          "height": 784
        },
        "outputId": "593a9990-afe7-45a6-b2fb-cbf71eea473e"
      },
      "source": [
        "history = model.fit(partial_X_train,\n",
        "                   partial_y_train,\n",
        "                   epochs=20,\n",
        "                   batch_size=512,\n",
        "                   validation_data=(X_val, y_val))"
      ],
      "execution_count": 10,
      "outputs": [
        {
          "output_type": "stream",
          "text": [
            "W0614 10:08:43.786457 140625381713792 deprecation_wrapper.py:119] From /usr/local/lib/python3.6/dist-packages/keras/backend/tensorflow_backend.py:986: The name tf.assign_add is deprecated. Please use tf.compat.v1.assign_add instead.\n",
            "\n"
          ],
          "name": "stderr"
        },
        {
          "output_type": "stream",
          "text": [
            "Train on 15000 samples, validate on 10000 samples\n",
            "Epoch 1/20\n",
            "15000/15000 [==============================] - 3s 175us/step - loss: 0.5048 - acc: 0.7871 - val_loss: 0.3775 - val_acc: 0.8703\n",
            "Epoch 2/20\n",
            "15000/15000 [==============================] - 2s 124us/step - loss: 0.2992 - acc: 0.9046 - val_loss: 0.3001 - val_acc: 0.8896\n",
            "Epoch 3/20\n",
            "15000/15000 [==============================] - 2s 126us/step - loss: 0.2173 - acc: 0.9283 - val_loss: 0.3081 - val_acc: 0.8715\n",
            "Epoch 4/20\n",
            "15000/15000 [==============================] - 2s 124us/step - loss: 0.1747 - acc: 0.9440 - val_loss: 0.2827 - val_acc: 0.8841\n",
            "Epoch 5/20\n",
            "15000/15000 [==============================] - 2s 125us/step - loss: 0.1422 - acc: 0.9540 - val_loss: 0.2855 - val_acc: 0.8859\n",
            "Epoch 6/20\n",
            "15000/15000 [==============================] - 2s 124us/step - loss: 0.1147 - acc: 0.9651 - val_loss: 0.3140 - val_acc: 0.8777\n",
            "Epoch 7/20\n",
            "15000/15000 [==============================] - 2s 124us/step - loss: 0.0977 - acc: 0.9709 - val_loss: 0.3131 - val_acc: 0.8839\n",
            "Epoch 8/20\n",
            "15000/15000 [==============================] - 2s 124us/step - loss: 0.0805 - acc: 0.9766 - val_loss: 0.3862 - val_acc: 0.8656\n",
            "Epoch 9/20\n",
            "15000/15000 [==============================] - 2s 124us/step - loss: 0.0660 - acc: 0.9819 - val_loss: 0.3640 - val_acc: 0.8777\n",
            "Epoch 10/20\n",
            "15000/15000 [==============================] - 2s 122us/step - loss: 0.0561 - acc: 0.9846 - val_loss: 0.3852 - val_acc: 0.8778\n",
            "Epoch 11/20\n",
            "15000/15000 [==============================] - 2s 122us/step - loss: 0.0435 - acc: 0.9902 - val_loss: 0.4173 - val_acc: 0.8765\n",
            "Epoch 12/20\n",
            "15000/15000 [==============================] - 2s 122us/step - loss: 0.0384 - acc: 0.9915 - val_loss: 0.4552 - val_acc: 0.8700\n",
            "Epoch 13/20\n",
            "15000/15000 [==============================] - 2s 121us/step - loss: 0.0299 - acc: 0.9930 - val_loss: 0.4699 - val_acc: 0.8730\n",
            "Epoch 14/20\n",
            "15000/15000 [==============================] - 2s 125us/step - loss: 0.0250 - acc: 0.9945 - val_loss: 0.5032 - val_acc: 0.8723\n",
            "Epoch 15/20\n",
            "15000/15000 [==============================] - 2s 122us/step - loss: 0.0175 - acc: 0.9983 - val_loss: 0.5362 - val_acc: 0.8687\n",
            "Epoch 16/20\n",
            "15000/15000 [==============================] - 2s 122us/step - loss: 0.0159 - acc: 0.9973 - val_loss: 0.5765 - val_acc: 0.8698\n",
            "Epoch 17/20\n",
            "15000/15000 [==============================] - 2s 122us/step - loss: 0.0102 - acc: 0.9993 - val_loss: 0.6449 - val_acc: 0.8622\n",
            "Epoch 18/20\n",
            "15000/15000 [==============================] - 2s 123us/step - loss: 0.0125 - acc: 0.9969 - val_loss: 0.6437 - val_acc: 0.8676\n",
            "Epoch 19/20\n",
            "15000/15000 [==============================] - 2s 124us/step - loss: 0.0053 - acc: 0.9998 - val_loss: 0.7227 - val_acc: 0.8570\n",
            "Epoch 20/20\n",
            "15000/15000 [==============================] - 2s 123us/step - loss: 0.0097 - acc: 0.9981 - val_loss: 0.7014 - val_acc: 0.8658\n"
          ],
          "name": "stdout"
        }
      ]
    },
    {
      "cell_type": "code",
      "metadata": {
        "id": "0_rsyQxKNb-Q",
        "colab_type": "code",
        "colab": {
          "base_uri": "https://localhost:8080/",
          "height": 301
        },
        "outputId": "d03fb152-4e61-49fd-e2f1-efbc03eccbe3"
      },
      "source": [
        "# Looks overfit beyond belief to me! We have a History object that can tell us more \n",
        "\n",
        "history_dict = history.history\n",
        "loss_values = history_dict[\"loss\"]\n",
        "val_loss_values = history_dict[\"val_loss\"]\n",
        "epochs = range(1, len(loss_values) +1)\n",
        "\n",
        "plt.plot(epochs, loss_values, \"bo\", label=\"Training Loss\")\n",
        "plt.plot(epochs, val_loss_values, \"b\", label=\"Validation Loss\")\n",
        "plt.title(\"Training and validation loss\")\n",
        "plt.xlabel(\"Epochs\")\n",
        "plt.ylabel(\"Loss\")\n",
        "plt.legend()\n",
        "plt.show()"
      ],
      "execution_count": 11,
      "outputs": [
        {
          "output_type": "display_data",
          "data": {
            "image/png": "[encoded data removed]",
            "text/plain": [
              "<Figure size 432x288 with 1 Axes>"
            ]
          },
          "metadata": {
            "tags": []
          }
        }
      ]
    },
    {
      "cell_type": "code",
      "metadata": {
        "id": "0Iosp0NdNxfg",
        "colab_type": "code",
        "colab": {
          "base_uri": "https://localhost:8080/",
          "height": 301
        },
        "outputId": "96c21711-e141-4f70-c59c-7b8d8cb7e312"
      },
      "source": [
        "acc_values = history_dict[\"acc\"]\n",
        "val_acc_values = history_dict[\"val_acc\"]\n",
        "\n",
        "plt.plot(epochs, acc_values, \"bo\", label=\"Training Accuracy\")\n",
        "plt.plot(epochs, val_acc_values, \"b\", label=\"Validation Accuracy\")\n",
        "plt.title(\"Training and validation accuracy\")\n",
        "plt.xlabel(\"Epochs\")\n",
        "plt.ylabel(\"Accuracy\")\n",
        "plt.legend()\n",
        "plt.show()"
      ],
      "execution_count": 12,
      "outputs": [
        {
          "output_type": "display_data",
          "data": {
            "image/png": "[encoded data removed]",
            "text/plain": [
              "<Figure size 432x288 with 1 Axes>"
            ]
          },
          "metadata": {
            "tags": []
          }
        }
      ]
    },
    {
      "cell_type": "code",
      "metadata": {
        "id": "sZ7LqQQiO_TE",
        "colab_type": "code",
        "colab": {
          "base_uri": "https://localhost:8080/",
          "height": 139
        },
        "outputId": "b56cc578-f938-4199-9f3e-a2a79d4f98ae"
      },
      "source": [
        "# We can generate the likelihood of reviews being positive using the `predict` method:\n",
        "\n",
        "model.predict(X_test)"
      ],
      "execution_count": 13,
      "outputs": [
        {
          "output_type": "execute_result",
          "data": {
            "text/plain": [
              "array([[0.00745511],\n",
              "       [0.9999998 ],\n",
              "       [0.72231364],\n",
              "       ...,\n",
              "       [0.00259408],\n",
              "       [0.01707467],\n",
              "       [0.68854976]], dtype=float32)"
            ]
          },
          "metadata": {
            "tags": []
          },
          "execution_count": 13
        }
      ]
    },
    {
      "cell_type": "markdown",
      "metadata": {
        "id": "NV4n2hTFdhkf",
        "colab_type": "text"
      },
      "source": [
        "\n",
        "## Multi-class classificiation\n",
        "\n",
        "Classifying Reuters newswires into 46 mutually exclusive categories\n"
      ]
    },
    {
      "cell_type": "code",
      "metadata": {
        "id": "_sXZ1sJtPaox",
        "colab_type": "code",
        "colab": {}
      },
      "source": [
        "# Again, have to overwrite np.load to take account of new defaults\n",
        "old = np.load\n",
        "np.load = lambda *a,**k: old(*a,**k,allow_pickle=True)\n",
        "\n",
        "(train_data, train_labels), (test_data, test_labels) = keras.datasets.reuters.load_data(num_words=10000)\n",
        "\n",
        "np.load = old\n",
        "del(old)\n"
      ],
      "execution_count": 0,
      "outputs": []
    },
    {
      "cell_type": "code",
      "metadata": {
        "id": "ch_MfKx_fHfq",
        "colab_type": "code",
        "colab": {
          "base_uri": "https://localhost:8080/",
          "height": 34
        },
        "outputId": "597dd70d-701b-4854-d427-83a06d3d49e0"
      },
      "source": [
        "print(len(train_data), len(test_data))"
      ],
      "execution_count": 23,
      "outputs": [
        {
          "output_type": "stream",
          "text": [
            "8982 2246\n"
          ],
          "name": "stdout"
        }
      ]
    },
    {
      "cell_type": "code",
      "metadata": {
        "id": "RtBwth_qfa-w",
        "colab_type": "code",
        "colab": {}
      },
      "source": [
        "# Vectorize the data as before - one-hot encode the labels\n",
        "\n",
        "X_train = vectorize_sequences(train_data)\n",
        "X_test = vectorize_sequences(test_data)\n",
        "\n",
        "# This is identical to the \"to_categorical\" function in keras.utils.np_utils\n",
        "def to_one_hot(labels, dimension=46):\n",
        "  \"\"\"\n",
        "  There are 46 classes by default.\n",
        "  \"\"\"\n",
        "  results = np.zeros((len(labels), dimension))\n",
        "  for i, label in enumerate(labels):\n",
        "    results[i,label] = 1.\n",
        "  return results\n",
        "\n",
        "one_hot_train_labels = to_one_hot(train_labels)\n",
        "one_hot_test_labels = to_one_hot(test_labels)"
      ],
      "execution_count": 0,
      "outputs": []
    },
    {
      "cell_type": "code",
      "metadata": {
        "id": "VUirbDMDfzxJ",
        "colab_type": "code",
        "colab": {}
      },
      "source": [
        "model = keras.models.Sequential()\n",
        "model.add(keras.layers.Dense(64, activation=\"relu\", input_shape=(10000,)))\n",
        "model.add(keras.layers.Dense(64, activation=\"relu\"))\n",
        "model.add(keras.layers.Dense(46, activation=\"softmax\"))"
      ],
      "execution_count": 0,
      "outputs": []
    },
    {
      "cell_type": "code",
      "metadata": {
        "id": "1xKytrASkomO",
        "colab_type": "code",
        "colab": {}
      },
      "source": [
        "model.compile(optimizer=\"rmsprop\", loss=\"categorical_crossentropy\", metrics=[\"accuracy\"])"
      ],
      "execution_count": 0,
      "outputs": []
    },
    {
      "cell_type": "code",
      "metadata": {
        "id": "b3at2DiHkuC9",
        "colab_type": "code",
        "colab": {}
      },
      "source": [
        "# Validation set\n",
        "X_val = X_train[:1000]\n",
        "partial_X_train = X_train[1000:]\n",
        "\n",
        "y_val = one_hot_train_labels[:1000]\n",
        "partial_y_train = one_hot_train_labels[1000:]\n"
      ],
      "execution_count": 0,
      "outputs": []
    },
    {
      "cell_type": "code",
      "metadata": {
        "id": "voYKYqCdk60S",
        "colab_type": "code",
        "colab": {
          "base_uri": "https://localhost:8080/",
          "height": 729
        },
        "outputId": "092b66ea-b900-4d67-8592-db1d41bb0b01"
      },
      "source": [
        "history = model.fit(partial_X_train,\n",
        "                   partial_y_train,\n",
        "                   epochs=20,\n",
        "                   batch_size=512,\n",
        "                   validation_data=(X_val, y_val)\n",
        "                   )"
      ],
      "execution_count": 29,
      "outputs": [
        {
          "output_type": "stream",
          "text": [
            "Train on 7982 samples, validate on 1000 samples\n",
            "Epoch 1/20\n",
            "7982/7982 [==============================] - 2s 199us/step - loss: 2.5322 - acc: 0.4955 - val_loss: 1.7208 - val_acc: 0.6120\n",
            "Epoch 2/20\n",
            "7982/7982 [==============================] - 1s 166us/step - loss: 1.4452 - acc: 0.6879 - val_loss: 1.3459 - val_acc: 0.7060\n",
            "Epoch 3/20\n",
            "7982/7982 [==============================] - 1s 168us/step - loss: 1.0953 - acc: 0.7651 - val_loss: 1.1708 - val_acc: 0.7430\n",
            "Epoch 4/20\n",
            "7982/7982 [==============================] - 1s 166us/step - loss: 0.8697 - acc: 0.8165 - val_loss: 1.0793 - val_acc: 0.7590\n",
            "Epoch 5/20\n",
            "7982/7982 [==============================] - 1s 165us/step - loss: 0.7034 - acc: 0.8472 - val_loss: 0.9844 - val_acc: 0.7810\n",
            "Epoch 6/20\n",
            "7982/7982 [==============================] - 1s 168us/step - loss: 0.5667 - acc: 0.8802 - val_loss: 0.9411 - val_acc: 0.8040\n",
            "Epoch 7/20\n",
            "7982/7982 [==============================] - 1s 168us/step - loss: 0.4581 - acc: 0.9048 - val_loss: 0.9083 - val_acc: 0.8020\n",
            "Epoch 8/20\n",
            "7982/7982 [==============================] - 1s 166us/step - loss: 0.3695 - acc: 0.9231 - val_loss: 0.9363 - val_acc: 0.7890\n",
            "Epoch 9/20\n",
            "7982/7982 [==============================] - 1s 167us/step - loss: 0.3032 - acc: 0.9315 - val_loss: 0.8917 - val_acc: 0.8090\n",
            "Epoch 10/20\n",
            "7982/7982 [==============================] - 1s 166us/step - loss: 0.2537 - acc: 0.9414 - val_loss: 0.9071 - val_acc: 0.8110\n",
            "Epoch 11/20\n",
            "7982/7982 [==============================] - 1s 169us/step - loss: 0.2187 - acc: 0.9471 - val_loss: 0.9177 - val_acc: 0.8130\n",
            "Epoch 12/20\n",
            "7982/7982 [==============================] - 1s 165us/step - loss: 0.1873 - acc: 0.9508 - val_loss: 0.9027 - val_acc: 0.8130\n",
            "Epoch 13/20\n",
            "7982/7982 [==============================] - 1s 156us/step - loss: 0.1703 - acc: 0.9521 - val_loss: 0.9323 - val_acc: 0.8110\n",
            "Epoch 14/20\n",
            "7982/7982 [==============================] - 1s 157us/step - loss: 0.1536 - acc: 0.9554 - val_loss: 0.9689 - val_acc: 0.8050\n",
            "Epoch 15/20\n",
            "7982/7982 [==============================] - 1s 153us/step - loss: 0.1389 - acc: 0.9560 - val_loss: 0.9678 - val_acc: 0.8160\n",
            "Epoch 16/20\n",
            "7982/7982 [==============================] - 1s 156us/step - loss: 0.1313 - acc: 0.9560 - val_loss: 1.0214 - val_acc: 0.8060\n",
            "Epoch 17/20\n",
            "7982/7982 [==============================] - 1s 137us/step - loss: 0.1217 - acc: 0.9579 - val_loss: 1.0252 - val_acc: 0.7970\n",
            "Epoch 18/20\n",
            "7982/7982 [==============================] - 1s 136us/step - loss: 0.1198 - acc: 0.9583 - val_loss: 1.0425 - val_acc: 0.8060\n",
            "Epoch 19/20\n",
            "7982/7982 [==============================] - 1s 140us/step - loss: 0.1138 - acc: 0.9593 - val_loss: 1.0965 - val_acc: 0.7970\n",
            "Epoch 20/20\n",
            "7982/7982 [==============================] - 1s 168us/step - loss: 0.1112 - acc: 0.9592 - val_loss: 1.0685 - val_acc: 0.8020\n"
          ],
          "name": "stdout"
        }
      ]
    },
    {
      "cell_type": "code",
      "metadata": {
        "id": "pyZ6grEslELO",
        "colab_type": "code",
        "colab": {
          "base_uri": "https://localhost:8080/",
          "height": 585
        },
        "outputId": "237fb56e-58f4-4f00-b970-57ddeeb0ba91"
      },
      "source": [
        "\n",
        "history_dict = history.history\n",
        "loss_values = history_dict[\"loss\"]\n",
        "val_loss_values = history_dict[\"val_loss\"]\n",
        "epochs = range(1, len(loss_values) +1)\n",
        "\n",
        "plt.plot(epochs, loss_values, \"bo\", label=\"Training Loss\")\n",
        "plt.plot(epochs, val_loss_values, \"b\", label=\"Validation Loss\")\n",
        "plt.title(\"Training and validation loss\")\n",
        "plt.xlabel(\"Epochs\")\n",
        "plt.ylabel(\"Loss\")\n",
        "plt.legend()\n",
        "plt.show()\n",
        "\n",
        "acc_values = history_dict[\"acc\"]\n",
        "val_acc_values = history_dict[\"val_acc\"]\n",
        "\n",
        "plt.plot(epochs, acc_values, \"bo\", label=\"Training Accuracy\")\n",
        "plt.plot(epochs, val_acc_values, \"b\", label=\"Validation Accuracy\")\n",
        "plt.title(\"Training and validation accuracy\")\n",
        "plt.xlabel(\"Epochs\")\n",
        "plt.ylabel(\"Accuracy\")\n",
        "plt.legend()\n",
        "plt.show()"
      ],
      "execution_count": 30,
      "outputs": [
        {
          "output_type": "display_data",
          "data": {
            "image/png": "[encoded data removed]",
            "text/plain": [
              "<Figure size 432x288 with 1 Axes>"
            ]
          },
          "metadata": {
            "tags": []
          }
        },
        {
          "output_type": "display_data",
          "data": {
            "image/png": "[encoded data removed]",
            "text/plain": [
              "<Figure size 432x288 with 1 Axes>"
            ]
          },
          "metadata": {
            "tags": []
          }
        }
      ]
    },
    {
      "cell_type": "code",
      "metadata": {
        "id": "Sxmgi2m4lN6c",
        "colab_type": "code",
        "colab": {
          "base_uri": "https://localhost:8080/",
          "height": 52
        },
        "outputId": "0a08b317-355a-47dd-8733-cb13a6aa8c44"
      },
      "source": [
        "results = model.evaluate(X_test, one_hot_test_labels)\n",
        "print(results)"
      ],
      "execution_count": 32,
      "outputs": [
        {
          "output_type": "stream",
          "text": [
            "2246/2246 [==============================] - 0s 92us/step\n",
            "[1.2108647984685583, 0.778717720444884]\n"
          ],
          "name": "stdout"
        }
      ]
    },
    {
      "cell_type": "markdown",
      "metadata": {
        "id": "dxEDEHualhFD",
        "colab_type": "text"
      },
      "source": [
        "The accuracy is about 80%, which seems pretty good given the number of classes!"
      ]
    },
    {
      "cell_type": "code",
      "metadata": {
        "id": "ZAkROYQvlnJr",
        "colab_type": "code",
        "colab": {
          "base_uri": "https://localhost:8080/",
          "height": 34
        },
        "outputId": "141fc642-b45e-47a5-a4f6-3e21ce918f39"
      },
      "source": [
        "# Random baseline\n",
        "\n",
        "import copy\n",
        "\n",
        "test_labels_copy = copy.copy(test_labels)\n",
        "np.random.shuffle(test_labels_copy)\n",
        "matchs = np.array(test_labels) == np.array(test_labels_copy)\n",
        "print(np.sum(matchs)/len(matchs))"
      ],
      "execution_count": 33,
      "outputs": [
        {
          "output_type": "stream",
          "text": [
            "0.1834372217275156\n"
          ],
          "name": "stdout"
        }
      ]
    },
    {
      "cell_type": "code",
      "metadata": {
        "id": "c-9tnuwPl82Y",
        "colab_type": "code",
        "colab": {
          "base_uri": "https://localhost:8080/",
          "height": 52
        },
        "outputId": "a50b86f3-6aa3-406c-cfd9-d1cd0f69ea9c"
      },
      "source": [
        "# The results of a prediction is a probability for each of the 46 classes\n",
        "predictions = model.predict(X_test)\n",
        "\n",
        "print(predictions[0].shape)\n",
        "\n",
        "print(np.sum(predictions[0]))"
      ],
      "execution_count": 35,
      "outputs": [
        {
          "output_type": "stream",
          "text": [
            "(46,)\n",
            "0.99999994\n"
          ],
          "name": "stdout"
        }
      ]
    },
    {
      "cell_type": "markdown",
      "metadata": {
        "id": "2LKBnvYFndQc",
        "colab_type": "text"
      },
      "source": [
        "NB: We could encode the labels as an integer tensor\n",
        "```\n",
        "y_train = np.asarray(train_labels)\n",
        "y_yest = np.asarray(test_labels)\n",
        "```\n",
        "\n",
        "Then, rather than using `categorical_crossentropy`  we would use `sparse_categorical_crossentropy` as the loss function"
      ]
    },
    {
      "cell_type": "code",
      "metadata": {
        "id": "TIRUEEgSn5k4",
        "colab_type": "code",
        "colab": {
          "base_uri": "https://localhost:8080/",
          "height": 729
        },
        "outputId": "f3d432cd-9e71-48b7-fead-511225c0aea5"
      },
      "source": [
        "# Let's see what happens if we randomly introduce a bottleneck in our intermediate layers by \n",
        "# projecting to a 4d subspace (the final outputs are 46-dimensional)\n",
        "\n",
        "model = keras.models.Sequential()\n",
        "model.add(keras.layers.Dense(64, activation=\"relu\", input_shape=(10000,)))\n",
        "model.add(keras.layers.Dense(4, activation=\"relu\"))\n",
        "model.add(keras.layers.Dense(46, activation=\"softmax\"))\n",
        "\n",
        "model.compile(optimizer=\"rmsprop\", loss=\"categorical_crossentropy\", metrics=[\"accuracy\"])\n",
        "\n",
        "history = model.fit(partial_X_train,\n",
        "                   partial_y_train,\n",
        "                   epochs=20,\n",
        "                   batch_size=128,\n",
        "                   validation_data=(X_val, y_val)\n",
        "                   )"
      ],
      "execution_count": 36,
      "outputs": [
        {
          "output_type": "stream",
          "text": [
            "Train on 7982 samples, validate on 1000 samples\n",
            "Epoch 1/20\n",
            "7982/7982 [==============================] - 3s 315us/step - loss: 2.9384 - acc: 0.4513 - val_loss: 2.1625 - val_acc: 0.5940\n",
            "Epoch 2/20\n",
            "7982/7982 [==============================] - 2s 250us/step - loss: 1.7678 - acc: 0.6273 - val_loss: 1.6224 - val_acc: 0.6240\n",
            "Epoch 3/20\n",
            "7982/7982 [==============================] - 2s 249us/step - loss: 1.4338 - acc: 0.6404 - val_loss: 1.4952 - val_acc: 0.6280\n",
            "Epoch 4/20\n",
            "7982/7982 [==============================] - 2s 245us/step - loss: 1.2648 - acc: 0.6546 - val_loss: 1.4131 - val_acc: 0.6370\n",
            "Epoch 5/20\n",
            "7982/7982 [==============================] - 2s 250us/step - loss: 1.1304 - acc: 0.7031 - val_loss: 1.3736 - val_acc: 0.6750\n",
            "Epoch 6/20\n",
            "7982/7982 [==============================] - 2s 254us/step - loss: 1.0169 - acc: 0.7438 - val_loss: 1.3361 - val_acc: 0.6780\n",
            "Epoch 7/20\n",
            "7982/7982 [==============================] - 2s 248us/step - loss: 0.9136 - acc: 0.7761 - val_loss: 1.3031 - val_acc: 0.7020\n",
            "Epoch 8/20\n",
            "7982/7982 [==============================] - 2s 248us/step - loss: 0.8366 - acc: 0.7919 - val_loss: 1.3100 - val_acc: 0.7120\n",
            "Epoch 9/20\n",
            "7982/7982 [==============================] - 2s 252us/step - loss: 0.7757 - acc: 0.8019 - val_loss: 1.3144 - val_acc: 0.7070\n",
            "Epoch 10/20\n",
            "7982/7982 [==============================] - 2s 252us/step - loss: 0.7256 - acc: 0.8069 - val_loss: 1.3189 - val_acc: 0.7080\n",
            "Epoch 11/20\n",
            "7982/7982 [==============================] - 2s 255us/step - loss: 0.6806 - acc: 0.8150 - val_loss: 1.3306 - val_acc: 0.7120\n",
            "Epoch 12/20\n",
            "7982/7982 [==============================] - 2s 246us/step - loss: 0.6426 - acc: 0.8192 - val_loss: 1.3826 - val_acc: 0.7140\n",
            "Epoch 13/20\n",
            "7982/7982 [==============================] - 2s 247us/step - loss: 0.6028 - acc: 0.8255 - val_loss: 1.3829 - val_acc: 0.7190\n",
            "Epoch 14/20\n",
            "7982/7982 [==============================] - 2s 246us/step - loss: 0.5691 - acc: 0.8379 - val_loss: 1.4153 - val_acc: 0.7160\n",
            "Epoch 15/20\n",
            "7982/7982 [==============================] - 2s 247us/step - loss: 0.5403 - acc: 0.8464 - val_loss: 1.4386 - val_acc: 0.7230\n",
            "Epoch 16/20\n",
            "7982/7982 [==============================] - 2s 248us/step - loss: 0.5101 - acc: 0.8572 - val_loss: 1.4961 - val_acc: 0.7160\n",
            "Epoch 17/20\n",
            "7982/7982 [==============================] - 2s 247us/step - loss: 0.4846 - acc: 0.8608 - val_loss: 1.5068 - val_acc: 0.7270\n",
            "Epoch 18/20\n",
            "7982/7982 [==============================] - 2s 245us/step - loss: 0.4627 - acc: 0.8702 - val_loss: 1.5516 - val_acc: 0.7230\n",
            "Epoch 19/20\n",
            "7982/7982 [==============================] - 2s 247us/step - loss: 0.4428 - acc: 0.8795 - val_loss: 1.5547 - val_acc: 0.7360\n",
            "Epoch 20/20\n",
            "7982/7982 [==============================] - 2s 248us/step - loss: 0.4211 - acc: 0.8836 - val_loss: 1.5656 - val_acc: 0.7260\n"
          ],
          "name": "stdout"
        }
      ]
    },
    {
      "cell_type": "markdown",
      "metadata": {
        "id": "ylLU_h_8oyNw",
        "colab_type": "text"
      },
      "source": [
        "The model now peaks are ~74% validation accuracy, versus the ~80% we obtained before"
      ]
    },
    {
      "cell_type": "code",
      "metadata": {
        "id": "EkAIhNZ5pQNl",
        "colab_type": "code",
        "colab": {
          "base_uri": "https://localhost:8080/",
          "height": 729
        },
        "outputId": "8d25cef8-487a-4865-83cf-5f9d48ba1df3"
      },
      "source": [
        "# What about three hidden layers?\n",
        "\n",
        "model = keras.models.Sequential()\n",
        "model.add(keras.layers.Dense(46, activation=\"relu\", input_shape=(10000,)))\n",
        "model.add(keras.layers.Dense(64, activation=\"relu\"))\n",
        "model.add(keras.layers.Dense(64, activation=\"relu\"))\n",
        "model.add(keras.layers.Dense(46, activation=\"softmax\"))\n",
        "\n",
        "model.compile(optimizer=\"rmsprop\", loss=\"categorical_crossentropy\", metrics=[\"accuracy\"])\n",
        "\n",
        "history = model.fit(partial_X_train,\n",
        "                   partial_y_train,\n",
        "                   epochs=20,\n",
        "                   batch_size=128,\n",
        "                   validation_data=(X_val, y_val)\n",
        "                   )"
      ],
      "execution_count": 39,
      "outputs": [
        {
          "output_type": "stream",
          "text": [
            "Train on 7982 samples, validate on 1000 samples\n",
            "Epoch 1/20\n",
            "7982/7982 [==============================] - 3s 340us/step - loss: 1.9726 - acc: 0.5796 - val_loss: 1.3117 - val_acc: 0.7080\n",
            "Epoch 2/20\n",
            "7982/7982 [==============================] - 2s 272us/step - loss: 1.0595 - acc: 0.7606 - val_loss: 1.1413 - val_acc: 0.7330\n",
            "Epoch 3/20\n",
            "7982/7982 [==============================] - 3s 315us/step - loss: 0.7431 - acc: 0.8373 - val_loss: 1.0032 - val_acc: 0.7840\n",
            "Epoch 4/20\n",
            "7982/7982 [==============================] - 2s 279us/step - loss: 0.5306 - acc: 0.8802 - val_loss: 0.9637 - val_acc: 0.7910\n",
            "Epoch 5/20\n",
            "7982/7982 [==============================] - 2s 277us/step - loss: 0.3884 - acc: 0.9108 - val_loss: 1.0381 - val_acc: 0.7970\n",
            "Epoch 6/20\n",
            "7982/7982 [==============================] - 2s 274us/step - loss: 0.3068 - acc: 0.9306 - val_loss: 0.9935 - val_acc: 0.8120\n",
            "Epoch 7/20\n",
            "7982/7982 [==============================] - 2s 271us/step - loss: 0.2428 - acc: 0.9439 - val_loss: 1.0094 - val_acc: 0.8090\n",
            "Epoch 8/20\n",
            "7982/7982 [==============================] - 2s 267us/step - loss: 0.2045 - acc: 0.9504 - val_loss: 1.1191 - val_acc: 0.7820\n",
            "Epoch 9/20\n",
            "7982/7982 [==============================] - 2s 275us/step - loss: 0.1829 - acc: 0.9533 - val_loss: 1.1869 - val_acc: 0.7740\n",
            "Epoch 10/20\n",
            "7982/7982 [==============================] - 2s 278us/step - loss: 0.1668 - acc: 0.9531 - val_loss: 1.1429 - val_acc: 0.8020\n",
            "Epoch 11/20\n",
            "7982/7982 [==============================] - 2s 269us/step - loss: 0.1578 - acc: 0.9540 - val_loss: 1.1592 - val_acc: 0.7840\n",
            "Epoch 12/20\n",
            "7982/7982 [==============================] - 2s 270us/step - loss: 0.1492 - acc: 0.9557 - val_loss: 1.1628 - val_acc: 0.7910\n",
            "Epoch 13/20\n",
            "7982/7982 [==============================] - 2s 275us/step - loss: 0.1398 - acc: 0.9541 - val_loss: 1.2680 - val_acc: 0.7920\n",
            "Epoch 14/20\n",
            "7982/7982 [==============================] - 2s 278us/step - loss: 0.1342 - acc: 0.9554 - val_loss: 1.1901 - val_acc: 0.7900\n",
            "Epoch 15/20\n",
            "7982/7982 [==============================] - 2s 273us/step - loss: 0.1257 - acc: 0.9570 - val_loss: 1.2333 - val_acc: 0.7910\n",
            "Epoch 16/20\n",
            "7982/7982 [==============================] - 2s 273us/step - loss: 0.1236 - acc: 0.9560 - val_loss: 1.2388 - val_acc: 0.7780\n",
            "Epoch 17/20\n",
            "7982/7982 [==============================] - 2s 280us/step - loss: 0.1188 - acc: 0.9580 - val_loss: 1.2608 - val_acc: 0.7800\n",
            "Epoch 18/20\n",
            "7982/7982 [==============================] - 2s 275us/step - loss: 0.1129 - acc: 0.9579 - val_loss: 1.4001 - val_acc: 0.7700\n",
            "Epoch 19/20\n",
            "7982/7982 [==============================] - 2s 270us/step - loss: 0.1130 - acc: 0.9565 - val_loss: 1.2468 - val_acc: 0.7790\n",
            "Epoch 20/20\n",
            "7982/7982 [==============================] - 2s 270us/step - loss: 0.1060 - acc: 0.9574 - val_loss: 1.3214 - val_acc: 0.7880\n"
          ],
          "name": "stdout"
        }
      ]
    },
    {
      "cell_type": "markdown",
      "metadata": {
        "id": "foKtusyTpUXk",
        "colab_type": "text"
      },
      "source": [
        "## Regression\n",
        "\n",
        "Predicting house prices using the classic Boston dataset (features unscaled, and not many datapoints)"
      ]
    },
    {
      "cell_type": "code",
      "metadata": {
        "id": "q5RtkFRzp2HP",
        "colab_type": "code",
        "colab": {
          "base_uri": "https://localhost:8080/",
          "height": 52
        },
        "outputId": "740c3016-cc9f-4942-c1ac-9607f5a77823"
      },
      "source": [
        "(train_data, train_targets), (test_data, test_targets) = keras.datasets.boston_housing.load_data()"
      ],
      "execution_count": 40,
      "outputs": [
        {
          "output_type": "stream",
          "text": [
            "Downloading data from https://s3.amazonaws.com/keras-datasets/boston_housing.npz\n",
            "57344/57026 [==============================] - 0s 1us/step\n"
          ],
          "name": "stdout"
        }
      ]
    },
    {
      "cell_type": "code",
      "metadata": {
        "id": "4rxS8X1ZqkSg",
        "colab_type": "code",
        "colab": {
          "base_uri": "https://localhost:8080/",
          "height": 69
        },
        "outputId": "1a3535ea-e444-4c45-ba3f-18a9aad8327f"
      },
      "source": [
        "print(train_data.shape)\n",
        "print(test_data.shape)\n",
        "print(train_targets[:10])"
      ],
      "execution_count": 44,
      "outputs": [
        {
          "output_type": "stream",
          "text": [
            "(404, 13)\n",
            "(102, 13)\n",
            "[15.2 42.3 50.  21.1 17.7 18.5 11.3 15.6 15.6 14.4]\n"
          ],
          "name": "stdout"
        }
      ]
    },
    {
      "cell_type": "code",
      "metadata": {
        "id": "2fIFO-Q-qoCX",
        "colab_type": "code",
        "colab": {}
      },
      "source": [
        "# First let's scale the data\n",
        "\n",
        "mean  = train_data.mean(axis=0)\n",
        "train_data -= mean\n",
        "std = train_data.std(axis=0)\n",
        "train_data /= std\n",
        "\n",
        "# Note we never use any quantity computed on the test data in the workflow\n",
        "test_data -= mean\n",
        "test_data /= std"
      ],
      "execution_count": 0,
      "outputs": []
    },
    {
      "cell_type": "code",
      "metadata": {
        "id": "gs22l9gErGsA",
        "colab_type": "code",
        "colab": {
          "base_uri": "https://localhost:8080/",
          "height": 104
        },
        "outputId": "8068cf5d-349c-4f76-974f-4d6fecc5264c"
      },
      "source": [
        "print(np.std(train_data, axis=0))\n",
        "print(np.mean(train_data, axis=0))"
      ],
      "execution_count": 49,
      "outputs": [
        {
          "output_type": "stream",
          "text": [
            "[1. 1. 1. 1. 1. 1. 1. 1. 1. 1. 1. 1. 1.]\n",
            "[-1.01541438e-16  1.09923072e-17  1.80933376e-15 -7.80453809e-17\n",
            " -5.25047552e-15  6.43187374e-15  2.98441140e-16  4.94653823e-16\n",
            "  1.12671149e-17 -1.05526149e-16  2.36614908e-14  5.96710525e-15\n",
            "  6.13920356e-16]\n"
          ],
          "name": "stdout"
        }
      ]
    },
    {
      "cell_type": "code",
      "metadata": {
        "id": "wGLveR23rJxp",
        "colab_type": "code",
        "colab": {}
      },
      "source": [
        "def build_model():\n",
        "  \"\"\"\n",
        "  Create a model with two hidden layers, each with 64 units.\n",
        "  \"\"\"\n",
        "  model  = keras.models.Sequential()\n",
        "  model.add(keras.layers.Dense(64, activation=\"relu\", input_shape=(train_data.shape[1],)))\n",
        "  model.add(keras.layers.Dense(64, activation=\"relu\"))  \n",
        "  model.add(keras.layers.Dense(1))  # Note no activation; this is a linear layer\n",
        "  model.compile(optimizer=\"rmsprop\", loss=\"mse\", metrics=[\"mae\"]) #MAE: Mean Absolute Error\n",
        "  return model"
      ],
      "execution_count": 0,
      "outputs": []
    },
    {
      "cell_type": "markdown",
      "metadata": {
        "id": "tb84bNjwrsZ2",
        "colab_type": "text"
      },
      "source": [
        "The dataset is so small that any validation set would have high variance, depending on the exact split. So use K-fold cross-validation."
      ]
    },
    {
      "cell_type": "code",
      "metadata": {
        "id": "mvokhSAIsPL3",
        "colab_type": "code",
        "colab": {
          "base_uri": "https://localhost:8080/",
          "height": 86
        },
        "outputId": "11597ff8-29af-4743-d804-8e1e354cc68b"
      },
      "source": [
        "# K-fold\n",
        "k=4\n",
        "num_val_samples = len(train_data) // k\n",
        "num_epochs = 100\n",
        "all_scores = []\n",
        "\n",
        "for i in range(k):\n",
        "  print(f\"processing fold {i}\")\n",
        "  val_data = train_data[i*num_val_samples: (i+1)*num_val_samples]\n",
        "  val_targets = train_targets[i*num_val_samples: (i+1)*num_val_samples]\n",
        "  \n",
        "  partial_train_data = np.concatenate(\n",
        "    [train_data[:i*num_val_samples],\n",
        "     train_data[(i+1)*num_val_samples:]\n",
        "    ],\n",
        "    axis=0      \n",
        "  )\n",
        "  partial_train_targets = np.concatenate(\n",
        "    [train_targets[:i*num_val_samples],\n",
        "     train_targets[(i+1)*num_val_samples:]\n",
        "    ],\n",
        "    axis=0      \n",
        "  )\n",
        "  model = build_model()\n",
        "  model.fit(partial_train_data, partial_train_targets,\n",
        "           epochs=num_epochs, batch_size=1, verbose=0)\n",
        "  val_mse, val_mae = model.evaluate(val_data, val_targets, verbose=0)\n",
        "  all_scores.append(val_mae)"
      ],
      "execution_count": 55,
      "outputs": [
        {
          "output_type": "stream",
          "text": [
            "processing fold 0\n",
            "processing fold 1\n",
            "processing fold 2\n",
            "processing fold 3\n"
          ],
          "name": "stdout"
        }
      ]
    },
    {
      "cell_type": "code",
      "metadata": {
        "id": "Wr8MzB7qtE_q",
        "colab_type": "code",
        "colab": {
          "base_uri": "https://localhost:8080/",
          "height": 34
        },
        "outputId": "e467255d-6fec-4920-b5a5-f713835cfd2f"
      },
      "source": [
        "all_scores"
      ],
      "execution_count": 56,
      "outputs": [
        {
          "output_type": "execute_result",
          "data": {
            "text/plain": [
              "[2.0543564546226274, 2.3111016514277694, 2.920976410997976, 2.3181440901048114]"
            ]
          },
          "metadata": {
            "tags": []
          },
          "execution_count": 56
        }
      ]
    },
    {
      "cell_type": "code",
      "metadata": {
        "id": "bXTpVeRIzpip",
        "colab_type": "code",
        "colab": {
          "base_uri": "https://localhost:8080/",
          "height": 34
        },
        "outputId": "6225ade4-9d9a-4778-9075-d3f25d50ef19"
      },
      "source": [
        "np.mean(all_scores)"
      ],
      "execution_count": 57,
      "outputs": [
        {
          "output_type": "execute_result",
          "data": {
            "text/plain": [
              "2.401144651788296"
            ]
          },
          "metadata": {
            "tags": []
          },
          "execution_count": 57
        }
      ]
    },
    {
      "cell_type": "code",
      "metadata": {
        "id": "Uf1UoxF_zrW2",
        "colab_type": "code",
        "colab": {
          "base_uri": "https://localhost:8080/",
          "height": 86
        },
        "outputId": "a77b2f81-4e9b-4b6c-c99a-f01ad056e649"
      },
      "source": [
        "# The range is from 10 to 50, and we're out by 2.4. Can we do better with more training?\n",
        "\n",
        "# K-fold\n",
        "num_epochs = 500\n",
        "all_mae_histories = []\n",
        "\n",
        "for i in range(k):\n",
        "  print(f\"processing fold {i}\")\n",
        "  val_data = train_data[i*num_val_samples: (i+1)*num_val_samples]\n",
        "  val_targets = train_targets[i*num_val_samples: (i+1)*num_val_samples]\n",
        "  \n",
        "  partial_train_data = np.concatenate(\n",
        "    [train_data[:i*num_val_samples],\n",
        "     train_data[(i+1)*num_val_samples:]\n",
        "    ],\n",
        "    axis=0      \n",
        "  )\n",
        "  partial_train_targets = np.concatenate(\n",
        "    [train_targets[:i*num_val_samples],\n",
        "     train_targets[(i+1)*num_val_samples:]\n",
        "    ],\n",
        "    axis=0      \n",
        "  )\n",
        "  model = build_model()\n",
        "  history = model.fit(partial_train_data, partial_train_targets,\n",
        "                      validation_data=(val_data, val_targets),\n",
        "           epochs=num_epochs, batch_size=1, verbose=0)\n",
        "  mae_history = history.history[\"val_mean_absolute_error\"]\n",
        "  all_mae_histories.append(mae_history)"
      ],
      "execution_count": 63,
      "outputs": [
        {
          "output_type": "stream",
          "text": [
            "processing fold 0\n",
            "processing fold 1\n",
            "processing fold 2\n",
            "processing fold 3\n"
          ],
          "name": "stdout"
        }
      ]
    },
    {
      "cell_type": "code",
      "metadata": {
        "id": "CvfWDq-i0Lbb",
        "colab_type": "code",
        "colab": {}
      },
      "source": [
        "average_mae_history = [np.mean([x[i] for x in all_mae_histories]) for i in range(num_epochs)] "
      ],
      "execution_count": 0,
      "outputs": []
    },
    {
      "cell_type": "code",
      "metadata": {
        "id": "I01Z2V9aLWcc",
        "colab_type": "code",
        "colab": {
          "base_uri": "https://localhost:8080/",
          "height": 291
        },
        "outputId": "d64e59da-9f67-4a10-a6b2-5a85a72a2ade"
      },
      "source": [
        "plt.plot(range(1, len(average_mae_history)+1), average_mae_history)\n",
        "plt.xlabel(\"Epochs\")\n",
        "plt.ylabel(\"Validation MAE\")\n",
        "plt.show()"
      ],
      "execution_count": 65,
      "outputs": [
        {
          "output_type": "display_data",
          "data": {
            "image/png": "[encoded data removed]",
            "text/plain": [
              "<Figure size 432x288 with 1 Axes>"
            ]
          },
          "metadata": {
            "tags": []
          }
        }
      ]
    },
    {
      "cell_type": "code",
      "metadata": {
        "id": "n_nAIV65LhQ9",
        "colab_type": "code",
        "colab": {
          "base_uri": "https://localhost:8080/",
          "height": 291
        },
        "outputId": "2180ff98-061b-440b-bd00-cc1bfc466752"
      },
      "source": [
        "# It's a bit hard to see what's going on, so omit the first 10 data points\n",
        "# and replace each point with an exponential moving average of the previous points\n",
        "def smooth_curve(points, factor=0.9):\n",
        "  smoothed_points = []\n",
        "  for point in points:\n",
        "    if smoothed_points:\n",
        "      previous = smoothed_points[-1]\n",
        "      smoothed_points.append(previous*factor + point*(1-factor))\n",
        "    else:\n",
        "      smoothed_points.append(point)\n",
        "  return smoothed_points\n",
        "\n",
        "smooth_mae_history = smooth_curve(average_mae_history[10:])\n",
        "\n",
        "plt.plot(range(10, len(smooth_mae_history)+10), smooth_mae_history)\n",
        "plt.xlabel(\"Epochs\")\n",
        "plt.ylabel(\"Smoothed Validation MAE\")\n",
        "plt.show()"
      ],
      "execution_count": 68,
      "outputs": [
        {
          "output_type": "display_data",
          "data": {
            "image/png": "[encoded data removed]",
            "text/plain": [
              "<Figure size 432x288 with 1 Axes>"
            ]
          },
          "metadata": {
            "tags": []
          }
        }
      ]
    },
    {
      "cell_type": "code",
      "metadata": {
        "id": "FCIBHIruMR7W",
        "colab_type": "code",
        "colab": {
          "base_uri": "https://localhost:8080/",
          "height": 52
        },
        "outputId": "275907a7-9eba-43bd-c06a-a960b436fed9"
      },
      "source": [
        "# Fit a final, best model\n",
        "model = build_model()\n",
        "# Train on all the data\n",
        "model.fit(train_data, train_targets,\n",
        "         epochs=80, batch_size=16, verbose=0)\n",
        "test_mse, test_mae = model.evaluate(test_data, test_targets)\n",
        "\n",
        "print(test_mae)"
      ],
      "execution_count": 69,
      "outputs": [
        {
          "output_type": "stream",
          "text": [
            "102/102 [==============================] - 0s 4ms/step\n",
            "2.5627149600608674\n"
          ],
          "name": "stdout"
        }
      ]
    },
    {
      "cell_type": "code",
      "metadata": {
        "id": "axYDhpyRMt_c",
        "colab_type": "code",
        "colab": {}
      },
      "source": [
        ""
      ],
      "execution_count": 0,
      "outputs": []
    }
  ]
}